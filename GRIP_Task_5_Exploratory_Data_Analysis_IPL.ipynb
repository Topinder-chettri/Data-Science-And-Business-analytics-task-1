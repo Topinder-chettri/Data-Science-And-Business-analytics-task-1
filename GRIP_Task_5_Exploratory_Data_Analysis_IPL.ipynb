{
  "nbformat": 4,
  "nbformat_minor": 0,
  "metadata": {
    "colab": {
      "name": "GRIP_Task-5_Exploratory Data  Analysis - IPL.ipynb",
      "provenance": [],
      "collapsed_sections": [],
      "authorship_tag": "ABX9TyPPK1fT/Vf8Om3+G0sCioEh",
      "include_colab_link": true
    },
    "kernelspec": {
      "name": "python3",
      "display_name": "Python 3"
    },
    "language_info": {
      "name": "python"
    }
  },
  "cells": [
    {
      "cell_type": "markdown",
      "metadata": {
        "id": "view-in-github",
        "colab_type": "text"
      },
      "source": [
        "<a href=\"https://colab.research.google.com/github/Topinder-chettri/Data-Science-And-Business-analytics-task-1/blob/main/GRIP_Task_5_Exploratory_Data_Analysis_IPL.ipynb\" target=\"_parent\"><img src=\"https://colab.research.google.com/assets/colab-badge.svg\" alt=\"Open In Colab\"/></a>"
      ]
    },
    {
      "cell_type": "markdown",
      "metadata": {
        "id": "3EUni67tV_uV"
      },
      "source": [
        "# **SUBMITTED BY TOPINDER CHETTRI**"
      ]
    },
    {
      "cell_type": "markdown",
      "metadata": {
        "id": "TS3c9j5xtVSe"
      },
      "source": [
        "**Task-5**\n",
        "\n",
        "● Perform ‘Exploratory Data Analysis’ on dataset  ‘Indian Premier League’\n",
        "\n",
        " ● As a sports analysts, find out the most successful teams, players and factors  contributing win or loss of a team.\n",
        "  \n",
        "  ● Suggest teams or players a company should endorse for its products.\n",
        "  \n",
        "   ● You can choose any of the tool of your choice  (Python/R/Tableau/PowerBI/Excel/SAP/SAS)\n",
        "    ● Dataset: https://bit.ly/34SRn3b \n",
        "  \n",
        "   ● Advanced Level - Create storyboards. Screen-record along with your audio explaining the charts and interpretations. Use annotations, animation and images. \n",
        "  \n",
        "   ● Task submission: 1. Create the dashboards and/or storyboard and record it 2. Upload the recording on Youtube, share the link on LinkedIn 3. Submit LinkedIn post link in Task Submission Form when shared 4. Please read FAQs on how to submit the tasks."
      ]
    },
    {
      "cell_type": "markdown",
      "metadata": {
        "id": "YwFwhFNEW3Nj"
      },
      "source": [
        "**IMPORTING LIBRARIES**"
      ]
    },
    {
      "cell_type": "code",
      "metadata": {
        "id": "Fij_ctqdV4AK"
      },
      "source": [
        "import io\n",
        "import pandas as pd\n",
        "import numpy as np\n",
        "import matplotlib.pyplot as plt\n"
      ],
      "execution_count": null,
      "outputs": []
    },
    {
      "cell_type": "markdown",
      "metadata": {
        "id": "861ydP4vXaEx"
      },
      "source": [
        "**UPLOAD FILE FROM DEVICE**"
      ]
    },
    {
      "cell_type": "code",
      "metadata": {
        "colab": {
          "resources": {
            "http://localhost:8080/nbextensions/google.colab/files.js": {
              "data": "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",
              "ok": true,
              "headers": [
                [
                  "content-type",
                  "application/javascript"
                ]
              ],
              "status": 200,
              "status_text": ""
            }
          },
          "base_uri": "https://localhost:8080/",
          "height": 72
        },
        "id": "CWlu2aDIXY4E",
        "outputId": "4cc684fc-24ca-4fa5-ba14-b85d9d26648f"
      },
      "source": [
        "#file import from device drive\n",
        "from google.colab import files \n",
        "  \n",
        "  \n",
        "uploaded = files.upload()"
      ],
      "execution_count": null,
      "outputs": [
        {
          "output_type": "display_data",
          "data": {
            "text/html": [
              "\n",
              "     <input type=\"file\" id=\"files-9f2a5ad4-b3ec-4310-af7c-2cac5f2b5456\" name=\"files[]\" multiple disabled\n",
              "        style=\"border:none\" />\n",
              "     <output id=\"result-9f2a5ad4-b3ec-4310-af7c-2cac5f2b5456\">\n",
              "      Upload widget is only available when the cell has been executed in the\n",
              "      current browser session. Please rerun this cell to enable.\n",
              "      </output>\n",
              "      <script src=\"/nbextensions/google.colab/files.js\"></script> "
            ],
            "text/plain": [
              "<IPython.core.display.HTML object>"
            ]
          },
          "metadata": {
            "tags": []
          }
        },
        {
          "output_type": "stream",
          "text": [
            "Saving matches.csv to matches (1).csv\n"
          ],
          "name": "stdout"
        }
      ]
    },
    {
      "cell_type": "markdown",
      "metadata": {
        "id": "zt56sGjnuDYX"
      },
      "source": [
        "**READ CSV FILE**"
      ]
    },
    {
      "cell_type": "code",
      "metadata": {
        "colab": {
          "base_uri": "https://localhost:8080/"
        },
        "id": "SOwmFJUVu66X",
        "outputId": "f7e7fdb9-059b-4bb0-bef3-82dc661c5eac"
      },
      "source": [
        "df = pd.read_csv(io.BytesIO(uploaded['matches.csv'])) \n",
        "print(df)"
      ],
      "execution_count": null,
      "outputs": [
        {
          "output_type": "stream",
          "text": [
            "        id  season  ...         umpire2                  umpire3\n",
            "0        1    2017  ...        NJ Llong                      NaN\n",
            "1        2    2017  ...          S Ravi                      NaN\n",
            "2        3    2017  ...       CK Nandan                      NaN\n",
            "3        4    2017  ...   C Shamshuddin                      NaN\n",
            "4        5    2017  ...             NaN                      NaN\n",
            "..     ...     ...  ...             ...                      ...\n",
            "751  11347    2019  ...        O Nandan                   S Ravi\n",
            "752  11412    2019  ...     Nitin Menon                Ian Gould\n",
            "753  11413    2019  ...             NaN                      NaN\n",
            "754  11414    2019  ...  Bruce Oxenford  Chettithody Shamshuddin\n",
            "755  11415    2019  ...       Ian Gould              Nigel Llong\n",
            "\n",
            "[756 rows x 18 columns]\n"
          ],
          "name": "stdout"
        }
      ]
    },
    {
      "cell_type": "code",
      "metadata": {
        "colab": {
          "base_uri": "https://localhost:8080/",
          "height": 445
        },
        "id": "cZfjAgyC3x9s",
        "outputId": "cd7b8130-2d0b-4eeb-b963-797779a41c53"
      },
      "source": [
        "df.head()"
      ],
      "execution_count": null,
      "outputs": [
        {
          "output_type": "execute_result",
          "data": {
            "text/html": [
              "<div>\n",
              "<style scoped>\n",
              "    .dataframe tbody tr th:only-of-type {\n",
              "        vertical-align: middle;\n",
              "    }\n",
              "\n",
              "    .dataframe tbody tr th {\n",
              "        vertical-align: top;\n",
              "    }\n",
              "\n",
              "    .dataframe thead th {\n",
              "        text-align: right;\n",
              "    }\n",
              "</style>\n",
              "<table border=\"1\" class=\"dataframe\">\n",
              "  <thead>\n",
              "    <tr style=\"text-align: right;\">\n",
              "      <th></th>\n",
              "      <th>id</th>\n",
              "      <th>season</th>\n",
              "      <th>city</th>\n",
              "      <th>date</th>\n",
              "      <th>team1</th>\n",
              "      <th>team2</th>\n",
              "      <th>toss_winner</th>\n",
              "      <th>toss_decision</th>\n",
              "      <th>result</th>\n",
              "      <th>dl_applied</th>\n",
              "      <th>winner</th>\n",
              "      <th>win_by_runs</th>\n",
              "      <th>win_by_wickets</th>\n",
              "      <th>player_of_match</th>\n",
              "      <th>venue</th>\n",
              "      <th>umpire1</th>\n",
              "      <th>umpire2</th>\n",
              "      <th>umpire3</th>\n",
              "    </tr>\n",
              "  </thead>\n",
              "  <tbody>\n",
              "    <tr>\n",
              "      <th>0</th>\n",
              "      <td>1</td>\n",
              "      <td>2017</td>\n",
              "      <td>Hyderabad</td>\n",
              "      <td>2017-04-05</td>\n",
              "      <td>Sunrisers Hyderabad</td>\n",
              "      <td>Royal Challengers Bangalore</td>\n",
              "      <td>Royal Challengers Bangalore</td>\n",
              "      <td>field</td>\n",
              "      <td>normal</td>\n",
              "      <td>0</td>\n",
              "      <td>Sunrisers Hyderabad</td>\n",
              "      <td>35</td>\n",
              "      <td>0</td>\n",
              "      <td>Yuvraj Singh</td>\n",
              "      <td>Rajiv Gandhi International Stadium, Uppal</td>\n",
              "      <td>AY Dandekar</td>\n",
              "      <td>NJ Llong</td>\n",
              "      <td>NaN</td>\n",
              "    </tr>\n",
              "    <tr>\n",
              "      <th>1</th>\n",
              "      <td>2</td>\n",
              "      <td>2017</td>\n",
              "      <td>Pune</td>\n",
              "      <td>2017-04-06</td>\n",
              "      <td>Mumbai Indians</td>\n",
              "      <td>Rising Pune Supergiant</td>\n",
              "      <td>Rising Pune Supergiant</td>\n",
              "      <td>field</td>\n",
              "      <td>normal</td>\n",
              "      <td>0</td>\n",
              "      <td>Rising Pune Supergiant</td>\n",
              "      <td>0</td>\n",
              "      <td>7</td>\n",
              "      <td>SPD Smith</td>\n",
              "      <td>Maharashtra Cricket Association Stadium</td>\n",
              "      <td>A Nand Kishore</td>\n",
              "      <td>S Ravi</td>\n",
              "      <td>NaN</td>\n",
              "    </tr>\n",
              "    <tr>\n",
              "      <th>2</th>\n",
              "      <td>3</td>\n",
              "      <td>2017</td>\n",
              "      <td>Rajkot</td>\n",
              "      <td>2017-04-07</td>\n",
              "      <td>Gujarat Lions</td>\n",
              "      <td>Kolkata Knight Riders</td>\n",
              "      <td>Kolkata Knight Riders</td>\n",
              "      <td>field</td>\n",
              "      <td>normal</td>\n",
              "      <td>0</td>\n",
              "      <td>Kolkata Knight Riders</td>\n",
              "      <td>0</td>\n",
              "      <td>10</td>\n",
              "      <td>CA Lynn</td>\n",
              "      <td>Saurashtra Cricket Association Stadium</td>\n",
              "      <td>Nitin Menon</td>\n",
              "      <td>CK Nandan</td>\n",
              "      <td>NaN</td>\n",
              "    </tr>\n",
              "    <tr>\n",
              "      <th>3</th>\n",
              "      <td>4</td>\n",
              "      <td>2017</td>\n",
              "      <td>Indore</td>\n",
              "      <td>2017-04-08</td>\n",
              "      <td>Rising Pune Supergiant</td>\n",
              "      <td>Kings XI Punjab</td>\n",
              "      <td>Kings XI Punjab</td>\n",
              "      <td>field</td>\n",
              "      <td>normal</td>\n",
              "      <td>0</td>\n",
              "      <td>Kings XI Punjab</td>\n",
              "      <td>0</td>\n",
              "      <td>6</td>\n",
              "      <td>GJ Maxwell</td>\n",
              "      <td>Holkar Cricket Stadium</td>\n",
              "      <td>AK Chaudhary</td>\n",
              "      <td>C Shamshuddin</td>\n",
              "      <td>NaN</td>\n",
              "    </tr>\n",
              "    <tr>\n",
              "      <th>4</th>\n",
              "      <td>5</td>\n",
              "      <td>2017</td>\n",
              "      <td>Bangalore</td>\n",
              "      <td>2017-04-08</td>\n",
              "      <td>Royal Challengers Bangalore</td>\n",
              "      <td>Delhi Daredevils</td>\n",
              "      <td>Royal Challengers Bangalore</td>\n",
              "      <td>bat</td>\n",
              "      <td>normal</td>\n",
              "      <td>0</td>\n",
              "      <td>Royal Challengers Bangalore</td>\n",
              "      <td>15</td>\n",
              "      <td>0</td>\n",
              "      <td>KM Jadhav</td>\n",
              "      <td>M Chinnaswamy Stadium</td>\n",
              "      <td>NaN</td>\n",
              "      <td>NaN</td>\n",
              "      <td>NaN</td>\n",
              "    </tr>\n",
              "  </tbody>\n",
              "</table>\n",
              "</div>"
            ],
            "text/plain": [
              "   id  season       city  ...         umpire1        umpire2 umpire3\n",
              "0   1    2017  Hyderabad  ...     AY Dandekar       NJ Llong     NaN\n",
              "1   2    2017       Pune  ...  A Nand Kishore         S Ravi     NaN\n",
              "2   3    2017     Rajkot  ...     Nitin Menon      CK Nandan     NaN\n",
              "3   4    2017     Indore  ...    AK Chaudhary  C Shamshuddin     NaN\n",
              "4   5    2017  Bangalore  ...             NaN            NaN     NaN\n",
              "\n",
              "[5 rows x 18 columns]"
            ]
          },
          "metadata": {
            "tags": []
          },
          "execution_count": 41
        }
      ]
    },
    {
      "cell_type": "code",
      "metadata": {
        "colab": {
          "base_uri": "https://localhost:8080/"
        },
        "id": "sFs7QTeXvOZ8",
        "outputId": "1b86a683-c697-496c-9d6a-8184c4f4c43e"
      },
      "source": [
        "#data detail\n",
        "df.info()"
      ],
      "execution_count": null,
      "outputs": [
        {
          "output_type": "stream",
          "text": [
            "<class 'pandas.core.frame.DataFrame'>\n",
            "RangeIndex: 756 entries, 0 to 755\n",
            "Data columns (total 18 columns):\n",
            " #   Column           Non-Null Count  Dtype \n",
            "---  ------           --------------  ----- \n",
            " 0   id               756 non-null    int64 \n",
            " 1   season           756 non-null    int64 \n",
            " 2   city             749 non-null    object\n",
            " 3   date             756 non-null    object\n",
            " 4   team1            756 non-null    object\n",
            " 5   team2            756 non-null    object\n",
            " 6   toss_winner      756 non-null    object\n",
            " 7   toss_decision    756 non-null    object\n",
            " 8   result           756 non-null    object\n",
            " 9   dl_applied       756 non-null    int64 \n",
            " 10  winner           752 non-null    object\n",
            " 11  win_by_runs      756 non-null    int64 \n",
            " 12  win_by_wickets   756 non-null    int64 \n",
            " 13  player_of_match  752 non-null    object\n",
            " 14  venue            756 non-null    object\n",
            " 15  umpire1          754 non-null    object\n",
            " 16  umpire2          754 non-null    object\n",
            " 17  umpire3          119 non-null    object\n",
            "dtypes: int64(5), object(13)\n",
            "memory usage: 106.4+ KB\n"
          ],
          "name": "stdout"
        }
      ]
    },
    {
      "cell_type": "code",
      "metadata": {
        "colab": {
          "base_uri": "https://localhost:8080/"
        },
        "id": "nb843PsevYQ_",
        "outputId": "d7498f00-0059-4179-bc81-fd7f4ce89c73"
      },
      "source": [
        "#check data shape\n",
        "df.shape"
      ],
      "execution_count": null,
      "outputs": [
        {
          "output_type": "execute_result",
          "data": {
            "text/plain": [
              "(756, 18)"
            ]
          },
          "metadata": {
            "tags": []
          },
          "execution_count": 43
        }
      ]
    },
    {
      "cell_type": "code",
      "metadata": {
        "colab": {
          "base_uri": "https://localhost:8080/"
        },
        "id": "2ydYHlKXvdyM",
        "outputId": "9078d7ba-c3a5-4859-83d5-0a36894b1584"
      },
      "source": [
        "#coloumn\n",
        "df.columns"
      ],
      "execution_count": null,
      "outputs": [
        {
          "output_type": "execute_result",
          "data": {
            "text/plain": [
              "Index(['id', 'season', 'city', 'date', 'team1', 'team2', 'toss_winner',\n",
              "       'toss_decision', 'result', 'dl_applied', 'winner', 'win_by_runs',\n",
              "       'win_by_wickets', 'player_of_match', 'venue', 'umpire1', 'umpire2',\n",
              "       'umpire3'],\n",
              "      dtype='object')"
            ]
          },
          "metadata": {
            "tags": []
          },
          "execution_count": 45
        }
      ]
    },
    {
      "cell_type": "code",
      "metadata": {
        "colab": {
          "base_uri": "https://localhost:8080/"
        },
        "id": "g-e8rFwDvymi",
        "outputId": "a5b5410c-1d6f-4693-ec5e-2a32e4d76639"
      },
      "source": [
        "#check all column unique values\n",
        "df.nunique()"
      ],
      "execution_count": null,
      "outputs": [
        {
          "output_type": "execute_result",
          "data": {
            "text/plain": [
              "id                 756\n",
              "season              12\n",
              "city                32\n",
              "date               546\n",
              "team1               15\n",
              "team2               15\n",
              "toss_winner         15\n",
              "toss_decision        2\n",
              "result               3\n",
              "dl_applied           2\n",
              "winner              15\n",
              "win_by_runs         89\n",
              "win_by_wickets      11\n",
              "player_of_match    226\n",
              "venue               41\n",
              "umpire1             61\n",
              "umpire2             65\n",
              "umpire3             25\n",
              "dtype: int64"
            ]
          },
          "metadata": {
            "tags": []
          },
          "execution_count": 46
        }
      ]
    },
    {
      "cell_type": "code",
      "metadata": {
        "colab": {
          "base_uri": "https://localhost:8080/"
        },
        "id": "BQ-KOk0Cv-rn",
        "outputId": "9c9b70d6-99c9-4367-ac1e-08cd10ef2dbd"
      },
      "source": [
        "#check separete coloumn unique values\n",
        "print(\"coloumn keys\")\n",
        "print(df.columns)\n",
        "x=input(\"\\nEnter a coloumn keys to check unique values\\n\")\n",
        "print(df[x].unique())\n",
        "print(\"\\nlength\")\n",
        "len(df[x].unique())"
      ],
      "execution_count": null,
      "outputs": [
        {
          "output_type": "stream",
          "text": [
            "coloumn keys\n",
            "Index(['id', 'season', 'city', 'date', 'team1', 'team2', 'toss_winner',\n",
            "       'toss_decision', 'result', 'dl_applied', 'winner', 'win_by_runs',\n",
            "       'win_by_wickets', 'player_of_match', 'venue', 'umpire1', 'umpire2',\n",
            "       'umpire3'],\n",
            "      dtype='object')\n",
            "\n",
            "Enter a coloumn keys to check unique values\n",
            "season\n",
            "[2017 2008 2009 2010 2011 2012 2013 2014 2015 2016 2018 2019]\n",
            "\n",
            "length\n"
          ],
          "name": "stdout"
        },
        {
          "output_type": "execute_result",
          "data": {
            "text/plain": [
              "12"
            ]
          },
          "metadata": {
            "tags": []
          },
          "execution_count": 47
        }
      ]
    },
    {
      "cell_type": "code",
      "metadata": {
        "colab": {
          "base_uri": "https://localhost:8080/"
        },
        "id": "xWo1cYjpyEci",
        "outputId": "c334794a-1f32-4d1d-a611-f6a165bca339"
      },
      "source": [
        "#check separete coloumn and count values\n",
        "print(\"coloumn keys\")\n",
        "print(df.columns)\n",
        "y=input(\"\\nEnter a coloumn keys to check unique values\\n\")\n",
        "df[y].value_counts()"
      ],
      "execution_count": null,
      "outputs": [
        {
          "output_type": "stream",
          "text": [
            "coloumn keys\n",
            "Index(['id', 'season', 'city', 'date', 'team1', 'team2', 'toss_winner',\n",
            "       'toss_decision', 'result', 'dl_applied', 'winner', 'win_by_runs',\n",
            "       'win_by_wickets', 'player_of_match', 'venue', 'umpire1', 'umpire2',\n",
            "       'umpire3'],\n",
            "      dtype='object')\n",
            "\n",
            "Enter a coloumn keys to check unique values\n",
            "season\n"
          ],
          "name": "stdout"
        },
        {
          "output_type": "execute_result",
          "data": {
            "text/plain": [
              "2013    76\n",
              "2012    74\n",
              "2011    73\n",
              "2019    60\n",
              "2018    60\n",
              "2016    60\n",
              "2014    60\n",
              "2010    60\n",
              "2017    59\n",
              "2015    59\n",
              "2008    58\n",
              "2009    57\n",
              "Name: season, dtype: int64"
            ]
          },
          "metadata": {
            "tags": []
          },
          "execution_count": 48
        }
      ]
    },
    {
      "cell_type": "markdown",
      "metadata": {
        "id": "lupNF_mnXSVt"
      },
      "source": [
        "# **EXPLORATORY DATA ANALYSIS**"
      ]
    },
    {
      "cell_type": "markdown",
      "metadata": {
        "id": "nXwRtdWmN9ug"
      },
      "source": [
        "**CHECK NULL VALUE**"
      ]
    },
    {
      "cell_type": "code",
      "metadata": {
        "colab": {
          "base_uri": "https://localhost:8080/"
        },
        "id": "zsbmljI1Ntut",
        "outputId": "cbc8bf9d-a636-4ffd-d67a-1d040e876513"
      },
      "source": [
        "df.isnull().any()"
      ],
      "execution_count": null,
      "outputs": [
        {
          "output_type": "execute_result",
          "data": {
            "text/plain": [
              "id                 False\n",
              "season             False\n",
              "city                True\n",
              "date               False\n",
              "team1              False\n",
              "team2              False\n",
              "toss_winner        False\n",
              "toss_decision      False\n",
              "result             False\n",
              "dl_applied         False\n",
              "winner              True\n",
              "win_by_runs        False\n",
              "win_by_wickets     False\n",
              "player_of_match     True\n",
              "venue              False\n",
              "umpire1             True\n",
              "umpire2             True\n",
              "umpire3             True\n",
              "dtype: bool"
            ]
          },
          "metadata": {
            "tags": []
          },
          "execution_count": 49
        }
      ]
    },
    {
      "cell_type": "code",
      "metadata": {
        "colab": {
          "base_uri": "https://localhost:8080/"
        },
        "id": "_1uZ-87pOmv5",
        "outputId": "0f2b8947-494e-47d2-bc9e-500c0aff3846"
      },
      "source": [
        "df.isnull().sum()"
      ],
      "execution_count": null,
      "outputs": [
        {
          "output_type": "execute_result",
          "data": {
            "text/plain": [
              "id                   0\n",
              "season               0\n",
              "city                 7\n",
              "date                 0\n",
              "team1                0\n",
              "team2                0\n",
              "toss_winner          0\n",
              "toss_decision        0\n",
              "result               0\n",
              "dl_applied           0\n",
              "winner               4\n",
              "win_by_runs          0\n",
              "win_by_wickets       0\n",
              "player_of_match      4\n",
              "venue                0\n",
              "umpire1              2\n",
              "umpire2              2\n",
              "umpire3            637\n",
              "dtype: int64"
            ]
          },
          "metadata": {
            "tags": []
          },
          "execution_count": 50
        }
      ]
    },
    {
      "cell_type": "markdown",
      "metadata": {
        "id": "Clbpm5mOOubf"
      },
      "source": [
        "**BASIC STATISTIC DETAIL**"
      ]
    },
    {
      "cell_type": "code",
      "metadata": {
        "colab": {
          "base_uri": "https://localhost:8080/",
          "height": 297
        },
        "id": "AYBkldgCOziq",
        "outputId": "823714a1-33a3-46a2-ac63-5e621eaab0b4"
      },
      "source": [
        "df.describe()"
      ],
      "execution_count": null,
      "outputs": [
        {
          "output_type": "execute_result",
          "data": {
            "text/html": [
              "<div>\n",
              "<style scoped>\n",
              "    .dataframe tbody tr th:only-of-type {\n",
              "        vertical-align: middle;\n",
              "    }\n",
              "\n",
              "    .dataframe tbody tr th {\n",
              "        vertical-align: top;\n",
              "    }\n",
              "\n",
              "    .dataframe thead th {\n",
              "        text-align: right;\n",
              "    }\n",
              "</style>\n",
              "<table border=\"1\" class=\"dataframe\">\n",
              "  <thead>\n",
              "    <tr style=\"text-align: right;\">\n",
              "      <th></th>\n",
              "      <th>id</th>\n",
              "      <th>season</th>\n",
              "      <th>dl_applied</th>\n",
              "      <th>win_by_runs</th>\n",
              "      <th>win_by_wickets</th>\n",
              "    </tr>\n",
              "  </thead>\n",
              "  <tbody>\n",
              "    <tr>\n",
              "      <th>count</th>\n",
              "      <td>756.000000</td>\n",
              "      <td>756.000000</td>\n",
              "      <td>756.000000</td>\n",
              "      <td>756.000000</td>\n",
              "      <td>756.000000</td>\n",
              "    </tr>\n",
              "    <tr>\n",
              "      <th>mean</th>\n",
              "      <td>1792.178571</td>\n",
              "      <td>2013.444444</td>\n",
              "      <td>0.025132</td>\n",
              "      <td>13.283069</td>\n",
              "      <td>3.350529</td>\n",
              "    </tr>\n",
              "    <tr>\n",
              "      <th>std</th>\n",
              "      <td>3464.478148</td>\n",
              "      <td>3.366895</td>\n",
              "      <td>0.156630</td>\n",
              "      <td>23.471144</td>\n",
              "      <td>3.387963</td>\n",
              "    </tr>\n",
              "    <tr>\n",
              "      <th>min</th>\n",
              "      <td>1.000000</td>\n",
              "      <td>2008.000000</td>\n",
              "      <td>0.000000</td>\n",
              "      <td>0.000000</td>\n",
              "      <td>0.000000</td>\n",
              "    </tr>\n",
              "    <tr>\n",
              "      <th>25%</th>\n",
              "      <td>189.750000</td>\n",
              "      <td>2011.000000</td>\n",
              "      <td>0.000000</td>\n",
              "      <td>0.000000</td>\n",
              "      <td>0.000000</td>\n",
              "    </tr>\n",
              "    <tr>\n",
              "      <th>50%</th>\n",
              "      <td>378.500000</td>\n",
              "      <td>2013.000000</td>\n",
              "      <td>0.000000</td>\n",
              "      <td>0.000000</td>\n",
              "      <td>4.000000</td>\n",
              "    </tr>\n",
              "    <tr>\n",
              "      <th>75%</th>\n",
              "      <td>567.250000</td>\n",
              "      <td>2016.000000</td>\n",
              "      <td>0.000000</td>\n",
              "      <td>19.000000</td>\n",
              "      <td>6.000000</td>\n",
              "    </tr>\n",
              "    <tr>\n",
              "      <th>max</th>\n",
              "      <td>11415.000000</td>\n",
              "      <td>2019.000000</td>\n",
              "      <td>1.000000</td>\n",
              "      <td>146.000000</td>\n",
              "      <td>10.000000</td>\n",
              "    </tr>\n",
              "  </tbody>\n",
              "</table>\n",
              "</div>"
            ],
            "text/plain": [
              "                 id       season  dl_applied  win_by_runs  win_by_wickets\n",
              "count    756.000000   756.000000  756.000000   756.000000      756.000000\n",
              "mean    1792.178571  2013.444444    0.025132    13.283069        3.350529\n",
              "std     3464.478148     3.366895    0.156630    23.471144        3.387963\n",
              "min        1.000000  2008.000000    0.000000     0.000000        0.000000\n",
              "25%      189.750000  2011.000000    0.000000     0.000000        0.000000\n",
              "50%      378.500000  2013.000000    0.000000     0.000000        4.000000\n",
              "75%      567.250000  2016.000000    0.000000    19.000000        6.000000\n",
              "max    11415.000000  2019.000000    1.000000   146.000000       10.000000"
            ]
          },
          "metadata": {
            "tags": []
          },
          "execution_count": 51
        }
      ]
    },
    {
      "cell_type": "code",
      "metadata": {
        "colab": {
          "base_uri": "https://localhost:8080/"
        },
        "id": "LpBGNashQ8FU",
        "outputId": "63d49f2b-b903-4855-b975-ce89653b0a0e"
      },
      "source": [
        "#win by maximum runs\n",
        "df[\"win_by_runs\"].max()"
      ],
      "execution_count": null,
      "outputs": [
        {
          "output_type": "execute_result",
          "data": {
            "text/plain": [
              "146"
            ]
          },
          "metadata": {
            "tags": []
          },
          "execution_count": 52
        }
      ]
    },
    {
      "cell_type": "code",
      "metadata": {
        "colab": {
          "base_uri": "https://localhost:8080/"
        },
        "id": "FYD40WIGR4JY",
        "outputId": "5d3d1ff3-33bb-4eff-ab23-c5a205c30461"
      },
      "source": [
        "#win by minimum runs\n",
        "df[\"win_by_runs\"].mean()"
      ],
      "execution_count": null,
      "outputs": [
        {
          "output_type": "execute_result",
          "data": {
            "text/plain": [
              "13.283068783068783"
            ]
          },
          "metadata": {
            "tags": []
          },
          "execution_count": 53
        }
      ]
    },
    {
      "cell_type": "code",
      "metadata": {
        "colab": {
          "base_uri": "https://localhost:8080/"
        },
        "id": "6008fhuBSVZ7",
        "outputId": "87a6b103-4644-448b-b8e1-10eed9bdaece"
      },
      "source": [
        "df[\"win_by_runs\"].value_counts()"
      ],
      "execution_count": null,
      "outputs": [
        {
          "output_type": "execute_result",
          "data": {
            "text/plain": [
              "0      419\n",
              "14      13\n",
              "4       11\n",
              "10      11\n",
              "1       10\n",
              "      ... \n",
              "64       1\n",
              "66       1\n",
              "67       1\n",
              "72       1\n",
              "146      1\n",
              "Name: win_by_runs, Length: 89, dtype: int64"
            ]
          },
          "metadata": {
            "tags": []
          },
          "execution_count": 54
        }
      ]
    },
    {
      "cell_type": "code",
      "metadata": {
        "colab": {
          "base_uri": "https://localhost:8080/"
        },
        "id": "vE5OcPGGXCZo",
        "outputId": "cb530a4a-aeb9-4017-a435-0a4ba93fe21b"
      },
      "source": [
        "#check the win by max run with index\n",
        "df.iloc[df['win_by_runs'].idxmax()]"
      ],
      "execution_count": null,
      "outputs": [
        {
          "output_type": "execute_result",
          "data": {
            "text/plain": [
              "id                               44\n",
              "season                         2017\n",
              "city                          Delhi\n",
              "date                     2017-05-06\n",
              "team1                Mumbai Indians\n",
              "team2              Delhi Daredevils\n",
              "toss_winner        Delhi Daredevils\n",
              "toss_decision                 field\n",
              "result                       normal\n",
              "dl_applied                        0\n",
              "winner               Mumbai Indians\n",
              "win_by_runs                     146\n",
              "win_by_wickets                    0\n",
              "player_of_match         LMP Simmons\n",
              "venue              Feroz Shah Kotla\n",
              "umpire1                 Nitin Menon\n",
              "umpire2                   CK Nandan\n",
              "umpire3                         NaN\n",
              "Name: 43, dtype: object"
            ]
          },
          "metadata": {
            "tags": []
          },
          "execution_count": 55
        }
      ]
    },
    {
      "cell_type": "code",
      "metadata": {
        "colab": {
          "base_uri": "https://localhost:8080/"
        },
        "id": "fsU_NcrpSmOw",
        "outputId": "97115044-1f97-4656-f1a4-9d7a071c7345"
      },
      "source": [
        "#win by maximum number with team (team1)\n",
        "max_win_team1=df.groupby('winner')['win_by_runs'].max().sort_values(ascending = False)\n",
        "max_win_team1"
      ],
      "execution_count": null,
      "outputs": [
        {
          "output_type": "execute_result",
          "data": {
            "text/plain": [
              "winner\n",
              "Mumbai Indians                 146\n",
              "Royal Challengers Bangalore    144\n",
              "Kolkata Knight Riders          140\n",
              "Sunrisers Hyderabad            118\n",
              "Kings XI Punjab                111\n",
              "Rajasthan Royals               105\n",
              "Delhi Daredevils                97\n",
              "Chennai Super Kings             97\n",
              "Deccan Chargers                 82\n",
              "Rising Pune Supergiant          61\n",
              "Delhi Capitals                  39\n",
              "Pune Warriors                   38\n",
              "Rising Pune Supergiants         34\n",
              "Kochi Tuskers Kerala            17\n",
              "Gujarat Lions                    1\n",
              "Name: win_by_runs, dtype: int64"
            ]
          },
          "metadata": {
            "tags": []
          },
          "execution_count": 70
        }
      ]
    },
    {
      "cell_type": "code",
      "metadata": {
        "colab": {
          "base_uri": "https://localhost:8080/",
          "height": 515
        },
        "id": "uYoViY0EUAZq",
        "outputId": "d8897563-999f-423b-dbf0-eff9a527c8fb"
      },
      "source": [
        "# maximum win by run visualization\n",
        "max_win_team1.plot(kind = 'bar',color='c',figsize=(10,5),title=\"Win By Maximum Number Of Runs\\n\")"
      ],
      "execution_count": null,
      "outputs": [
        {
          "output_type": "execute_result",
          "data": {
            "text/plain": [
              "<matplotlib.axes._subplots.AxesSubplot at 0x7fa8ab706d90>"
            ]
          },
          "metadata": {
            "tags": []
          },
          "execution_count": 77
        },
        {
          "output_type": "display_data",
          "data": {
            "image/png": "[encoded data removed]",
            "text/plain": [
              "<Figure size 720x360 with 1 Axes>"
            ]
          },
          "metadata": {
            "tags": [],
            "needs_background": "light"
          }
        }
      ]
    },
    {
      "cell_type": "code",
      "metadata": {
        "colab": {
          "base_uri": "https://localhost:8080/"
        },
        "id": "If6ePYpUWj9E",
        "outputId": "b1daeefa-89e3-4001-ffba-ce951901d36b"
      },
      "source": [
        "#win by maximum number of wickets\n",
        "max_win_team1_0=df.groupby('winner')['win_by_wickets'].max().sort_values(ascending = False)\n",
        "max_win_team1_0"
      ],
      "execution_count": null,
      "outputs": [
        {
          "output_type": "execute_result",
          "data": {
            "text/plain": [
              "winner\n",
              "Sunrisers Hyderabad            10\n",
              "Royal Challengers Bangalore    10\n",
              "Rajasthan Royals               10\n",
              "Mumbai Indians                 10\n",
              "Kolkata Knight Riders          10\n",
              "Kings XI Punjab                10\n",
              "Delhi Daredevils               10\n",
              "Deccan Chargers                10\n",
              "Chennai Super Kings            10\n",
              "Rising Pune Supergiants         9\n",
              "Rising Pune Supergiant          9\n",
              "Kochi Tuskers Kerala            8\n",
              "Pune Warriors                   7\n",
              "Gujarat Lions                   7\n",
              "Delhi Capitals                  7\n",
              "Name: win_by_wickets, dtype: int64"
            ]
          },
          "metadata": {
            "tags": []
          },
          "execution_count": 72
        }
      ]
    },
    {
      "cell_type": "code",
      "metadata": {
        "colab": {
          "base_uri": "https://localhost:8080/",
          "height": 515
        },
        "id": "dzJ3jg7iefU-",
        "outputId": "43a81933-3b13-41f4-a78b-47f0bdfd683f"
      },
      "source": [
        "#maximum win by wicket visualization\n",
        "max_win_team1_0.plot(kind = 'bar',color='lightcoral',figsize=(10,5),title=\"Win By Maximum Number Of Wickets\\n\")"
      ],
      "execution_count": null,
      "outputs": [
        {
          "output_type": "execute_result",
          "data": {
            "text/plain": [
              "<matplotlib.axes._subplots.AxesSubplot at 0x7fa8ab8099d0>"
            ]
          },
          "metadata": {
            "tags": []
          },
          "execution_count": 76
        },
        {
          "output_type": "display_data",
          "data": {
            "image/png": "[encoded data removed]",
            "text/plain": [
              "<Figure size 720x360 with 1 Axes>"
            ]
          },
          "metadata": {
            "tags": [],
            "needs_background": "light"
          }
        }
      ]
    },
    {
      "cell_type": "code",
      "metadata": {
        "colab": {
          "base_uri": "https://localhost:8080/"
        },
        "id": "A4q32b6qjPZr",
        "outputId": "3fee3d38-7807-4449-9be0-aa841752da6c"
      },
      "source": [
        "#count matches\n",
        "season_count=df[\"season\"].value_counts()\n",
        "print(season_count)"
      ],
      "execution_count": null,
      "outputs": [
        {
          "output_type": "stream",
          "text": [
            "2013    76\n",
            "2012    74\n",
            "2011    73\n",
            "2019    60\n",
            "2018    60\n",
            "2016    60\n",
            "2014    60\n",
            "2010    60\n",
            "2017    59\n",
            "2015    59\n",
            "2008    58\n",
            "2009    57\n",
            "Name: season, dtype: int64\n"
          ],
          "name": "stdout"
        }
      ]
    },
    {
      "cell_type": "code",
      "metadata": {
        "colab": {
          "base_uri": "https://localhost:8080/",
          "height": 420
        },
        "id": "RaZYsCLBiDNu",
        "outputId": "dd2b33c1-31b9-4740-80fd-65ef5cc7cab5"
      },
      "source": [
        "#Matched played yearly visualization\n",
        "season_count.plot(kind = 'bar',color='plum',figsize=(20,5),title=\"Matched played yearly\")"
      ],
      "execution_count": null,
      "outputs": [
        {
          "output_type": "execute_result",
          "data": {
            "text/plain": [
              "<matplotlib.axes._subplots.AxesSubplot at 0x7fa8a8d960d0>"
            ]
          },
          "metadata": {
            "tags": []
          },
          "execution_count": 97
        },
        {
          "output_type": "display_data",
          "data": {
            "image/png": "[encoded data removed]",
            "text/plain": [
              "<Figure size 1440x360 with 1 Axes>"
            ]
          },
          "metadata": {
            "tags": [],
            "needs_background": "light"
          }
        }
      ]
    },
    {
      "cell_type": "code",
      "metadata": {
        "colab": {
          "base_uri": "https://localhost:8080/"
        },
        "id": "V4aMMeo2hzdf",
        "outputId": "a029be86-aae9-4b94-e556-309aa73f9e91"
      },
      "source": [
        "#count matches played in city\n",
        "city_count=df[\"city\"].value_counts()\n",
        "print(season_count)\n",
        "\n"
      ],
      "execution_count": null,
      "outputs": [
        {
          "output_type": "stream",
          "text": [
            "Mumbai            101\n",
            "Kolkata            77\n",
            "Delhi              74\n",
            "Bangalore          66\n",
            "Hyderabad          64\n",
            "Chennai            57\n",
            "Jaipur             47\n",
            "Chandigarh         46\n",
            "Pune               38\n",
            "Durban             15\n",
            "Bengaluru          14\n",
            "Visakhapatnam      13\n",
            "Centurion          12\n",
            "Ahmedabad          12\n",
            "Rajkot             10\n",
            "Mohali             10\n",
            "Dharamsala          9\n",
            "Indore              9\n",
            "Johannesburg        8\n",
            "Abu Dhabi           7\n",
            "Port Elizabeth      7\n",
            "Cape Town           7\n",
            "Ranchi              7\n",
            "Cuttack             7\n",
            "Sharjah             6\n",
            "Raipur              6\n",
            "Kochi               5\n",
            "Kanpur              4\n",
            "Nagpur              3\n",
            "Kimberley           3\n",
            "East London         3\n",
            "Bloemfontein        2\n",
            "Name: city, dtype: int64\n"
          ],
          "name": "stdout"
        }
      ]
    },
    {
      "cell_type": "code",
      "metadata": {
        "colab": {
          "base_uri": "https://localhost:8080/",
          "height": 420
        },
        "id": "07O2yCuwk4oC",
        "outputId": "ba9a5c47-e725-40c1-a7b0-22f5ef278100"
      },
      "source": [
        "#most matches played in city visualization\n",
        "city_count.plot(kind = 'bar',color='plum',figsize=(20,5),title=\"Matched played In Cities\")"
      ],
      "execution_count": null,
      "outputs": [
        {
          "output_type": "execute_result",
          "data": {
            "text/plain": [
              "<matplotlib.axes._subplots.AxesSubplot at 0x7fa8a8e2f450>"
            ]
          },
          "metadata": {
            "tags": []
          },
          "execution_count": 96
        },
        {
          "output_type": "display_data",
          "data": {
            "image/png": "[encoded data removed]",
            "text/plain": [
              "<Figure size 1440x360 with 1 Axes>"
            ]
          },
          "metadata": {
            "tags": [],
            "needs_background": "light"
          }
        }
      ]
    },
    {
      "cell_type": "code",
      "metadata": {
        "colab": {
          "base_uri": "https://localhost:8080/"
        },
        "id": "WmqCI7BcmLoj",
        "outputId": "b924ef2b-0e06-4103-f46b-4e5759437ed2"
      },
      "source": [
        "#count toss_winner\n",
        "toss=df[\"toss_winner\"].value_counts()\n",
        "print(toss)\n"
      ],
      "execution_count": null,
      "outputs": [
        {
          "output_type": "stream",
          "text": [
            "Mumbai Indians                 98\n",
            "Kolkata Knight Riders          92\n",
            "Chennai Super Kings            89\n",
            "Royal Challengers Bangalore    81\n",
            "Kings XI Punjab                81\n",
            "Rajasthan Royals               80\n",
            "Delhi Daredevils               80\n",
            "Sunrisers Hyderabad            46\n",
            "Deccan Chargers                43\n",
            "Pune Warriors                  20\n",
            "Gujarat Lions                  15\n",
            "Delhi Capitals                 10\n",
            "Kochi Tuskers Kerala            8\n",
            "Rising Pune Supergiants         7\n",
            "Rising Pune Supergiant          6\n",
            "Name: toss_winner, dtype: int64\n"
          ],
          "name": "stdout"
        }
      ]
    },
    {
      "cell_type": "code",
      "metadata": {
        "colab": {
          "base_uri": "https://localhost:8080/",
          "height": 504
        },
        "id": "eSOdwcKcmrn-",
        "outputId": "2cf082e7-1f73-433e-b180-49aaa77e5a02"
      },
      "source": [
        "#according to tosswinner analysis\n",
        "toss1 =df.groupby(['team1','team2','winner',])['toss_winner','toss_decision'].max().sort_values(by = 'toss_winner',ascending = False)\n",
        "toss1"
      ],
      "execution_count": null,
      "outputs": [
        {
          "output_type": "stream",
          "text": [
            "/usr/local/lib/python3.7/dist-packages/ipykernel_launcher.py:2: FutureWarning: Indexing with multiple keys (implicitly converted to a tuple of keys) will be deprecated, use a list instead.\n",
            "  \n"
          ],
          "name": "stderr"
        },
        {
          "output_type": "execute_result",
          "data": {
            "text/html": [
              "<div>\n",
              "<style scoped>\n",
              "    .dataframe tbody tr th:only-of-type {\n",
              "        vertical-align: middle;\n",
              "    }\n",
              "\n",
              "    .dataframe tbody tr th {\n",
              "        vertical-align: top;\n",
              "    }\n",
              "\n",
              "    .dataframe thead th {\n",
              "        text-align: right;\n",
              "    }\n",
              "</style>\n",
              "<table border=\"1\" class=\"dataframe\">\n",
              "  <thead>\n",
              "    <tr style=\"text-align: right;\">\n",
              "      <th></th>\n",
              "      <th></th>\n",
              "      <th></th>\n",
              "      <th>toss_winner</th>\n",
              "      <th>toss_decision</th>\n",
              "    </tr>\n",
              "    <tr>\n",
              "      <th>team1</th>\n",
              "      <th>team2</th>\n",
              "      <th>winner</th>\n",
              "      <th></th>\n",
              "      <th></th>\n",
              "    </tr>\n",
              "  </thead>\n",
              "  <tbody>\n",
              "    <tr>\n",
              "      <th>Sunrisers Hyderabad</th>\n",
              "      <th>Royal Challengers Bangalore</th>\n",
              "      <th>Sunrisers Hyderabad</th>\n",
              "      <td>Sunrisers Hyderabad</td>\n",
              "      <td>field</td>\n",
              "    </tr>\n",
              "    <tr>\n",
              "      <th>Chennai Super Kings</th>\n",
              "      <th>Sunrisers Hyderabad</th>\n",
              "      <th>Chennai Super Kings</th>\n",
              "      <td>Sunrisers Hyderabad</td>\n",
              "      <td>field</td>\n",
              "    </tr>\n",
              "    <tr>\n",
              "      <th rowspan=\"2\" valign=\"top\">Kings XI Punjab</th>\n",
              "      <th rowspan=\"2\" valign=\"top\">Sunrisers Hyderabad</th>\n",
              "      <th>Kings XI Punjab</th>\n",
              "      <td>Sunrisers Hyderabad</td>\n",
              "      <td>field</td>\n",
              "    </tr>\n",
              "    <tr>\n",
              "      <th>Sunrisers Hyderabad</th>\n",
              "      <td>Sunrisers Hyderabad</td>\n",
              "      <td>field</td>\n",
              "    </tr>\n",
              "    <tr>\n",
              "      <th>Kolkata Knight Riders</th>\n",
              "      <th>Sunrisers Hyderabad</th>\n",
              "      <th>Kolkata Knight Riders</th>\n",
              "      <td>Sunrisers Hyderabad</td>\n",
              "      <td>field</td>\n",
              "    </tr>\n",
              "    <tr>\n",
              "      <th>...</th>\n",
              "      <th>...</th>\n",
              "      <th>...</th>\n",
              "      <td>...</td>\n",
              "      <td>...</td>\n",
              "    </tr>\n",
              "    <tr>\n",
              "      <th>Royal Challengers Bangalore</th>\n",
              "      <th>Deccan Chargers</th>\n",
              "      <th>Deccan Chargers</th>\n",
              "      <td>Deccan Chargers</td>\n",
              "      <td>field</td>\n",
              "    </tr>\n",
              "    <tr>\n",
              "      <th>Chennai Super Kings</th>\n",
              "      <th>Deccan Chargers</th>\n",
              "      <th>Chennai Super Kings</th>\n",
              "      <td>Deccan Chargers</td>\n",
              "      <td>field</td>\n",
              "    </tr>\n",
              "    <tr>\n",
              "      <th>Sunrisers Hyderabad</th>\n",
              "      <th>Chennai Super Kings</th>\n",
              "      <th>Sunrisers Hyderabad</th>\n",
              "      <td>Chennai Super Kings</td>\n",
              "      <td>field</td>\n",
              "    </tr>\n",
              "    <tr>\n",
              "      <th rowspan=\"2\" valign=\"top\">Chennai Super Kings</th>\n",
              "      <th>Pune Warriors</th>\n",
              "      <th>Pune Warriors</th>\n",
              "      <td>Chennai Super Kings</td>\n",
              "      <td>bat</td>\n",
              "    </tr>\n",
              "    <tr>\n",
              "      <th>Kochi Tuskers Kerala</th>\n",
              "      <th>Chennai Super Kings</th>\n",
              "      <td>Chennai Super Kings</td>\n",
              "      <td>bat</td>\n",
              "    </tr>\n",
              "  </tbody>\n",
              "</table>\n",
              "<p>223 rows × 2 columns</p>\n",
              "</div>"
            ],
            "text/plain": [
              "                                                                                       toss_winner toss_decision\n",
              "team1                       team2                       winner                                                  \n",
              "Sunrisers Hyderabad         Royal Challengers Bangalore Sunrisers Hyderabad    Sunrisers Hyderabad         field\n",
              "Chennai Super Kings         Sunrisers Hyderabad         Chennai Super Kings    Sunrisers Hyderabad         field\n",
              "Kings XI Punjab             Sunrisers Hyderabad         Kings XI Punjab        Sunrisers Hyderabad         field\n",
              "                                                        Sunrisers Hyderabad    Sunrisers Hyderabad         field\n",
              "Kolkata Knight Riders       Sunrisers Hyderabad         Kolkata Knight Riders  Sunrisers Hyderabad         field\n",
              "...                                                                                            ...           ...\n",
              "Royal Challengers Bangalore Deccan Chargers             Deccan Chargers            Deccan Chargers         field\n",
              "Chennai Super Kings         Deccan Chargers             Chennai Super Kings        Deccan Chargers         field\n",
              "Sunrisers Hyderabad         Chennai Super Kings         Sunrisers Hyderabad    Chennai Super Kings         field\n",
              "Chennai Super Kings         Pune Warriors               Pune Warriors          Chennai Super Kings           bat\n",
              "                            Kochi Tuskers Kerala        Chennai Super Kings    Chennai Super Kings           bat\n",
              "\n",
              "[223 rows x 2 columns]"
            ]
          },
          "metadata": {
            "tags": []
          },
          "execution_count": 108
        }
      ]
    },
    {
      "cell_type": "code",
      "metadata": {
        "colab": {
          "base_uri": "https://localhost:8080/"
        },
        "id": "2U6yXdyusN6l",
        "outputId": "55dde977-62e0-4cd0-ae16-752338c93db3"
      },
      "source": [
        "#print according to toss_winner \n",
        "team= input(\"enter team name\")\n",
        "individual_toss_winner=toss1[toss1['toss_winner'] == team]\n",
        "print(individual_toss_winner)"
      ],
      "execution_count": null,
      "outputs": [
        {
          "output_type": "stream",
          "text": [
            "enter team nameSunrisers Hyderabad\n",
            "                                                                                             toss_winner toss_decision\n",
            "team1                       team2                       winner                                                        \n",
            "Sunrisers Hyderabad         Royal Challengers Bangalore Sunrisers Hyderabad          Sunrisers Hyderabad         field\n",
            "Chennai Super Kings         Sunrisers Hyderabad         Chennai Super Kings          Sunrisers Hyderabad         field\n",
            "Kings XI Punjab             Sunrisers Hyderabad         Kings XI Punjab              Sunrisers Hyderabad         field\n",
            "                                                        Sunrisers Hyderabad          Sunrisers Hyderabad         field\n",
            "Kolkata Knight Riders       Sunrisers Hyderabad         Kolkata Knight Riders        Sunrisers Hyderabad         field\n",
            "                                                        Sunrisers Hyderabad          Sunrisers Hyderabad         field\n",
            "Mumbai Indians              Sunrisers Hyderabad         Mumbai Indians               Sunrisers Hyderabad         field\n",
            "Gujarat Lions               Sunrisers Hyderabad         Sunrisers Hyderabad          Sunrisers Hyderabad         field\n",
            "Mumbai Indians              Sunrisers Hyderabad         Sunrisers Hyderabad          Sunrisers Hyderabad         field\n",
            "Delhi Daredevils            Sunrisers Hyderabad         Sunrisers Hyderabad          Sunrisers Hyderabad         field\n",
            "Delhi Capitals              Sunrisers Hyderabad         Sunrisers Hyderabad          Sunrisers Hyderabad         field\n",
            "                                                        Delhi Capitals               Sunrisers Hyderabad         field\n",
            "Rising Pune Supergiant      Sunrisers Hyderabad         Rising Pune Supergiant       Sunrisers Hyderabad         field\n",
            "Chennai Super Kings         Sunrisers Hyderabad         Sunrisers Hyderabad          Sunrisers Hyderabad         field\n",
            "Rajasthan Royals            Sunrisers Hyderabad         Sunrisers Hyderabad          Sunrisers Hyderabad         field\n",
            "Sunrisers Hyderabad         Rising Pune Supergiants     Sunrisers Hyderabad          Sunrisers Hyderabad           bat\n",
            "                            Chennai Super Kings         Chennai Super Kings          Sunrisers Hyderabad         field\n",
            "                            Kolkata Knight Riders       Kolkata Knight Riders        Sunrisers Hyderabad         field\n",
            "Royal Challengers Bangalore Sunrisers Hyderabad         Royal Challengers Bangalore  Sunrisers Hyderabad         field\n",
            "                                                        Sunrisers Hyderabad          Sunrisers Hyderabad         field\n",
            "Sunrisers Hyderabad         Mumbai Indians              Mumbai Indians               Sunrisers Hyderabad         field\n",
            "                            Delhi Daredevils            Sunrisers Hyderabad          Sunrisers Hyderabad           bat\n",
            "                            Rajasthan Royals            Rajasthan Royals             Sunrisers Hyderabad         field\n",
            "                            Kings XI Punjab             Sunrisers Hyderabad          Sunrisers Hyderabad         field\n",
            "                            Rajasthan Royals            Sunrisers Hyderabad          Sunrisers Hyderabad         field\n",
            "                            Royal Challengers Bangalore Royal Challengers Bangalore  Sunrisers Hyderabad         field\n"
          ],
          "name": "stdout"
        }
      ]
    },
    {
      "cell_type": "code",
      "metadata": {
        "colab": {
          "base_uri": "https://localhost:8080/"
        },
        "id": "qXINOLGDtzZC",
        "outputId": "c29d5fd8-816c-40af-a7e8-72264ae75608"
      },
      "source": [
        "#count toss_decision according to team by winning toss\n",
        "toss_dec_count=individual_toss_winner[\"toss_decision\"].value_counts()\n",
        "print(toss_dec_count)"
      ],
      "execution_count": null,
      "outputs": [
        {
          "output_type": "stream",
          "text": [
            "field    24\n",
            "bat       2\n",
            "Name: toss_decision, dtype: int64\n"
          ],
          "name": "stdout"
        }
      ]
    },
    {
      "cell_type": "code",
      "metadata": {
        "colab": {
          "base_uri": "https://localhost:8080/",
          "height": 414
        },
        "id": "uMaupptHum0W",
        "outputId": "c24f6fe4-15bd-4c4d-c549-b0bd187498ca"
      },
      "source": [
        "#visualization of count toss_decision according to team by winning toss\n",
        "print(team,\"visualization\\n\")\n",
        "toss_dec_count.plot(kind = 'bar',color='darkseagreen',figsize=(10,5),title=\"Team Decisions By Winning Toss\\n\")"
      ],
      "execution_count": null,
      "outputs": [
        {
          "output_type": "stream",
          "text": [
            "Sunrisers Hyderabad visualization\n",
            "\n"
          ],
          "name": "stdout"
        },
        {
          "output_type": "execute_result",
          "data": {
            "text/plain": [
              "<matplotlib.axes._subplots.AxesSubplot at 0x7fa8a95242d0>"
            ]
          },
          "metadata": {
            "tags": []
          },
          "execution_count": 134
        },
        {
          "output_type": "display_data",
          "data": {
            "image/png": "[encoded data removed]",
            "text/plain": [
              "<Figure size 720x360 with 1 Axes>"
            ]
          },
          "metadata": {
            "tags": [],
            "needs_background": "light"
          }
        }
      ]
    },
    {
      "cell_type": "markdown",
      "metadata": {
        "id": "uNOtSzUC8SYB"
      },
      "source": [
        "**Player Analysis**"
      ]
    },
    {
      "cell_type": "code",
      "metadata": {
        "colab": {
          "base_uri": "https://localhost:8080/"
        },
        "id": "cU65SPeQ8bWM",
        "outputId": "c2af039f-40a3-4032-c05e-1c7c76d307be"
      },
      "source": [
        "#man of the match player name\n",
        "df[\"player_of_match\"].unique()"
      ],
      "execution_count": null,
      "outputs": [
        {
          "output_type": "execute_result",
          "data": {
            "text/plain": [
              "array(['Yuvraj Singh', 'SPD Smith', 'CA Lynn', 'GJ Maxwell', 'KM Jadhav',\n",
              "       'Rashid Khan', 'N Rana', 'AR Patel', 'SV Samson', 'JJ Bumrah',\n",
              "       'SP Narine', 'KA Pollard', 'AJ Tye', 'RV Uthappa', 'CJ Anderson',\n",
              "       'BA Stokes', 'NM Coulter-Nile', 'B Kumar', 'CH Gayle',\n",
              "       'KS Williamson', 'JC Buttler', 'SK Raina', 'MJ McClenaghan',\n",
              "       'MS Dhoni', 'HM Amla', 'G Gambhir', 'LH Ferguson', 'KH Pandya',\n",
              "       'Sandeep Sharma', 'DA Warner', 'RG Sharma', 'Mohammed Shami',\n",
              "       'RA Tripathi', 'RR Pant', 'JD Unadkat', 'LMP Simmons', 'DR Smith',\n",
              "       'S Dhawan', 'MM Sharma', 'SS Iyer', 'WP Saha', 'KK Nair',\n",
              "       'Mohammed Siraj', 'AT Rayudu', 'HV Patel', 'Washington Sundar',\n",
              "       'KV Sharma', 'BB McCullum', 'MEK Hussey', 'MF Maharoof',\n",
              "       'MV Boucher', 'DJ Hussey', 'SR Watson', 'V Sehwag', 'ML Hayden',\n",
              "       'YK Pathan', 'KC Sangakkara', 'JDP Oram', 'AC Gilchrist',\n",
              "       'SM Katich', 'ST Jayasuriya', 'GD McGrath', 'SE Marsh',\n",
              "       'SA Asnodkar', 'R Vinay Kumar', 'IK Pathan', 'SM Pollock',\n",
              "       'Sohail Tanvir', 'S Sreesanth', 'A Nehra', 'SC Ganguly',\n",
              "       'CRD Fernando', 'L Balaji', 'Shoaib Akhtar', 'A Mishra',\n",
              "       'DPMD Jayawardene', 'GC Smith', 'DJ Bravo', 'M Ntini',\n",
              "       'SP Goswami', 'A Kumble', 'KD Karthik', 'JA Morkel', 'P Kumar',\n",
              "       'Umar Gul', 'SR Tendulkar', 'R Dravid', 'DL Vettori', 'RP Singh',\n",
              "       'M Muralitharan', 'AB de Villiers', 'RS Bopara', 'PP Ojha',\n",
              "       'TM Dilshan', 'HH Gibbs', 'DP Nannes', 'JP Duminy', 'SB Jakati',\n",
              "       'JH Kallis', 'A Singh', 'S Badrinath', 'LRPL Taylor',\n",
              "       'Harbhajan Singh', 'R Bhatia', 'SK Warne', 'B Lee', 'BJ Hodge',\n",
              "       'LR Shukla', 'MK Pandey', 'AD Mathews', 'MK Tiwary', 'WPUJC Vaas',\n",
              "       'A Symonds', 'AA Jhunjhunwala', 'J Theron', 'AC Voges', 'NV Ojha',\n",
              "       'SL Malinga', 'M Vijay', 'KP Pietersen', 'PD Collingwood',\n",
              "       'MJ Lumb', 'TL Suman', 'RJ Harris', 'PP Chawla', 'Harmeet Singh',\n",
              "       'R Ashwin', 'R McLaren', 'M Kartik', 'DE Bollinger', 'S Anirudha',\n",
              "       'SK Trivedi', 'SB Wagh', 'PC Valthaty', 'MD Mishra', 'DW Steyn',\n",
              "       'S Sohal', 'MM Patel', 'V Kohli', 'I Sharma', 'J Botha',\n",
              "       'Iqbal Abdulla', 'P Parameswaran', 'R Sharma', 'MR Marsh',\n",
              "       'BA Bhatt', 'S Aravind', nan, 'JEC Franklin', 'RE Levi',\n",
              "       'AM Rahane', 'RA Jadeja', 'MN Samuels', 'M Morkel', 'F du Plessis',\n",
              "       'AD Mascarenhas', 'Shakib Al Hasan', 'JD Ryder', 'S Nadeem',\n",
              "       'KMDN Kulasekara', 'CL White', 'Mandeep Singh', 'P Negi',\n",
              "       'Azhar Mahmood', 'BW Hilfenhaus', 'A Chandila', 'UT Yadav',\n",
              "       'MS Bisla', 'M Vohra', 'GH Vihari', 'AJ Finch', 'JP Faulkner',\n",
              "       'MS Gony', 'DA Miller', 'DJG Sammy', 'MG Johnson', 'KK Cooper',\n",
              "       'PA Patel', 'AP Tare', 'LJ Wright', 'YS Chahal', 'PV Tambe',\n",
              "       'DJ Hooda', 'GJ Bailey', 'AD Russell', 'MA Agarwal', 'MA Starc',\n",
              "       'VR Aaron', 'TA Boult', 'EJG Morgan', 'HH Pandya', 'MC Henriques',\n",
              "       'Z Khan', 'Q de Kock', 'Mustafizur Rahman', 'SA Yadav', 'AB Dinda',\n",
              "       'CH Morris', 'CR Brathwaite', 'MP Stoinis', 'A Zampa',\n",
              "       'BCJ Cutting', 'KL Rahul', 'SW Billings', 'JJ Roy', 'B Stanlake',\n",
              "       'J Archer', 'AS Rajpoot', 'TG Southee', 'AS Yadav', 'M Ur Rahman',\n",
              "       'Ishan Kishan', 'Kuldeep Yadav', 'S Gopal', 'L Ngidi', 'P Shaw',\n",
              "       'J Bairstow', 'S Curran', 'A Joseph', 'K Rabada', 'H Gurney',\n",
              "       'DL Chahar', 'Imran Tahir', 'K Paul', 'K Ahmed', 'S Gill',\n",
              "       'S Hetmyer'], dtype=object)"
            ]
          },
          "metadata": {
            "tags": []
          },
          "execution_count": 141
        }
      ]
    },
    {
      "cell_type": "code",
      "metadata": {
        "colab": {
          "base_uri": "https://localhost:8080/"
        },
        "id": "0hkA8oBi7ZFe",
        "outputId": "a7c2539e-3007-4549-866f-3ef06cce68bc"
      },
      "source": [
        "#top player\n",
        "man_of_the_match=df[\"player_of_match\"].value_counts()\n",
        "print(man_of_the_match)\n"
      ],
      "execution_count": null,
      "outputs": [
        {
          "output_type": "stream",
          "text": [
            "CH Gayle          21\n",
            "AB de Villiers    20\n",
            "MS Dhoni          17\n",
            "RG Sharma         17\n",
            "DA Warner         17\n",
            "                  ..\n",
            "LH Ferguson        1\n",
            "Q de Kock          1\n",
            "YS Chahal          1\n",
            "AC Voges           1\n",
            "K Paul             1\n",
            "Name: player_of_match, Length: 226, dtype: int64\n"
          ],
          "name": "stdout"
        }
      ]
    },
    {
      "cell_type": "code",
      "metadata": {
        "colab": {
          "base_uri": "https://localhost:8080/",
          "height": 393
        },
        "id": "pa-vsofp-A9-",
        "outputId": "18366da7-69e8-4785-d849-0456f615aa4f"
      },
      "source": [
        "#top player visualization\n",
        "man_of_the_match[:10].plot(kind = 'bar',color=\"sandybrown\",figsize=(10,5))"
      ],
      "execution_count": null,
      "outputs": [
        {
          "output_type": "execute_result",
          "data": {
            "text/plain": [
              "<matplotlib.axes._subplots.AxesSubplot at 0x7fa8a7ba0b90>"
            ]
          },
          "metadata": {
            "tags": []
          },
          "execution_count": 147
        },
        {
          "output_type": "display_data",
          "data": {
            "image/png": "[encoded data removed]",
            "text/plain": [
              "<Figure size 720x360 with 1 Axes>"
            ]
          },
          "metadata": {
            "tags": [],
            "needs_background": "light"
          }
        }
      ]
    },
    {
      "cell_type": "code",
      "metadata": {
        "colab": {
          "base_uri": "https://localhost:8080/",
          "height": 504
        },
        "id": "Z69l_Nee9SP-",
        "outputId": "7bbb2c92-6554-45e4-afe5-a99237b6e940"
      },
      "source": [
        "#according to tosswinner player performance  analysis\n",
        "toss2 =df.groupby(['team1','team2','winner'])['player_of_match','toss_decision'].max().sort_values(by = 'player_of_match',ascending = False)\n",
        "toss2"
      ],
      "execution_count": null,
      "outputs": [
        {
          "output_type": "stream",
          "text": [
            "/usr/local/lib/python3.7/dist-packages/ipykernel_launcher.py:2: FutureWarning: Indexing with multiple keys (implicitly converted to a tuple of keys) will be deprecated, use a list instead.\n",
            "  \n"
          ],
          "name": "stderr"
        },
        {
          "output_type": "execute_result",
          "data": {
            "text/html": [
              "<div>\n",
              "<style scoped>\n",
              "    .dataframe tbody tr th:only-of-type {\n",
              "        vertical-align: middle;\n",
              "    }\n",
              "\n",
              "    .dataframe tbody tr th {\n",
              "        vertical-align: top;\n",
              "    }\n",
              "\n",
              "    .dataframe thead th {\n",
              "        text-align: right;\n",
              "    }\n",
              "</style>\n",
              "<table border=\"1\" class=\"dataframe\">\n",
              "  <thead>\n",
              "    <tr style=\"text-align: right;\">\n",
              "      <th></th>\n",
              "      <th></th>\n",
              "      <th></th>\n",
              "      <th>player_of_match</th>\n",
              "      <th>toss_decision</th>\n",
              "    </tr>\n",
              "    <tr>\n",
              "      <th>team1</th>\n",
              "      <th>team2</th>\n",
              "      <th>winner</th>\n",
              "      <th></th>\n",
              "      <th></th>\n",
              "    </tr>\n",
              "  </thead>\n",
              "  <tbody>\n",
              "    <tr>\n",
              "      <th>Chennai Super Kings</th>\n",
              "      <th>Delhi Daredevils</th>\n",
              "      <th>Delhi Daredevils</th>\n",
              "      <td>Z Khan</td>\n",
              "      <td>field</td>\n",
              "    </tr>\n",
              "    <tr>\n",
              "      <th>Sunrisers Hyderabad</th>\n",
              "      <th>Royal Challengers Bangalore</th>\n",
              "      <th>Sunrisers Hyderabad</th>\n",
              "      <td>Yuvraj Singh</td>\n",
              "      <td>field</td>\n",
              "    </tr>\n",
              "    <tr>\n",
              "      <th rowspan=\"2\" valign=\"top\">Royal Challengers Bangalore</th>\n",
              "      <th>Kings XI Punjab</th>\n",
              "      <th>Royal Challengers Bangalore</th>\n",
              "      <td>Yuvraj Singh</td>\n",
              "      <td>field</td>\n",
              "    </tr>\n",
              "    <tr>\n",
              "      <th>Delhi Daredevils</th>\n",
              "      <th>Royal Challengers Bangalore</th>\n",
              "      <td>Yuvraj Singh</td>\n",
              "      <td>field</td>\n",
              "    </tr>\n",
              "    <tr>\n",
              "      <th>Kings XI Punjab</th>\n",
              "      <th>Deccan Chargers</th>\n",
              "      <th>Kings XI Punjab</th>\n",
              "      <td>Yuvraj Singh</td>\n",
              "      <td>field</td>\n",
              "    </tr>\n",
              "    <tr>\n",
              "      <th>...</th>\n",
              "      <th>...</th>\n",
              "      <th>...</th>\n",
              "      <td>...</td>\n",
              "      <td>...</td>\n",
              "    </tr>\n",
              "    <tr>\n",
              "      <th rowspan=\"3\" valign=\"top\">Sunrisers Hyderabad</th>\n",
              "      <th rowspan=\"2\" valign=\"top\">Rising Pune Supergiants</th>\n",
              "      <th>Rising Pune Supergiants</th>\n",
              "      <td>AB Dinda</td>\n",
              "      <td>field</td>\n",
              "    </tr>\n",
              "    <tr>\n",
              "      <th>Sunrisers Hyderabad</th>\n",
              "      <td>A Zampa</td>\n",
              "      <td>bat</td>\n",
              "    </tr>\n",
              "    <tr>\n",
              "      <th>Pune Warriors</th>\n",
              "      <th>Sunrisers Hyderabad</th>\n",
              "      <td>A Mishra</td>\n",
              "      <td>field</td>\n",
              "    </tr>\n",
              "    <tr>\n",
              "      <th>Pune Warriors</th>\n",
              "      <th>Deccan Chargers</th>\n",
              "      <th>Deccan Chargers</th>\n",
              "      <td>A Mishra</td>\n",
              "      <td>field</td>\n",
              "    </tr>\n",
              "    <tr>\n",
              "      <th>Rajasthan Royals</th>\n",
              "      <th>Pune Warriors</th>\n",
              "      <th>Rajasthan Royals</th>\n",
              "      <td>A Chandila</td>\n",
              "      <td>bat</td>\n",
              "    </tr>\n",
              "  </tbody>\n",
              "</table>\n",
              "<p>223 rows × 2 columns</p>\n",
              "</div>"
            ],
            "text/plain": [
              "                                                                                    player_of_match toss_decision\n",
              "team1                       team2                       winner                                                   \n",
              "Chennai Super Kings         Delhi Daredevils            Delhi Daredevils                     Z Khan         field\n",
              "Sunrisers Hyderabad         Royal Challengers Bangalore Sunrisers Hyderabad            Yuvraj Singh         field\n",
              "Royal Challengers Bangalore Kings XI Punjab             Royal Challengers Bangalore    Yuvraj Singh         field\n",
              "                            Delhi Daredevils            Royal Challengers Bangalore    Yuvraj Singh         field\n",
              "Kings XI Punjab             Deccan Chargers             Kings XI Punjab                Yuvraj Singh         field\n",
              "...                                                                                             ...           ...\n",
              "Sunrisers Hyderabad         Rising Pune Supergiants     Rising Pune Supergiants            AB Dinda         field\n",
              "                                                        Sunrisers Hyderabad                 A Zampa           bat\n",
              "                            Pune Warriors               Sunrisers Hyderabad                A Mishra         field\n",
              "Pune Warriors               Deccan Chargers             Deccan Chargers                    A Mishra         field\n",
              "Rajasthan Royals            Pune Warriors               Rajasthan Royals                 A Chandila           bat\n",
              "\n",
              "[223 rows x 2 columns]"
            ]
          },
          "metadata": {
            "tags": []
          },
          "execution_count": 153
        }
      ]
    },
    {
      "cell_type": "code",
      "metadata": {
        "id": "ubJtNw7FAqMb",
        "colab": {
          "base_uri": "https://localhost:8080/"
        },
        "outputId": "00da3fe4-6cd4-4d9a-a085-803e3348d811"
      },
      "source": [
        "#print according to toss_winning player performance\n",
        "player_name= input(\"enter the player name\")\n",
        "individual_player=toss2[toss2['player_of_match'] == player_name]\n",
        "print(individual_player)"
      ],
      "execution_count": 158,
      "outputs": [
        {
          "output_type": "stream",
          "text": [
            "enter the player nameYuvraj Singh\n",
            "                                                                                    player_of_match toss_decision\n",
            "team1                       team2                       winner                                                   \n",
            "Sunrisers Hyderabad         Royal Challengers Bangalore Sunrisers Hyderabad            Yuvraj Singh         field\n",
            "Royal Challengers Bangalore Kings XI Punjab             Royal Challengers Bangalore    Yuvraj Singh         field\n",
            "                            Delhi Daredevils            Royal Challengers Bangalore    Yuvraj Singh         field\n",
            "Kings XI Punjab             Deccan Chargers             Kings XI Punjab                Yuvraj Singh         field\n",
            "Pune Warriors               Delhi Daredevils            Delhi Daredevils               Yuvraj Singh         field\n"
          ],
          "name": "stdout"
        }
      ]
    },
    {
      "cell_type": "code",
      "metadata": {
        "id": "DtZTWavgD4M-"
      },
      "source": [
        ""
      ],
      "execution_count": null,
      "outputs": []
    }
  ]
}