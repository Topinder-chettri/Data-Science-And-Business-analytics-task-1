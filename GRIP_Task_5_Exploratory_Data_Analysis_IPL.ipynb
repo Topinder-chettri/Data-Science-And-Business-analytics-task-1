{
  "nbformat": 4,
  "nbformat_minor": 0,
  "metadata": {
    "colab": {
      "name": "GRIP_Task-5_Exploratory Data  Analysis - IPL.ipynb",
      "provenance": [],
      "collapsed_sections": [],
      "authorship_tag": "ABX9TyMVCMT6vgUrq429kU5GwPBZ",
      "include_colab_link": true
    },
    "kernelspec": {
      "name": "python3",
      "display_name": "Python 3"
    },
    "language_info": {
      "name": "python"
    }
  },
  "cells": [
    {
      "cell_type": "markdown",
      "metadata": {
        "id": "view-in-github",
        "colab_type": "text"
      },
      "source": [
        "<a href=\"https://colab.research.google.com/github/Topinder-chettri/Data-Science-And-Business-analytics-task-1/blob/main/GRIP_Task_5_Exploratory_Data_Analysis_IPL.ipynb\" target=\"_parent\"><img src=\"https://colab.research.google.com/assets/colab-badge.svg\" alt=\"Open In Colab\"/></a>"
      ]
    },
    {
      "cell_type": "markdown",
      "metadata": {
        "id": "3EUni67tV_uV"
      },
      "source": [
        "# **SUBMITTED BY TOPINDER CHETTRI**"
      ]
    },
    {
      "cell_type": "markdown",
      "metadata": {
        "id": "TS3c9j5xtVSe"
      },
      "source": [
        "**Task-5**\n",
        "\n",
        "● Perform ‘Exploratory Data Analysis’ on dataset  ‘Indian Premier League’\n",
        "\n",
        " ● As a sports analysts, find out the most successful teams, players and factors  contributing win or loss of a team.\n",
        "  \n",
        "  ● Suggest teams or players a company should endorse for its products.\n",
        "  \n",
        "   ● You can choose any of the tool of your choice  (Python/R/Tableau/PowerBI/Excel/SAP/SAS)\n",
        "    ● Dataset: https://bit.ly/34SRn3b \n",
        "  \n",
        "   ● Advanced Level - Create storyboards. Screen-record along with your audio explaining the charts and interpretations. Use annotations, animation and images. \n",
        "  \n",
        "   ● Task submission: 1. Create the dashboards and/or storyboard and record it 2. Upload the recording on Youtube, share the link on LinkedIn 3. Submit LinkedIn post link in Task Submission Form when shared 4. Please read FAQs on how to submit the tasks."
      ]
    },
    {
      "cell_type": "markdown",
      "metadata": {
        "id": "YwFwhFNEW3Nj"
      },
      "source": [
        "**IMPORTING LIBRARIES**"
      ]
    },
    {
      "cell_type": "code",
      "metadata": {
        "id": "Fij_ctqdV4AK"
      },
      "source": [
        "import io\n",
        "import pandas as pd\n",
        "import numpy as np\n",
        "import matplotlib.pyplot as plt\n"
      ],
      "execution_count": 1,
      "outputs": []
    },
    {
      "cell_type": "markdown",
      "metadata": {
        "id": "861ydP4vXaEx"
      },
      "source": [
        "**UPLOAD FILE FROM DEVICE**"
      ]
    },
    {
      "cell_type": "code",
      "metadata": {
        "colab": {
          "resources": {
            "http://localhost:8080/nbextensions/google.colab/files.js": {
              "data": "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",
              "ok": true,
              "headers": [
                [
                  "content-type",
                  "application/javascript"
                ]
              ],
              "status": 200,
              "status_text": ""
            }
          },
          "base_uri": "https://localhost:8080/",
          "height": 72
        },
        "id": "CWlu2aDIXY4E",
        "outputId": "0b289438-112e-4b49-cdc4-9c4e6314df90"
      },
      "source": [
        "#file import from device drive\n",
        "from google.colab import files \n",
        "  \n",
        "  \n",
        "uploaded = files.upload()"
      ],
      "execution_count": 2,
      "outputs": [
        {
          "output_type": "display_data",
          "data": {
            "text/html": [
              "\n",
              "     <input type=\"file\" id=\"files-889e2b92-352c-480a-b8f7-6524c35e6c10\" name=\"files[]\" multiple disabled\n",
              "        style=\"border:none\" />\n",
              "     <output id=\"result-889e2b92-352c-480a-b8f7-6524c35e6c10\">\n",
              "      Upload widget is only available when the cell has been executed in the\n",
              "      current browser session. Please rerun this cell to enable.\n",
              "      </output>\n",
              "      <script src=\"/nbextensions/google.colab/files.js\"></script> "
            ],
            "text/plain": [
              "<IPython.core.display.HTML object>"
            ]
          },
          "metadata": {
            "tags": []
          }
        },
        {
          "output_type": "stream",
          "text": [
            "Saving matches.csv to matches.csv\n"
          ],
          "name": "stdout"
        }
      ]
    },
    {
      "cell_type": "markdown",
      "metadata": {
        "id": "zt56sGjnuDYX"
      },
      "source": [
        "**READ CSV FILE**"
      ]
    },
    {
      "cell_type": "code",
      "metadata": {
        "colab": {
          "base_uri": "https://localhost:8080/"
        },
        "id": "SOwmFJUVu66X",
        "outputId": "2dec41a4-3608-4a9c-9fa2-81c38aa29a07"
      },
      "source": [
        "df = pd.read_csv(io.BytesIO(uploaded['matches.csv'])) \n",
        "print(df)"
      ],
      "execution_count": 3,
      "outputs": [
        {
          "output_type": "stream",
          "text": [
            "        id  season  ...         umpire2                  umpire3\n",
            "0        1    2017  ...        NJ Llong                      NaN\n",
            "1        2    2017  ...          S Ravi                      NaN\n",
            "2        3    2017  ...       CK Nandan                      NaN\n",
            "3        4    2017  ...   C Shamshuddin                      NaN\n",
            "4        5    2017  ...             NaN                      NaN\n",
            "..     ...     ...  ...             ...                      ...\n",
            "751  11347    2019  ...        O Nandan                   S Ravi\n",
            "752  11412    2019  ...     Nitin Menon                Ian Gould\n",
            "753  11413    2019  ...             NaN                      NaN\n",
            "754  11414    2019  ...  Bruce Oxenford  Chettithody Shamshuddin\n",
            "755  11415    2019  ...       Ian Gould              Nigel Llong\n",
            "\n",
            "[756 rows x 18 columns]\n"
          ],
          "name": "stdout"
        }
      ]
    },
    {
      "cell_type": "code",
      "metadata": {
        "colab": {
          "base_uri": "https://localhost:8080/",
          "height": 445
        },
        "id": "cZfjAgyC3x9s",
        "outputId": "0a90f5b7-f9e0-4b31-c252-34333ecb6d68"
      },
      "source": [
        "df.head()"
      ],
      "execution_count": 4,
      "outputs": [
        {
          "output_type": "execute_result",
          "data": {
            "text/html": [
              "<div>\n",
              "<style scoped>\n",
              "    .dataframe tbody tr th:only-of-type {\n",
              "        vertical-align: middle;\n",
              "    }\n",
              "\n",
              "    .dataframe tbody tr th {\n",
              "        vertical-align: top;\n",
              "    }\n",
              "\n",
              "    .dataframe thead th {\n",
              "        text-align: right;\n",
              "    }\n",
              "</style>\n",
              "<table border=\"1\" class=\"dataframe\">\n",
              "  <thead>\n",
              "    <tr style=\"text-align: right;\">\n",
              "      <th></th>\n",
              "      <th>id</th>\n",
              "      <th>season</th>\n",
              "      <th>city</th>\n",
              "      <th>date</th>\n",
              "      <th>team1</th>\n",
              "      <th>team2</th>\n",
              "      <th>toss_winner</th>\n",
              "      <th>toss_decision</th>\n",
              "      <th>result</th>\n",
              "      <th>dl_applied</th>\n",
              "      <th>winner</th>\n",
              "      <th>win_by_runs</th>\n",
              "      <th>win_by_wickets</th>\n",
              "      <th>player_of_match</th>\n",
              "      <th>venue</th>\n",
              "      <th>umpire1</th>\n",
              "      <th>umpire2</th>\n",
              "      <th>umpire3</th>\n",
              "    </tr>\n",
              "  </thead>\n",
              "  <tbody>\n",
              "    <tr>\n",
              "      <th>0</th>\n",
              "      <td>1</td>\n",
              "      <td>2017</td>\n",
              "      <td>Hyderabad</td>\n",
              "      <td>2017-04-05</td>\n",
              "      <td>Sunrisers Hyderabad</td>\n",
              "      <td>Royal Challengers Bangalore</td>\n",
              "      <td>Royal Challengers Bangalore</td>\n",
              "      <td>field</td>\n",
              "      <td>normal</td>\n",
              "      <td>0</td>\n",
              "      <td>Sunrisers Hyderabad</td>\n",
              "      <td>35</td>\n",
              "      <td>0</td>\n",
              "      <td>Yuvraj Singh</td>\n",
              "      <td>Rajiv Gandhi International Stadium, Uppal</td>\n",
              "      <td>AY Dandekar</td>\n",
              "      <td>NJ Llong</td>\n",
              "      <td>NaN</td>\n",
              "    </tr>\n",
              "    <tr>\n",
              "      <th>1</th>\n",
              "      <td>2</td>\n",
              "      <td>2017</td>\n",
              "      <td>Pune</td>\n",
              "      <td>2017-04-06</td>\n",
              "      <td>Mumbai Indians</td>\n",
              "      <td>Rising Pune Supergiant</td>\n",
              "      <td>Rising Pune Supergiant</td>\n",
              "      <td>field</td>\n",
              "      <td>normal</td>\n",
              "      <td>0</td>\n",
              "      <td>Rising Pune Supergiant</td>\n",
              "      <td>0</td>\n",
              "      <td>7</td>\n",
              "      <td>SPD Smith</td>\n",
              "      <td>Maharashtra Cricket Association Stadium</td>\n",
              "      <td>A Nand Kishore</td>\n",
              "      <td>S Ravi</td>\n",
              "      <td>NaN</td>\n",
              "    </tr>\n",
              "    <tr>\n",
              "      <th>2</th>\n",
              "      <td>3</td>\n",
              "      <td>2017</td>\n",
              "      <td>Rajkot</td>\n",
              "      <td>2017-04-07</td>\n",
              "      <td>Gujarat Lions</td>\n",
              "      <td>Kolkata Knight Riders</td>\n",
              "      <td>Kolkata Knight Riders</td>\n",
              "      <td>field</td>\n",
              "      <td>normal</td>\n",
              "      <td>0</td>\n",
              "      <td>Kolkata Knight Riders</td>\n",
              "      <td>0</td>\n",
              "      <td>10</td>\n",
              "      <td>CA Lynn</td>\n",
              "      <td>Saurashtra Cricket Association Stadium</td>\n",
              "      <td>Nitin Menon</td>\n",
              "      <td>CK Nandan</td>\n",
              "      <td>NaN</td>\n",
              "    </tr>\n",
              "    <tr>\n",
              "      <th>3</th>\n",
              "      <td>4</td>\n",
              "      <td>2017</td>\n",
              "      <td>Indore</td>\n",
              "      <td>2017-04-08</td>\n",
              "      <td>Rising Pune Supergiant</td>\n",
              "      <td>Kings XI Punjab</td>\n",
              "      <td>Kings XI Punjab</td>\n",
              "      <td>field</td>\n",
              "      <td>normal</td>\n",
              "      <td>0</td>\n",
              "      <td>Kings XI Punjab</td>\n",
              "      <td>0</td>\n",
              "      <td>6</td>\n",
              "      <td>GJ Maxwell</td>\n",
              "      <td>Holkar Cricket Stadium</td>\n",
              "      <td>AK Chaudhary</td>\n",
              "      <td>C Shamshuddin</td>\n",
              "      <td>NaN</td>\n",
              "    </tr>\n",
              "    <tr>\n",
              "      <th>4</th>\n",
              "      <td>5</td>\n",
              "      <td>2017</td>\n",
              "      <td>Bangalore</td>\n",
              "      <td>2017-04-08</td>\n",
              "      <td>Royal Challengers Bangalore</td>\n",
              "      <td>Delhi Daredevils</td>\n",
              "      <td>Royal Challengers Bangalore</td>\n",
              "      <td>bat</td>\n",
              "      <td>normal</td>\n",
              "      <td>0</td>\n",
              "      <td>Royal Challengers Bangalore</td>\n",
              "      <td>15</td>\n",
              "      <td>0</td>\n",
              "      <td>KM Jadhav</td>\n",
              "      <td>M Chinnaswamy Stadium</td>\n",
              "      <td>NaN</td>\n",
              "      <td>NaN</td>\n",
              "      <td>NaN</td>\n",
              "    </tr>\n",
              "  </tbody>\n",
              "</table>\n",
              "</div>"
            ],
            "text/plain": [
              "   id  season       city  ...         umpire1        umpire2 umpire3\n",
              "0   1    2017  Hyderabad  ...     AY Dandekar       NJ Llong     NaN\n",
              "1   2    2017       Pune  ...  A Nand Kishore         S Ravi     NaN\n",
              "2   3    2017     Rajkot  ...     Nitin Menon      CK Nandan     NaN\n",
              "3   4    2017     Indore  ...    AK Chaudhary  C Shamshuddin     NaN\n",
              "4   5    2017  Bangalore  ...             NaN            NaN     NaN\n",
              "\n",
              "[5 rows x 18 columns]"
            ]
          },
          "metadata": {
            "tags": []
          },
          "execution_count": 4
        }
      ]
    },
    {
      "cell_type": "code",
      "metadata": {
        "colab": {
          "base_uri": "https://localhost:8080/"
        },
        "id": "sFs7QTeXvOZ8",
        "outputId": "4fe2d74b-f054-4620-acb5-bfba12aaa58a"
      },
      "source": [
        "#data detail\n",
        "df.info()"
      ],
      "execution_count": 5,
      "outputs": [
        {
          "output_type": "stream",
          "text": [
            "<class 'pandas.core.frame.DataFrame'>\n",
            "RangeIndex: 756 entries, 0 to 755\n",
            "Data columns (total 18 columns):\n",
            " #   Column           Non-Null Count  Dtype \n",
            "---  ------           --------------  ----- \n",
            " 0   id               756 non-null    int64 \n",
            " 1   season           756 non-null    int64 \n",
            " 2   city             749 non-null    object\n",
            " 3   date             756 non-null    object\n",
            " 4   team1            756 non-null    object\n",
            " 5   team2            756 non-null    object\n",
            " 6   toss_winner      756 non-null    object\n",
            " 7   toss_decision    756 non-null    object\n",
            " 8   result           756 non-null    object\n",
            " 9   dl_applied       756 non-null    int64 \n",
            " 10  winner           752 non-null    object\n",
            " 11  win_by_runs      756 non-null    int64 \n",
            " 12  win_by_wickets   756 non-null    int64 \n",
            " 13  player_of_match  752 non-null    object\n",
            " 14  venue            756 non-null    object\n",
            " 15  umpire1          754 non-null    object\n",
            " 16  umpire2          754 non-null    object\n",
            " 17  umpire3          119 non-null    object\n",
            "dtypes: int64(5), object(13)\n",
            "memory usage: 106.4+ KB\n"
          ],
          "name": "stdout"
        }
      ]
    },
    {
      "cell_type": "code",
      "metadata": {
        "colab": {
          "base_uri": "https://localhost:8080/"
        },
        "id": "nb843PsevYQ_",
        "outputId": "b938d7fa-5854-4187-a123-c20bf5ee560b"
      },
      "source": [
        "#check data shape\n",
        "df.shape"
      ],
      "execution_count": 6,
      "outputs": [
        {
          "output_type": "execute_result",
          "data": {
            "text/plain": [
              "(756, 18)"
            ]
          },
          "metadata": {
            "tags": []
          },
          "execution_count": 6
        }
      ]
    },
    {
      "cell_type": "code",
      "metadata": {
        "colab": {
          "base_uri": "https://localhost:8080/"
        },
        "id": "2ydYHlKXvdyM",
        "outputId": "97fb0ebc-7fee-432e-e9ae-1f56ce496f10"
      },
      "source": [
        "#coloumn\n",
        "df.columns"
      ],
      "execution_count": 7,
      "outputs": [
        {
          "output_type": "execute_result",
          "data": {
            "text/plain": [
              "Index(['id', 'season', 'city', 'date', 'team1', 'team2', 'toss_winner',\n",
              "       'toss_decision', 'result', 'dl_applied', 'winner', 'win_by_runs',\n",
              "       'win_by_wickets', 'player_of_match', 'venue', 'umpire1', 'umpire2',\n",
              "       'umpire3'],\n",
              "      dtype='object')"
            ]
          },
          "metadata": {
            "tags": []
          },
          "execution_count": 7
        }
      ]
    },
    {
      "cell_type": "code",
      "metadata": {
        "colab": {
          "base_uri": "https://localhost:8080/"
        },
        "id": "g-e8rFwDvymi",
        "outputId": "eb0cea63-b78d-435c-a261-f7b74172f7e7"
      },
      "source": [
        "#check all column unique values\n",
        "df.nunique()"
      ],
      "execution_count": 8,
      "outputs": [
        {
          "output_type": "execute_result",
          "data": {
            "text/plain": [
              "id                 756\n",
              "season              12\n",
              "city                32\n",
              "date               546\n",
              "team1               15\n",
              "team2               15\n",
              "toss_winner         15\n",
              "toss_decision        2\n",
              "result               3\n",
              "dl_applied           2\n",
              "winner              15\n",
              "win_by_runs         89\n",
              "win_by_wickets      11\n",
              "player_of_match    226\n",
              "venue               41\n",
              "umpire1             61\n",
              "umpire2             65\n",
              "umpire3             25\n",
              "dtype: int64"
            ]
          },
          "metadata": {
            "tags": []
          },
          "execution_count": 8
        }
      ]
    },
    {
      "cell_type": "code",
      "metadata": {
        "colab": {
          "base_uri": "https://localhost:8080/"
        },
        "id": "BQ-KOk0Cv-rn",
        "outputId": "0c0b9550-76ac-4949-fee5-04a47b336b3d"
      },
      "source": [
        "#check separete coloumn unique values\n",
        "print(\"coloumn keys\")\n",
        "print(df.columns)\n",
        "x=input(\"\\nEnter a coloumn keys to check unique values\\n\")\n",
        "print(df[x].unique())\n",
        "print(\"\\nlength\")\n",
        "len(df[x].unique())"
      ],
      "execution_count": 9,
      "outputs": [
        {
          "output_type": "stream",
          "text": [
            "coloumn keys\n",
            "Index(['id', 'season', 'city', 'date', 'team1', 'team2', 'toss_winner',\n",
            "       'toss_decision', 'result', 'dl_applied', 'winner', 'win_by_runs',\n",
            "       'win_by_wickets', 'player_of_match', 'venue', 'umpire1', 'umpire2',\n",
            "       'umpire3'],\n",
            "      dtype='object')\n",
            "\n",
            "Enter a coloumn keys to check unique values\n",
            "season\n",
            "[2017 2008 2009 2010 2011 2012 2013 2014 2015 2016 2018 2019]\n",
            "\n",
            "length\n"
          ],
          "name": "stdout"
        },
        {
          "output_type": "execute_result",
          "data": {
            "text/plain": [
              "12"
            ]
          },
          "metadata": {
            "tags": []
          },
          "execution_count": 9
        }
      ]
    },
    {
      "cell_type": "code",
      "metadata": {
        "colab": {
          "base_uri": "https://localhost:8080/"
        },
        "id": "xWo1cYjpyEci",
        "outputId": "c04cfd5a-5401-465b-b291-86a982429952"
      },
      "source": [
        "#check separete coloumn and count values\n",
        "print(\"coloumn keys\")\n",
        "print(df.columns)\n",
        "y=input(\"\\nEnter a coloumn keys to check unique values\\n\")\n",
        "df[y].value_counts()"
      ],
      "execution_count": 12,
      "outputs": [
        {
          "output_type": "stream",
          "text": [
            "coloumn keys\n",
            "Index(['id', 'season', 'city', 'date', 'team1', 'team2', 'toss_winner',\n",
            "       'toss_decision', 'result', 'dl_applied', 'winner', 'win_by_runs',\n",
            "       'win_by_wickets', 'player_of_match', 'venue', 'umpire1', 'umpire2',\n",
            "       'umpire3'],\n",
            "      dtype='object')\n",
            "\n",
            "Enter a coloumn keys to check unique values\n",
            "season\n"
          ],
          "name": "stdout"
        },
        {
          "output_type": "execute_result",
          "data": {
            "text/plain": [
              "2013    76\n",
              "2012    74\n",
              "2011    73\n",
              "2019    60\n",
              "2018    60\n",
              "2016    60\n",
              "2014    60\n",
              "2010    60\n",
              "2017    59\n",
              "2015    59\n",
              "2008    58\n",
              "2009    57\n",
              "Name: season, dtype: int64"
            ]
          },
          "metadata": {
            "tags": []
          },
          "execution_count": 12
        }
      ]
    },
    {
      "cell_type": "markdown",
      "metadata": {
        "id": "lupNF_mnXSVt"
      },
      "source": [
        "# **EXPLORATORY DATA ANALYSIS**"
      ]
    },
    {
      "cell_type": "markdown",
      "metadata": {
        "id": "nXwRtdWmN9ug"
      },
      "source": [
        "**CHECK NULL VALUE**"
      ]
    },
    {
      "cell_type": "code",
      "metadata": {
        "colab": {
          "base_uri": "https://localhost:8080/"
        },
        "id": "zsbmljI1Ntut",
        "outputId": "dc5a9b0b-f908-4bf2-fb92-c9df5ae14864"
      },
      "source": [
        "df.isnull().any()"
      ],
      "execution_count": 13,
      "outputs": [
        {
          "output_type": "execute_result",
          "data": {
            "text/plain": [
              "id                 False\n",
              "season             False\n",
              "city                True\n",
              "date               False\n",
              "team1              False\n",
              "team2              False\n",
              "toss_winner        False\n",
              "toss_decision      False\n",
              "result             False\n",
              "dl_applied         False\n",
              "winner              True\n",
              "win_by_runs        False\n",
              "win_by_wickets     False\n",
              "player_of_match     True\n",
              "venue              False\n",
              "umpire1             True\n",
              "umpire2             True\n",
              "umpire3             True\n",
              "dtype: bool"
            ]
          },
          "metadata": {
            "tags": []
          },
          "execution_count": 13
        }
      ]
    },
    {
      "cell_type": "code",
      "metadata": {
        "colab": {
          "base_uri": "https://localhost:8080/"
        },
        "id": "_1uZ-87pOmv5",
        "outputId": "c05830f9-bb63-4250-e0c1-826c9bc27cd8"
      },
      "source": [
        "df.isnull().sum()"
      ],
      "execution_count": 14,
      "outputs": [
        {
          "output_type": "execute_result",
          "data": {
            "text/plain": [
              "id                   0\n",
              "season               0\n",
              "city                 7\n",
              "date                 0\n",
              "team1                0\n",
              "team2                0\n",
              "toss_winner          0\n",
              "toss_decision        0\n",
              "result               0\n",
              "dl_applied           0\n",
              "winner               4\n",
              "win_by_runs          0\n",
              "win_by_wickets       0\n",
              "player_of_match      4\n",
              "venue                0\n",
              "umpire1              2\n",
              "umpire2              2\n",
              "umpire3            637\n",
              "dtype: int64"
            ]
          },
          "metadata": {
            "tags": []
          },
          "execution_count": 14
        }
      ]
    },
    {
      "cell_type": "markdown",
      "metadata": {
        "id": "Clbpm5mOOubf"
      },
      "source": [
        "**BASIC STATISTIC DETAIL**"
      ]
    },
    {
      "cell_type": "code",
      "metadata": {
        "colab": {
          "base_uri": "https://localhost:8080/",
          "height": 297
        },
        "id": "AYBkldgCOziq",
        "outputId": "f9cc23eb-fa6e-41f2-ee9d-ac40a73a06cb"
      },
      "source": [
        "df.describe()"
      ],
      "execution_count": 15,
      "outputs": [
        {
          "output_type": "execute_result",
          "data": {
            "text/html": [
              "<div>\n",
              "<style scoped>\n",
              "    .dataframe tbody tr th:only-of-type {\n",
              "        vertical-align: middle;\n",
              "    }\n",
              "\n",
              "    .dataframe tbody tr th {\n",
              "        vertical-align: top;\n",
              "    }\n",
              "\n",
              "    .dataframe thead th {\n",
              "        text-align: right;\n",
              "    }\n",
              "</style>\n",
              "<table border=\"1\" class=\"dataframe\">\n",
              "  <thead>\n",
              "    <tr style=\"text-align: right;\">\n",
              "      <th></th>\n",
              "      <th>id</th>\n",
              "      <th>season</th>\n",
              "      <th>dl_applied</th>\n",
              "      <th>win_by_runs</th>\n",
              "      <th>win_by_wickets</th>\n",
              "    </tr>\n",
              "  </thead>\n",
              "  <tbody>\n",
              "    <tr>\n",
              "      <th>count</th>\n",
              "      <td>756.000000</td>\n",
              "      <td>756.000000</td>\n",
              "      <td>756.000000</td>\n",
              "      <td>756.000000</td>\n",
              "      <td>756.000000</td>\n",
              "    </tr>\n",
              "    <tr>\n",
              "      <th>mean</th>\n",
              "      <td>1792.178571</td>\n",
              "      <td>2013.444444</td>\n",
              "      <td>0.025132</td>\n",
              "      <td>13.283069</td>\n",
              "      <td>3.350529</td>\n",
              "    </tr>\n",
              "    <tr>\n",
              "      <th>std</th>\n",
              "      <td>3464.478148</td>\n",
              "      <td>3.366895</td>\n",
              "      <td>0.156630</td>\n",
              "      <td>23.471144</td>\n",
              "      <td>3.387963</td>\n",
              "    </tr>\n",
              "    <tr>\n",
              "      <th>min</th>\n",
              "      <td>1.000000</td>\n",
              "      <td>2008.000000</td>\n",
              "      <td>0.000000</td>\n",
              "      <td>0.000000</td>\n",
              "      <td>0.000000</td>\n",
              "    </tr>\n",
              "    <tr>\n",
              "      <th>25%</th>\n",
              "      <td>189.750000</td>\n",
              "      <td>2011.000000</td>\n",
              "      <td>0.000000</td>\n",
              "      <td>0.000000</td>\n",
              "      <td>0.000000</td>\n",
              "    </tr>\n",
              "    <tr>\n",
              "      <th>50%</th>\n",
              "      <td>378.500000</td>\n",
              "      <td>2013.000000</td>\n",
              "      <td>0.000000</td>\n",
              "      <td>0.000000</td>\n",
              "      <td>4.000000</td>\n",
              "    </tr>\n",
              "    <tr>\n",
              "      <th>75%</th>\n",
              "      <td>567.250000</td>\n",
              "      <td>2016.000000</td>\n",
              "      <td>0.000000</td>\n",
              "      <td>19.000000</td>\n",
              "      <td>6.000000</td>\n",
              "    </tr>\n",
              "    <tr>\n",
              "      <th>max</th>\n",
              "      <td>11415.000000</td>\n",
              "      <td>2019.000000</td>\n",
              "      <td>1.000000</td>\n",
              "      <td>146.000000</td>\n",
              "      <td>10.000000</td>\n",
              "    </tr>\n",
              "  </tbody>\n",
              "</table>\n",
              "</div>"
            ],
            "text/plain": [
              "                 id       season  dl_applied  win_by_runs  win_by_wickets\n",
              "count    756.000000   756.000000  756.000000   756.000000      756.000000\n",
              "mean    1792.178571  2013.444444    0.025132    13.283069        3.350529\n",
              "std     3464.478148     3.366895    0.156630    23.471144        3.387963\n",
              "min        1.000000  2008.000000    0.000000     0.000000        0.000000\n",
              "25%      189.750000  2011.000000    0.000000     0.000000        0.000000\n",
              "50%      378.500000  2013.000000    0.000000     0.000000        4.000000\n",
              "75%      567.250000  2016.000000    0.000000    19.000000        6.000000\n",
              "max    11415.000000  2019.000000    1.000000   146.000000       10.000000"
            ]
          },
          "metadata": {
            "tags": []
          },
          "execution_count": 15
        }
      ]
    },
    {
      "cell_type": "code",
      "metadata": {
        "colab": {
          "base_uri": "https://localhost:8080/"
        },
        "id": "LpBGNashQ8FU",
        "outputId": "00e0e4d0-15fa-46c0-dd7a-e2b8f33816e6"
      },
      "source": [
        "#Win by maximum runs\n",
        "df[\"win_by_runs\"].max()"
      ],
      "execution_count": 16,
      "outputs": [
        {
          "output_type": "execute_result",
          "data": {
            "text/plain": [
              "146"
            ]
          },
          "metadata": {
            "tags": []
          },
          "execution_count": 16
        }
      ]
    },
    {
      "cell_type": "code",
      "metadata": {
        "colab": {
          "base_uri": "https://localhost:8080/"
        },
        "id": "FYD40WIGR4JY",
        "outputId": "39aef8b2-c924-46c4-8c2b-e0affa1aa783"
      },
      "source": [
        "#Win by Average runs\n",
        "df[\"win_by_runs\"].mean()"
      ],
      "execution_count": 18,
      "outputs": [
        {
          "output_type": "execute_result",
          "data": {
            "text/plain": [
              "13.283068783068783"
            ]
          },
          "metadata": {
            "tags": []
          },
          "execution_count": 18
        }
      ]
    },
    {
      "cell_type": "code",
      "metadata": {
        "colab": {
          "base_uri": "https://localhost:8080/"
        },
        "id": "nZjN7bfKsu1W",
        "outputId": "ee7ec612-528d-476d-f4cb-413f709dd50f"
      },
      "source": [
        "# Win by minimum runs\n",
        "df[\"win_by_runs\"].min()"
      ],
      "execution_count": 19,
      "outputs": [
        {
          "output_type": "execute_result",
          "data": {
            "text/plain": [
              "0"
            ]
          },
          "metadata": {
            "tags": []
          },
          "execution_count": 19
        }
      ]
    },
    {
      "cell_type": "code",
      "metadata": {
        "colab": {
          "base_uri": "https://localhost:8080/"
        },
        "id": "6008fhuBSVZ7",
        "outputId": "7e8a51c8-0a29-486f-964d-e3b9791c29eb"
      },
      "source": [
        "#count win by run\n",
        "df[\"win_by_runs\"].value_counts()"
      ],
      "execution_count": 21,
      "outputs": [
        {
          "output_type": "execute_result",
          "data": {
            "text/plain": [
              "0      419\n",
              "14      13\n",
              "4       11\n",
              "10      11\n",
              "1       10\n",
              "      ... \n",
              "64       1\n",
              "66       1\n",
              "67       1\n",
              "72       1\n",
              "146      1\n",
              "Name: win_by_runs, Length: 89, dtype: int64"
            ]
          },
          "metadata": {
            "tags": []
          },
          "execution_count": 21
        }
      ]
    },
    {
      "cell_type": "code",
      "metadata": {
        "colab": {
          "base_uri": "https://localhost:8080/"
        },
        "id": "vE5OcPGGXCZo",
        "outputId": "e668c99d-ac48-45bd-eaa9-3454136695ed"
      },
      "source": [
        "#check the win by max run with index\n",
        "df.iloc[df['win_by_runs'].idxmax()]"
      ],
      "execution_count": 22,
      "outputs": [
        {
          "output_type": "execute_result",
          "data": {
            "text/plain": [
              "id                               44\n",
              "season                         2017\n",
              "city                          Delhi\n",
              "date                     2017-05-06\n",
              "team1                Mumbai Indians\n",
              "team2              Delhi Daredevils\n",
              "toss_winner        Delhi Daredevils\n",
              "toss_decision                 field\n",
              "result                       normal\n",
              "dl_applied                        0\n",
              "winner               Mumbai Indians\n",
              "win_by_runs                     146\n",
              "win_by_wickets                    0\n",
              "player_of_match         LMP Simmons\n",
              "venue              Feroz Shah Kotla\n",
              "umpire1                 Nitin Menon\n",
              "umpire2                   CK Nandan\n",
              "umpire3                         NaN\n",
              "Name: 43, dtype: object"
            ]
          },
          "metadata": {
            "tags": []
          },
          "execution_count": 22
        }
      ]
    },
    {
      "cell_type": "code",
      "metadata": {
        "colab": {
          "base_uri": "https://localhost:8080/"
        },
        "id": "fsU_NcrpSmOw",
        "outputId": "519fd7af-0a1d-42b9-8596-2d97d297845f"
      },
      "source": [
        "#win by maximum number team \n",
        "max_win_team1=df.groupby('winner')['win_by_runs'].max().sort_values(ascending = False)\n",
        "max_win_team1"
      ],
      "execution_count": 23,
      "outputs": [
        {
          "output_type": "execute_result",
          "data": {
            "text/plain": [
              "winner\n",
              "Mumbai Indians                 146\n",
              "Royal Challengers Bangalore    144\n",
              "Kolkata Knight Riders          140\n",
              "Sunrisers Hyderabad            118\n",
              "Kings XI Punjab                111\n",
              "Rajasthan Royals               105\n",
              "Delhi Daredevils                97\n",
              "Chennai Super Kings             97\n",
              "Deccan Chargers                 82\n",
              "Rising Pune Supergiant          61\n",
              "Delhi Capitals                  39\n",
              "Pune Warriors                   38\n",
              "Rising Pune Supergiants         34\n",
              "Kochi Tuskers Kerala            17\n",
              "Gujarat Lions                    1\n",
              "Name: win_by_runs, dtype: int64"
            ]
          },
          "metadata": {
            "tags": []
          },
          "execution_count": 23
        }
      ]
    },
    {
      "cell_type": "code",
      "metadata": {
        "colab": {
          "base_uri": "https://localhost:8080/",
          "height": 515
        },
        "id": "uYoViY0EUAZq",
        "outputId": "4897b6b4-30ee-45b1-d315-782e45ca67f4"
      },
      "source": [
        "# maximum win by run visualization\n",
        "max_win_team1.plot(kind = 'bar',color='c',figsize=(10,5),title=\"Win By Maximum Number Of Runs\\n\")"
      ],
      "execution_count": 26,
      "outputs": [
        {
          "output_type": "execute_result",
          "data": {
            "text/plain": [
              "<matplotlib.axes._subplots.AxesSubplot at 0x7f173c8965d0>"
            ]
          },
          "metadata": {
            "tags": []
          },
          "execution_count": 26
        },
        {
          "output_type": "display_data",
          "data": {
            "image/png": "[encoded data removed]",
            "text/plain": [
              "<Figure size 720x360 with 1 Axes>"
            ]
          },
          "metadata": {
            "tags": [],
            "needs_background": "light"
          }
        }
      ]
    },
    {
      "cell_type": "code",
      "metadata": {
        "colab": {
          "base_uri": "https://localhost:8080/"
        },
        "id": "If6ePYpUWj9E",
        "outputId": "da38090a-25ef-40c6-b3bd-af687d7eb1a6"
      },
      "source": [
        "#win by maximum number of wickets\n",
        "max_win_team1_0=df.groupby('winner')['win_by_wickets'].max().sort_values(ascending = False)\n",
        "max_win_team1_0"
      ],
      "execution_count": 27,
      "outputs": [
        {
          "output_type": "execute_result",
          "data": {
            "text/plain": [
              "winner\n",
              "Sunrisers Hyderabad            10\n",
              "Royal Challengers Bangalore    10\n",
              "Rajasthan Royals               10\n",
              "Mumbai Indians                 10\n",
              "Kolkata Knight Riders          10\n",
              "Kings XI Punjab                10\n",
              "Delhi Daredevils               10\n",
              "Deccan Chargers                10\n",
              "Chennai Super Kings            10\n",
              "Rising Pune Supergiants         9\n",
              "Rising Pune Supergiant          9\n",
              "Kochi Tuskers Kerala            8\n",
              "Pune Warriors                   7\n",
              "Gujarat Lions                   7\n",
              "Delhi Capitals                  7\n",
              "Name: win_by_wickets, dtype: int64"
            ]
          },
          "metadata": {
            "tags": []
          },
          "execution_count": 27
        }
      ]
    },
    {
      "cell_type": "code",
      "metadata": {
        "colab": {
          "base_uri": "https://localhost:8080/",
          "height": 515
        },
        "id": "dzJ3jg7iefU-",
        "outputId": "c221ec63-9cb9-4257-e511-7d7888c82a36"
      },
      "source": [
        "#maximum win by wicket visualization\n",
        "max_win_team1_0.plot(kind = 'bar',color='lightcoral',figsize=(10,5),title=\"Win By Maximum Number Of Wickets\\n\")"
      ],
      "execution_count": 28,
      "outputs": [
        {
          "output_type": "execute_result",
          "data": {
            "text/plain": [
              "<matplotlib.axes._subplots.AxesSubplot at 0x7f173c833210>"
            ]
          },
          "metadata": {
            "tags": []
          },
          "execution_count": 28
        },
        {
          "output_type": "display_data",
          "data": {
            "image/png": "[encoded data removed]",
            "text/plain": [
              "<Figure size 720x360 with 1 Axes>"
            ]
          },
          "metadata": {
            "tags": [],
            "needs_background": "light"
          }
        }
      ]
    },
    {
      "cell_type": "code",
      "metadata": {
        "colab": {
          "base_uri": "https://localhost:8080/"
        },
        "id": "A4q32b6qjPZr",
        "outputId": "4aba43d8-d896-4a13-bb2e-51f35ac1c940"
      },
      "source": [
        "#count matches\n",
        "season_count=df[\"season\"].value_counts()\n",
        "print(season_count)"
      ],
      "execution_count": 29,
      "outputs": [
        {
          "output_type": "stream",
          "text": [
            "2013    76\n",
            "2012    74\n",
            "2011    73\n",
            "2019    60\n",
            "2018    60\n",
            "2016    60\n",
            "2014    60\n",
            "2010    60\n",
            "2017    59\n",
            "2015    59\n",
            "2008    58\n",
            "2009    57\n",
            "Name: season, dtype: int64\n"
          ],
          "name": "stdout"
        }
      ]
    },
    {
      "cell_type": "code",
      "metadata": {
        "colab": {
          "base_uri": "https://localhost:8080/",
          "height": 368
        },
        "id": "RaZYsCLBiDNu",
        "outputId": "f1a7107d-43ce-4f49-f308-054e8ba0de73"
      },
      "source": [
        "#Matched played yearly visualization\n",
        "season_count.plot(kind = 'bar',color='plum',figsize=(20,5),title=\"Matched played yearly\")"
      ],
      "execution_count": 30,
      "outputs": [
        {
          "output_type": "execute_result",
          "data": {
            "text/plain": [
              "<matplotlib.axes._subplots.AxesSubplot at 0x7f173c761150>"
            ]
          },
          "metadata": {
            "tags": []
          },
          "execution_count": 30
        },
        {
          "output_type": "display_data",
          "data": {
            "image/png": "[encoded data removed]",
            "text/plain": [
              "<Figure size 1440x360 with 1 Axes>"
            ]
          },
          "metadata": {
            "tags": [],
            "needs_background": "light"
          }
        }
      ]
    },
    {
      "cell_type": "code",
      "metadata": {
        "colab": {
          "base_uri": "https://localhost:8080/"
        },
        "id": "V4aMMeo2hzdf",
        "outputId": "d0d3e9b0-102e-4771-9ddc-117c5c21edc9"
      },
      "source": [
        "#count matches played in city\n",
        "city_count=df[\"city\"].value_counts()\n",
        "print(city_count)\n",
        "\n"
      ],
      "execution_count": 33,
      "outputs": [
        {
          "output_type": "stream",
          "text": [
            "Mumbai            101\n",
            "Kolkata            77\n",
            "Delhi              74\n",
            "Bangalore          66\n",
            "Hyderabad          64\n",
            "Chennai            57\n",
            "Jaipur             47\n",
            "Chandigarh         46\n",
            "Pune               38\n",
            "Durban             15\n",
            "Bengaluru          14\n",
            "Visakhapatnam      13\n",
            "Ahmedabad          12\n",
            "Centurion          12\n",
            "Rajkot             10\n",
            "Mohali             10\n",
            "Indore              9\n",
            "Dharamsala          9\n",
            "Johannesburg        8\n",
            "Port Elizabeth      7\n",
            "Abu Dhabi           7\n",
            "Cape Town           7\n",
            "Cuttack             7\n",
            "Ranchi              7\n",
            "Raipur              6\n",
            "Sharjah             6\n",
            "Kochi               5\n",
            "Kanpur              4\n",
            "Kimberley           3\n",
            "Nagpur              3\n",
            "East London         3\n",
            "Bloemfontein        2\n",
            "Name: city, dtype: int64\n"
          ],
          "name": "stdout"
        }
      ]
    },
    {
      "cell_type": "code",
      "metadata": {
        "colab": {
          "base_uri": "https://localhost:8080/",
          "height": 420
        },
        "id": "07O2yCuwk4oC",
        "outputId": "18d1aec1-f96d-4e70-f43f-e9b7e4781316"
      },
      "source": [
        "#most matches played in city visualization\n",
        "city_count.plot(kind = 'bar',color='plum',figsize=(20,5),title=\"Matched played In Cities\")"
      ],
      "execution_count": 34,
      "outputs": [
        {
          "output_type": "execute_result",
          "data": {
            "text/plain": [
              "<matplotlib.axes._subplots.AxesSubplot at 0x7f173c697150>"
            ]
          },
          "metadata": {
            "tags": []
          },
          "execution_count": 34
        },
        {
          "output_type": "display_data",
          "data": {
            "image/png": "[encoded data removed]",
            "text/plain": [
              "<Figure size 1440x360 with 1 Axes>"
            ]
          },
          "metadata": {
            "tags": [],
            "needs_background": "light"
          }
        }
      ]
    },
    {
      "cell_type": "code",
      "metadata": {
        "colab": {
          "base_uri": "https://localhost:8080/"
        },
        "id": "WmqCI7BcmLoj",
        "outputId": "d8c8b868-99fa-401f-d879-994912cd34cc"
      },
      "source": [
        "#count toss_winner\n",
        "toss=df[\"toss_winner\"].value_counts()\n",
        "print(toss)\n"
      ],
      "execution_count": 35,
      "outputs": [
        {
          "output_type": "stream",
          "text": [
            "Mumbai Indians                 98\n",
            "Kolkata Knight Riders          92\n",
            "Chennai Super Kings            89\n",
            "Royal Challengers Bangalore    81\n",
            "Kings XI Punjab                81\n",
            "Rajasthan Royals               80\n",
            "Delhi Daredevils               80\n",
            "Sunrisers Hyderabad            46\n",
            "Deccan Chargers                43\n",
            "Pune Warriors                  20\n",
            "Gujarat Lions                  15\n",
            "Delhi Capitals                 10\n",
            "Kochi Tuskers Kerala            8\n",
            "Rising Pune Supergiants         7\n",
            "Rising Pune Supergiant          6\n",
            "Name: toss_winner, dtype: int64\n"
          ],
          "name": "stdout"
        }
      ]
    },
    {
      "cell_type": "code",
      "metadata": {
        "colab": {
          "base_uri": "https://localhost:8080/"
        },
        "id": "x7Vcnbg-ufxU",
        "outputId": "376084b9-ef26-40d7-cd23-1c124a850dec"
      },
      "source": [
        "#count toss_decision \n",
        "T_D=df[\"toss_decision\"].value_counts()\n",
        "print(T_D)"
      ],
      "execution_count": 36,
      "outputs": [
        {
          "output_type": "stream",
          "text": [
            "field    463\n",
            "bat      293\n",
            "Name: toss_decision, dtype: int64\n"
          ],
          "name": "stdout"
        }
      ]
    },
    {
      "cell_type": "code",
      "metadata": {
        "colab": {
          "base_uri": "https://localhost:8080/",
          "height": 365
        },
        "id": "ovNFk5fyvYu9",
        "outputId": "00197bcc-f2e8-411d-89b0-c8fd5bdda1ff"
      },
      "source": [
        "#most matches played in city visualization\n",
        "T_D.plot(kind = 'bar',color='darkseagreen',figsize=(10,5),title=\"Toss_Decision \")"
      ],
      "execution_count": 39,
      "outputs": [
        {
          "output_type": "execute_result",
          "data": {
            "text/plain": [
              "<matplotlib.axes._subplots.AxesSubplot at 0x7f173c47c0d0>"
            ]
          },
          "metadata": {
            "tags": []
          },
          "execution_count": 39
        },
        {
          "output_type": "display_data",
          "data": {
            "image/png": "[encoded data removed]",
            "text/plain": [
              "<Figure size 720x360 with 1 Axes>"
            ]
          },
          "metadata": {
            "tags": [],
            "needs_background": "light"
          }
        }
      ]
    },
    {
      "cell_type": "code",
      "metadata": {
        "colab": {
          "base_uri": "https://localhost:8080/",
          "height": 504
        },
        "id": "eSOdwcKcmrn-",
        "outputId": "d1acbf16-d73e-45d0-c541-6a4d3931d9b4"
      },
      "source": [
        "#Tosswinner analysis\n",
        "toss1 =df.groupby(['team1','team2','winner',])['toss_winner','toss_decision'].max().sort_values(by = 'toss_winner',ascending = False)\n",
        "toss1"
      ],
      "execution_count": 40,
      "outputs": [
        {
          "output_type": "stream",
          "text": [
            "/usr/local/lib/python3.7/dist-packages/ipykernel_launcher.py:2: FutureWarning: Indexing with multiple keys (implicitly converted to a tuple of keys) will be deprecated, use a list instead.\n",
            "  \n"
          ],
          "name": "stderr"
        },
        {
          "output_type": "execute_result",
          "data": {
            "text/html": [
              "<div>\n",
              "<style scoped>\n",
              "    .dataframe tbody tr th:only-of-type {\n",
              "        vertical-align: middle;\n",
              "    }\n",
              "\n",
              "    .dataframe tbody tr th {\n",
              "        vertical-align: top;\n",
              "    }\n",
              "\n",
              "    .dataframe thead th {\n",
              "        text-align: right;\n",
              "    }\n",
              "</style>\n",
              "<table border=\"1\" class=\"dataframe\">\n",
              "  <thead>\n",
              "    <tr style=\"text-align: right;\">\n",
              "      <th></th>\n",
              "      <th></th>\n",
              "      <th></th>\n",
              "      <th>toss_winner</th>\n",
              "      <th>toss_decision</th>\n",
              "    </tr>\n",
              "    <tr>\n",
              "      <th>team1</th>\n",
              "      <th>team2</th>\n",
              "      <th>winner</th>\n",
              "      <th></th>\n",
              "      <th></th>\n",
              "    </tr>\n",
              "  </thead>\n",
              "  <tbody>\n",
              "    <tr>\n",
              "      <th>Sunrisers Hyderabad</th>\n",
              "      <th>Royal Challengers Bangalore</th>\n",
              "      <th>Sunrisers Hyderabad</th>\n",
              "      <td>Sunrisers Hyderabad</td>\n",
              "      <td>field</td>\n",
              "    </tr>\n",
              "    <tr>\n",
              "      <th>Chennai Super Kings</th>\n",
              "      <th>Sunrisers Hyderabad</th>\n",
              "      <th>Chennai Super Kings</th>\n",
              "      <td>Sunrisers Hyderabad</td>\n",
              "      <td>field</td>\n",
              "    </tr>\n",
              "    <tr>\n",
              "      <th rowspan=\"2\" valign=\"top\">Kings XI Punjab</th>\n",
              "      <th rowspan=\"2\" valign=\"top\">Sunrisers Hyderabad</th>\n",
              "      <th>Kings XI Punjab</th>\n",
              "      <td>Sunrisers Hyderabad</td>\n",
              "      <td>field</td>\n",
              "    </tr>\n",
              "    <tr>\n",
              "      <th>Sunrisers Hyderabad</th>\n",
              "      <td>Sunrisers Hyderabad</td>\n",
              "      <td>field</td>\n",
              "    </tr>\n",
              "    <tr>\n",
              "      <th>Kolkata Knight Riders</th>\n",
              "      <th>Sunrisers Hyderabad</th>\n",
              "      <th>Kolkata Knight Riders</th>\n",
              "      <td>Sunrisers Hyderabad</td>\n",
              "      <td>field</td>\n",
              "    </tr>\n",
              "    <tr>\n",
              "      <th>...</th>\n",
              "      <th>...</th>\n",
              "      <th>...</th>\n",
              "      <td>...</td>\n",
              "      <td>...</td>\n",
              "    </tr>\n",
              "    <tr>\n",
              "      <th>Royal Challengers Bangalore</th>\n",
              "      <th>Deccan Chargers</th>\n",
              "      <th>Deccan Chargers</th>\n",
              "      <td>Deccan Chargers</td>\n",
              "      <td>field</td>\n",
              "    </tr>\n",
              "    <tr>\n",
              "      <th>Chennai Super Kings</th>\n",
              "      <th>Deccan Chargers</th>\n",
              "      <th>Chennai Super Kings</th>\n",
              "      <td>Deccan Chargers</td>\n",
              "      <td>field</td>\n",
              "    </tr>\n",
              "    <tr>\n",
              "      <th>Sunrisers Hyderabad</th>\n",
              "      <th>Chennai Super Kings</th>\n",
              "      <th>Sunrisers Hyderabad</th>\n",
              "      <td>Chennai Super Kings</td>\n",
              "      <td>field</td>\n",
              "    </tr>\n",
              "    <tr>\n",
              "      <th rowspan=\"2\" valign=\"top\">Chennai Super Kings</th>\n",
              "      <th>Pune Warriors</th>\n",
              "      <th>Pune Warriors</th>\n",
              "      <td>Chennai Super Kings</td>\n",
              "      <td>bat</td>\n",
              "    </tr>\n",
              "    <tr>\n",
              "      <th>Kochi Tuskers Kerala</th>\n",
              "      <th>Chennai Super Kings</th>\n",
              "      <td>Chennai Super Kings</td>\n",
              "      <td>bat</td>\n",
              "    </tr>\n",
              "  </tbody>\n",
              "</table>\n",
              "<p>223 rows × 2 columns</p>\n",
              "</div>"
            ],
            "text/plain": [
              "                                                                                       toss_winner toss_decision\n",
              "team1                       team2                       winner                                                  \n",
              "Sunrisers Hyderabad         Royal Challengers Bangalore Sunrisers Hyderabad    Sunrisers Hyderabad         field\n",
              "Chennai Super Kings         Sunrisers Hyderabad         Chennai Super Kings    Sunrisers Hyderabad         field\n",
              "Kings XI Punjab             Sunrisers Hyderabad         Kings XI Punjab        Sunrisers Hyderabad         field\n",
              "                                                        Sunrisers Hyderabad    Sunrisers Hyderabad         field\n",
              "Kolkata Knight Riders       Sunrisers Hyderabad         Kolkata Knight Riders  Sunrisers Hyderabad         field\n",
              "...                                                                                            ...           ...\n",
              "Royal Challengers Bangalore Deccan Chargers             Deccan Chargers            Deccan Chargers         field\n",
              "Chennai Super Kings         Deccan Chargers             Chennai Super Kings        Deccan Chargers         field\n",
              "Sunrisers Hyderabad         Chennai Super Kings         Sunrisers Hyderabad    Chennai Super Kings         field\n",
              "Chennai Super Kings         Pune Warriors               Pune Warriors          Chennai Super Kings           bat\n",
              "                            Kochi Tuskers Kerala        Chennai Super Kings    Chennai Super Kings           bat\n",
              "\n",
              "[223 rows x 2 columns]"
            ]
          },
          "metadata": {
            "tags": []
          },
          "execution_count": 40
        }
      ]
    },
    {
      "cell_type": "code",
      "metadata": {
        "colab": {
          "base_uri": "https://localhost:8080/"
        },
        "id": "2U6yXdyusN6l",
        "outputId": "53a13bc6-98c1-4fd7-8d91-608f382db687"
      },
      "source": [
        "#print according to toss_winner \n",
        "team= input(\"enter team name\")\n",
        "individual_toss_winner=toss1[toss1['toss_winner'] == team]\n",
        "print(individual_toss_winner)"
      ],
      "execution_count": 41,
      "outputs": [
        {
          "output_type": "stream",
          "text": [
            "enter team nameSunrisers Hyderabad\n",
            "                                                                                             toss_winner toss_decision\n",
            "team1                       team2                       winner                                                        \n",
            "Sunrisers Hyderabad         Royal Challengers Bangalore Sunrisers Hyderabad          Sunrisers Hyderabad         field\n",
            "Chennai Super Kings         Sunrisers Hyderabad         Chennai Super Kings          Sunrisers Hyderabad         field\n",
            "Kings XI Punjab             Sunrisers Hyderabad         Kings XI Punjab              Sunrisers Hyderabad         field\n",
            "                                                        Sunrisers Hyderabad          Sunrisers Hyderabad         field\n",
            "Kolkata Knight Riders       Sunrisers Hyderabad         Kolkata Knight Riders        Sunrisers Hyderabad         field\n",
            "                                                        Sunrisers Hyderabad          Sunrisers Hyderabad         field\n",
            "Mumbai Indians              Sunrisers Hyderabad         Mumbai Indians               Sunrisers Hyderabad         field\n",
            "Gujarat Lions               Sunrisers Hyderabad         Sunrisers Hyderabad          Sunrisers Hyderabad         field\n",
            "Mumbai Indians              Sunrisers Hyderabad         Sunrisers Hyderabad          Sunrisers Hyderabad         field\n",
            "Delhi Daredevils            Sunrisers Hyderabad         Sunrisers Hyderabad          Sunrisers Hyderabad         field\n",
            "Delhi Capitals              Sunrisers Hyderabad         Sunrisers Hyderabad          Sunrisers Hyderabad         field\n",
            "                                                        Delhi Capitals               Sunrisers Hyderabad         field\n",
            "Rising Pune Supergiant      Sunrisers Hyderabad         Rising Pune Supergiant       Sunrisers Hyderabad         field\n",
            "Chennai Super Kings         Sunrisers Hyderabad         Sunrisers Hyderabad          Sunrisers Hyderabad         field\n",
            "Rajasthan Royals            Sunrisers Hyderabad         Sunrisers Hyderabad          Sunrisers Hyderabad         field\n",
            "Sunrisers Hyderabad         Rising Pune Supergiants     Sunrisers Hyderabad          Sunrisers Hyderabad           bat\n",
            "                            Chennai Super Kings         Chennai Super Kings          Sunrisers Hyderabad         field\n",
            "                            Kolkata Knight Riders       Kolkata Knight Riders        Sunrisers Hyderabad         field\n",
            "Royal Challengers Bangalore Sunrisers Hyderabad         Royal Challengers Bangalore  Sunrisers Hyderabad         field\n",
            "                                                        Sunrisers Hyderabad          Sunrisers Hyderabad         field\n",
            "Sunrisers Hyderabad         Mumbai Indians              Mumbai Indians               Sunrisers Hyderabad         field\n",
            "                            Delhi Daredevils            Sunrisers Hyderabad          Sunrisers Hyderabad           bat\n",
            "                            Rajasthan Royals            Rajasthan Royals             Sunrisers Hyderabad         field\n",
            "                            Kings XI Punjab             Sunrisers Hyderabad          Sunrisers Hyderabad         field\n",
            "                            Rajasthan Royals            Sunrisers Hyderabad          Sunrisers Hyderabad         field\n",
            "                            Royal Challengers Bangalore Royal Challengers Bangalore  Sunrisers Hyderabad         field\n"
          ],
          "name": "stdout"
        }
      ]
    },
    {
      "cell_type": "code",
      "metadata": {
        "colab": {
          "base_uri": "https://localhost:8080/"
        },
        "id": "qXINOLGDtzZC",
        "outputId": "988bb270-5a19-47bd-a912-8e2fe48590b8"
      },
      "source": [
        "#count toss_decision according to team by winning toss\n",
        "toss_dec_count=individual_toss_winner[\"toss_decision\"].value_counts()\n",
        "print(toss_dec_count)"
      ],
      "execution_count": 42,
      "outputs": [
        {
          "output_type": "stream",
          "text": [
            "field    24\n",
            "bat       2\n",
            "Name: toss_decision, dtype: int64\n"
          ],
          "name": "stdout"
        }
      ]
    },
    {
      "cell_type": "code",
      "metadata": {
        "colab": {
          "base_uri": "https://localhost:8080/",
          "height": 414
        },
        "id": "uMaupptHum0W",
        "outputId": "4feb9059-df45-4716-919d-7f605f6006e5"
      },
      "source": [
        "#visualization of count toss_decision according to team by winning toss\n",
        "print(team,\"visualization\\n\")\n",
        "toss_dec_count.plot(kind = 'bar',color='darkseagreen',figsize=(10,5),title=\"Team Decisions By Winning Toss\\n\")"
      ],
      "execution_count": 43,
      "outputs": [
        {
          "output_type": "stream",
          "text": [
            "Sunrisers Hyderabad visualization\n",
            "\n"
          ],
          "name": "stdout"
        },
        {
          "output_type": "execute_result",
          "data": {
            "text/plain": [
              "<matplotlib.axes._subplots.AxesSubplot at 0x7f173c477ad0>"
            ]
          },
          "metadata": {
            "tags": []
          },
          "execution_count": 43
        },
        {
          "output_type": "display_data",
          "data": {
            "image/png": "[encoded data removed]",
            "text/plain": [
              "<Figure size 720x360 with 1 Axes>"
            ]
          },
          "metadata": {
            "tags": [],
            "needs_background": "light"
          }
        }
      ]
    },
    {
      "cell_type": "markdown",
      "metadata": {
        "id": "uNOtSzUC8SYB"
      },
      "source": [
        "**Player Analysis**"
      ]
    },
    {
      "cell_type": "code",
      "metadata": {
        "colab": {
          "base_uri": "https://localhost:8080/"
        },
        "id": "cU65SPeQ8bWM",
        "outputId": "a7f96ae2-1ee0-4839-86b8-2c2ced34e386"
      },
      "source": [
        "#man of the match player name\n",
        "df[\"player_of_match\"].unique()"
      ],
      "execution_count": 44,
      "outputs": [
        {
          "output_type": "execute_result",
          "data": {
            "text/plain": [
              "array(['Yuvraj Singh', 'SPD Smith', 'CA Lynn', 'GJ Maxwell', 'KM Jadhav',\n",
              "       'Rashid Khan', 'N Rana', 'AR Patel', 'SV Samson', 'JJ Bumrah',\n",
              "       'SP Narine', 'KA Pollard', 'AJ Tye', 'RV Uthappa', 'CJ Anderson',\n",
              "       'BA Stokes', 'NM Coulter-Nile', 'B Kumar', 'CH Gayle',\n",
              "       'KS Williamson', 'JC Buttler', 'SK Raina', 'MJ McClenaghan',\n",
              "       'MS Dhoni', 'HM Amla', 'G Gambhir', 'LH Ferguson', 'KH Pandya',\n",
              "       'Sandeep Sharma', 'DA Warner', 'RG Sharma', 'Mohammed Shami',\n",
              "       'RA Tripathi', 'RR Pant', 'JD Unadkat', 'LMP Simmons', 'DR Smith',\n",
              "       'S Dhawan', 'MM Sharma', 'SS Iyer', 'WP Saha', 'KK Nair',\n",
              "       'Mohammed Siraj', 'AT Rayudu', 'HV Patel', 'Washington Sundar',\n",
              "       'KV Sharma', 'BB McCullum', 'MEK Hussey', 'MF Maharoof',\n",
              "       'MV Boucher', 'DJ Hussey', 'SR Watson', 'V Sehwag', 'ML Hayden',\n",
              "       'YK Pathan', 'KC Sangakkara', 'JDP Oram', 'AC Gilchrist',\n",
              "       'SM Katich', 'ST Jayasuriya', 'GD McGrath', 'SE Marsh',\n",
              "       'SA Asnodkar', 'R Vinay Kumar', 'IK Pathan', 'SM Pollock',\n",
              "       'Sohail Tanvir', 'S Sreesanth', 'A Nehra', 'SC Ganguly',\n",
              "       'CRD Fernando', 'L Balaji', 'Shoaib Akhtar', 'A Mishra',\n",
              "       'DPMD Jayawardene', 'GC Smith', 'DJ Bravo', 'M Ntini',\n",
              "       'SP Goswami', 'A Kumble', 'KD Karthik', 'JA Morkel', 'P Kumar',\n",
              "       'Umar Gul', 'SR Tendulkar', 'R Dravid', 'DL Vettori', 'RP Singh',\n",
              "       'M Muralitharan', 'AB de Villiers', 'RS Bopara', 'PP Ojha',\n",
              "       'TM Dilshan', 'HH Gibbs', 'DP Nannes', 'JP Duminy', 'SB Jakati',\n",
              "       'JH Kallis', 'A Singh', 'S Badrinath', 'LRPL Taylor',\n",
              "       'Harbhajan Singh', 'R Bhatia', 'SK Warne', 'B Lee', 'BJ Hodge',\n",
              "       'LR Shukla', 'MK Pandey', 'AD Mathews', 'MK Tiwary', 'WPUJC Vaas',\n",
              "       'A Symonds', 'AA Jhunjhunwala', 'J Theron', 'AC Voges', 'NV Ojha',\n",
              "       'SL Malinga', 'M Vijay', 'KP Pietersen', 'PD Collingwood',\n",
              "       'MJ Lumb', 'TL Suman', 'RJ Harris', 'PP Chawla', 'Harmeet Singh',\n",
              "       'R Ashwin', 'R McLaren', 'M Kartik', 'DE Bollinger', 'S Anirudha',\n",
              "       'SK Trivedi', 'SB Wagh', 'PC Valthaty', 'MD Mishra', 'DW Steyn',\n",
              "       'S Sohal', 'MM Patel', 'V Kohli', 'I Sharma', 'J Botha',\n",
              "       'Iqbal Abdulla', 'P Parameswaran', 'R Sharma', 'MR Marsh',\n",
              "       'BA Bhatt', 'S Aravind', nan, 'JEC Franklin', 'RE Levi',\n",
              "       'AM Rahane', 'RA Jadeja', 'MN Samuels', 'M Morkel', 'F du Plessis',\n",
              "       'AD Mascarenhas', 'Shakib Al Hasan', 'JD Ryder', 'S Nadeem',\n",
              "       'KMDN Kulasekara', 'CL White', 'Mandeep Singh', 'P Negi',\n",
              "       'Azhar Mahmood', 'BW Hilfenhaus', 'A Chandila', 'UT Yadav',\n",
              "       'MS Bisla', 'M Vohra', 'GH Vihari', 'AJ Finch', 'JP Faulkner',\n",
              "       'MS Gony', 'DA Miller', 'DJG Sammy', 'MG Johnson', 'KK Cooper',\n",
              "       'PA Patel', 'AP Tare', 'LJ Wright', 'YS Chahal', 'PV Tambe',\n",
              "       'DJ Hooda', 'GJ Bailey', 'AD Russell', 'MA Agarwal', 'MA Starc',\n",
              "       'VR Aaron', 'TA Boult', 'EJG Morgan', 'HH Pandya', 'MC Henriques',\n",
              "       'Z Khan', 'Q de Kock', 'Mustafizur Rahman', 'SA Yadav', 'AB Dinda',\n",
              "       'CH Morris', 'CR Brathwaite', 'MP Stoinis', 'A Zampa',\n",
              "       'BCJ Cutting', 'KL Rahul', 'SW Billings', 'JJ Roy', 'B Stanlake',\n",
              "       'J Archer', 'AS Rajpoot', 'TG Southee', 'AS Yadav', 'M Ur Rahman',\n",
              "       'Ishan Kishan', 'Kuldeep Yadav', 'S Gopal', 'L Ngidi', 'P Shaw',\n",
              "       'J Bairstow', 'S Curran', 'A Joseph', 'K Rabada', 'H Gurney',\n",
              "       'DL Chahar', 'Imran Tahir', 'K Paul', 'K Ahmed', 'S Gill',\n",
              "       'S Hetmyer'], dtype=object)"
            ]
          },
          "metadata": {
            "tags": []
          },
          "execution_count": 44
        }
      ]
    },
    {
      "cell_type": "code",
      "metadata": {
        "colab": {
          "base_uri": "https://localhost:8080/"
        },
        "id": "0hkA8oBi7ZFe",
        "outputId": "0c9620f1-bf9d-47df-8e38-8c4e2bc311a2"
      },
      "source": [
        "#top player\n",
        "man_of_the_match=df[\"player_of_match\"].value_counts()\n",
        "print(man_of_the_match)\n"
      ],
      "execution_count": 45,
      "outputs": [
        {
          "output_type": "stream",
          "text": [
            "CH Gayle             21\n",
            "AB de Villiers       20\n",
            "DA Warner            17\n",
            "MS Dhoni             17\n",
            "RG Sharma            17\n",
            "                     ..\n",
            "RE Levi               1\n",
            "JD Ryder              1\n",
            "PD Collingwood        1\n",
            "Mustafizur Rahman     1\n",
            "BA Bhatt              1\n",
            "Name: player_of_match, Length: 226, dtype: int64\n"
          ],
          "name": "stdout"
        }
      ]
    },
    {
      "cell_type": "code",
      "metadata": {
        "colab": {
          "base_uri": "https://localhost:8080/",
          "height": 393
        },
        "id": "pa-vsofp-A9-",
        "outputId": "7b18ba5b-dc99-4831-c972-4f45fe27384e"
      },
      "source": [
        "#top player visualization\n",
        "man_of_the_match[:10].plot(kind = 'bar',color=\"sandybrown\",figsize=(10,5))"
      ],
      "execution_count": 46,
      "outputs": [
        {
          "output_type": "execute_result",
          "data": {
            "text/plain": [
              "<matplotlib.axes._subplots.AxesSubplot at 0x7f173c3e6150>"
            ]
          },
          "metadata": {
            "tags": []
          },
          "execution_count": 46
        },
        {
          "output_type": "display_data",
          "data": {
            "image/png": "[encoded data removed]",
            "text/plain": [
              "<Figure size 720x360 with 1 Axes>"
            ]
          },
          "metadata": {
            "tags": [],
            "needs_background": "light"
          }
        }
      ]
    },
    {
      "cell_type": "code",
      "metadata": {
        "colab": {
          "base_uri": "https://localhost:8080/",
          "height": 589
        },
        "id": "Z69l_Nee9SP-",
        "outputId": "1e75219b-6978-4790-99bc-4017b87b8623"
      },
      "source": [
        "#according to tosswinner player performance  analysis\n",
        "toss2 =df.groupby(['team1','team2','winner','toss_winner','season','win_by_runs','win_by_wickets'])['player_of_match','toss_decision'].max().sort_values(by = 'player_of_match',ascending = False)\n",
        "toss2"
      ],
      "execution_count": 59,
      "outputs": [
        {
          "output_type": "stream",
          "text": [
            "/usr/local/lib/python3.7/dist-packages/ipykernel_launcher.py:2: FutureWarning: Indexing with multiple keys (implicitly converted to a tuple of keys) will be deprecated, use a list instead.\n",
            "  \n"
          ],
          "name": "stderr"
        },
        {
          "output_type": "execute_result",
          "data": {
            "text/html": [
              "<div>\n",
              "<style scoped>\n",
              "    .dataframe tbody tr th:only-of-type {\n",
              "        vertical-align: middle;\n",
              "    }\n",
              "\n",
              "    .dataframe tbody tr th {\n",
              "        vertical-align: top;\n",
              "    }\n",
              "\n",
              "    .dataframe thead th {\n",
              "        text-align: right;\n",
              "    }\n",
              "</style>\n",
              "<table border=\"1\" class=\"dataframe\">\n",
              "  <thead>\n",
              "    <tr style=\"text-align: right;\">\n",
              "      <th></th>\n",
              "      <th></th>\n",
              "      <th></th>\n",
              "      <th></th>\n",
              "      <th></th>\n",
              "      <th></th>\n",
              "      <th></th>\n",
              "      <th>player_of_match</th>\n",
              "      <th>toss_decision</th>\n",
              "    </tr>\n",
              "    <tr>\n",
              "      <th>team1</th>\n",
              "      <th>team2</th>\n",
              "      <th>winner</th>\n",
              "      <th>toss_winner</th>\n",
              "      <th>season</th>\n",
              "      <th>win_by_runs</th>\n",
              "      <th>win_by_wickets</th>\n",
              "      <th></th>\n",
              "      <th></th>\n",
              "    </tr>\n",
              "  </thead>\n",
              "  <tbody>\n",
              "    <tr>\n",
              "      <th>Chennai Super Kings</th>\n",
              "      <th>Delhi Daredevils</th>\n",
              "      <th>Delhi Daredevils</th>\n",
              "      <th>Chennai Super Kings</th>\n",
              "      <th>2015</th>\n",
              "      <th>0</th>\n",
              "      <th>6</th>\n",
              "      <td>Z Khan</td>\n",
              "      <td>bat</td>\n",
              "    </tr>\n",
              "    <tr>\n",
              "      <th>Sunrisers Hyderabad</th>\n",
              "      <th>Royal Challengers Bangalore</th>\n",
              "      <th>Sunrisers Hyderabad</th>\n",
              "      <th>Royal Challengers Bangalore</th>\n",
              "      <th>2017</th>\n",
              "      <th>35</th>\n",
              "      <th>0</th>\n",
              "      <td>Yuvraj Singh</td>\n",
              "      <td>field</td>\n",
              "    </tr>\n",
              "    <tr>\n",
              "      <th>Pune Warriors</th>\n",
              "      <th>Delhi Daredevils</th>\n",
              "      <th>Delhi Daredevils</th>\n",
              "      <th>Delhi Daredevils</th>\n",
              "      <th>2011</th>\n",
              "      <th>0</th>\n",
              "      <th>3</th>\n",
              "      <td>Yuvraj Singh</td>\n",
              "      <td>field</td>\n",
              "    </tr>\n",
              "    <tr>\n",
              "      <th>Royal Challengers Bangalore</th>\n",
              "      <th>Delhi Daredevils</th>\n",
              "      <th>Royal Challengers Bangalore</th>\n",
              "      <th>Delhi Daredevils</th>\n",
              "      <th>2014</th>\n",
              "      <th>16</th>\n",
              "      <th>0</th>\n",
              "      <td>Yuvraj Singh</td>\n",
              "      <td>field</td>\n",
              "    </tr>\n",
              "    <tr>\n",
              "      <th>Kings XI Punjab</th>\n",
              "      <th>Deccan Chargers</th>\n",
              "      <th>Kings XI Punjab</th>\n",
              "      <th>Deccan Chargers</th>\n",
              "      <th>2009</th>\n",
              "      <th>1</th>\n",
              "      <th>0</th>\n",
              "      <td>Yuvraj Singh</td>\n",
              "      <td>field</td>\n",
              "    </tr>\n",
              "    <tr>\n",
              "      <th>...</th>\n",
              "      <th>...</th>\n",
              "      <th>...</th>\n",
              "      <th>...</th>\n",
              "      <th>...</th>\n",
              "      <th>...</th>\n",
              "      <th>...</th>\n",
              "      <td>...</td>\n",
              "      <td>...</td>\n",
              "    </tr>\n",
              "    <tr>\n",
              "      <th rowspan=\"2\" valign=\"top\">Deccan Chargers</th>\n",
              "      <th rowspan=\"2\" valign=\"top\">Royal Challengers Bangalore</th>\n",
              "      <th>Deccan Chargers</th>\n",
              "      <th>Royal Challengers Bangalore</th>\n",
              "      <th>2009</th>\n",
              "      <th>6</th>\n",
              "      <th>0</th>\n",
              "      <td>A Kumble</td>\n",
              "      <td>field</td>\n",
              "    </tr>\n",
              "    <tr>\n",
              "      <th>Royal Challengers Bangalore</th>\n",
              "      <th>Deccan Chargers</th>\n",
              "      <th>2010</th>\n",
              "      <th>0</th>\n",
              "      <th>9</th>\n",
              "      <td>A Kumble</td>\n",
              "      <td>bat</td>\n",
              "    </tr>\n",
              "    <tr>\n",
              "      <th>Royal Challengers Bangalore</th>\n",
              "      <th>Chennai Super Kings</th>\n",
              "      <th>Royal Challengers Bangalore</th>\n",
              "      <th>Royal Challengers Bangalore</th>\n",
              "      <th>2008</th>\n",
              "      <th>14</th>\n",
              "      <th>0</th>\n",
              "      <td>A Kumble</td>\n",
              "      <td>bat</td>\n",
              "    </tr>\n",
              "    <tr>\n",
              "      <th>Mumbai Indians</th>\n",
              "      <th>Sunrisers Hyderabad</th>\n",
              "      <th>Mumbai Indians</th>\n",
              "      <th>Sunrisers Hyderabad</th>\n",
              "      <th>2019</th>\n",
              "      <th>40</th>\n",
              "      <th>0</th>\n",
              "      <td>A Joseph</td>\n",
              "      <td>field</td>\n",
              "    </tr>\n",
              "    <tr>\n",
              "      <th>Rajasthan Royals</th>\n",
              "      <th>Pune Warriors</th>\n",
              "      <th>Rajasthan Royals</th>\n",
              "      <th>Rajasthan Royals</th>\n",
              "      <th>2012</th>\n",
              "      <th>45</th>\n",
              "      <th>0</th>\n",
              "      <td>A Chandila</td>\n",
              "      <td>bat</td>\n",
              "    </tr>\n",
              "  </tbody>\n",
              "</table>\n",
              "<p>748 rows × 2 columns</p>\n",
              "</div>"
            ],
            "text/plain": [
              "                                                                                                                                                  player_of_match toss_decision\n",
              "team1                       team2                       winner                      toss_winner                 season win_by_runs win_by_wickets                              \n",
              "Chennai Super Kings         Delhi Daredevils            Delhi Daredevils            Chennai Super Kings         2015   0           6                       Z Khan           bat\n",
              "Sunrisers Hyderabad         Royal Challengers Bangalore Sunrisers Hyderabad         Royal Challengers Bangalore 2017   35          0                 Yuvraj Singh         field\n",
              "Pune Warriors               Delhi Daredevils            Delhi Daredevils            Delhi Daredevils            2011   0           3                 Yuvraj Singh         field\n",
              "Royal Challengers Bangalore Delhi Daredevils            Royal Challengers Bangalore Delhi Daredevils            2014   16          0                 Yuvraj Singh         field\n",
              "Kings XI Punjab             Deccan Chargers             Kings XI Punjab             Deccan Chargers             2009   1           0                 Yuvraj Singh         field\n",
              "...                                                                                                                                                           ...           ...\n",
              "Deccan Chargers             Royal Challengers Bangalore Deccan Chargers             Royal Challengers Bangalore 2009   6           0                     A Kumble         field\n",
              "                                                        Royal Challengers Bangalore Deccan Chargers             2010   0           9                     A Kumble           bat\n",
              "Royal Challengers Bangalore Chennai Super Kings         Royal Challengers Bangalore Royal Challengers Bangalore 2008   14          0                     A Kumble           bat\n",
              "Mumbai Indians              Sunrisers Hyderabad         Mumbai Indians              Sunrisers Hyderabad         2019   40          0                     A Joseph         field\n",
              "Rajasthan Royals            Pune Warriors               Rajasthan Royals            Rajasthan Royals            2012   45          0                   A Chandila           bat\n",
              "\n",
              "[748 rows x 2 columns]"
            ]
          },
          "metadata": {
            "tags": []
          },
          "execution_count": 59
        }
      ]
    },
    {
      "cell_type": "code",
      "metadata": {
        "id": "ubJtNw7FAqMb",
        "colab": {
          "base_uri": "https://localhost:8080/",
          "height": 709
        },
        "outputId": "601a6c25-b93f-473e-e8fc-156db57df938"
      },
      "source": [
        "#print according to toss_winning player performance\n",
        "player_name= input(\"enter the player name\")\n",
        "individual_player=toss2[toss2['player_of_match'] == player_name]\n",
        "individual_player"
      ],
      "execution_count": 61,
      "outputs": [
        {
          "output_type": "stream",
          "text": [
            "enter the player nameMS Dhoni\n"
          ],
          "name": "stdout"
        },
        {
          "output_type": "execute_result",
          "data": {
            "text/html": [
              "<div>\n",
              "<style scoped>\n",
              "    .dataframe tbody tr th:only-of-type {\n",
              "        vertical-align: middle;\n",
              "    }\n",
              "\n",
              "    .dataframe tbody tr th {\n",
              "        vertical-align: top;\n",
              "    }\n",
              "\n",
              "    .dataframe thead th {\n",
              "        text-align: right;\n",
              "    }\n",
              "</style>\n",
              "<table border=\"1\" class=\"dataframe\">\n",
              "  <thead>\n",
              "    <tr style=\"text-align: right;\">\n",
              "      <th></th>\n",
              "      <th></th>\n",
              "      <th></th>\n",
              "      <th></th>\n",
              "      <th></th>\n",
              "      <th></th>\n",
              "      <th></th>\n",
              "      <th>player_of_match</th>\n",
              "      <th>toss_decision</th>\n",
              "    </tr>\n",
              "    <tr>\n",
              "      <th>team1</th>\n",
              "      <th>team2</th>\n",
              "      <th>winner</th>\n",
              "      <th>toss_winner</th>\n",
              "      <th>season</th>\n",
              "      <th>win_by_runs</th>\n",
              "      <th>win_by_wickets</th>\n",
              "      <th></th>\n",
              "      <th></th>\n",
              "    </tr>\n",
              "  </thead>\n",
              "  <tbody>\n",
              "    <tr>\n",
              "      <th>Kings XI Punjab</th>\n",
              "      <th>Rising Pune Supergiants</th>\n",
              "      <th>Rising Pune Supergiants</th>\n",
              "      <th>Kings XI Punjab</th>\n",
              "      <th>2016</th>\n",
              "      <th>0</th>\n",
              "      <th>4</th>\n",
              "      <td>MS Dhoni</td>\n",
              "      <td>bat</td>\n",
              "    </tr>\n",
              "    <tr>\n",
              "      <th rowspan=\"2\" valign=\"top\">Chennai Super Kings</th>\n",
              "      <th>Deccan Chargers</th>\n",
              "      <th>Chennai Super Kings</th>\n",
              "      <th>Chennai Super Kings</th>\n",
              "      <th>2009</th>\n",
              "      <th>78</th>\n",
              "      <th>0</th>\n",
              "      <td>MS Dhoni</td>\n",
              "      <td>bat</td>\n",
              "    </tr>\n",
              "    <tr>\n",
              "      <th>Kolkata Knight Riders</th>\n",
              "      <th>Chennai Super Kings</th>\n",
              "      <th>Chennai Super Kings</th>\n",
              "      <th>2010</th>\n",
              "      <th>55</th>\n",
              "      <th>0</th>\n",
              "      <td>MS Dhoni</td>\n",
              "      <td>bat</td>\n",
              "    </tr>\n",
              "    <tr>\n",
              "      <th>Sunrisers Hyderabad</th>\n",
              "      <th>Chennai Super Kings</th>\n",
              "      <th>Chennai Super Kings</th>\n",
              "      <th>Sunrisers Hyderabad</th>\n",
              "      <th>2013</th>\n",
              "      <th>0</th>\n",
              "      <th>5</th>\n",
              "      <td>MS Dhoni</td>\n",
              "      <td>bat</td>\n",
              "    </tr>\n",
              "    <tr>\n",
              "      <th rowspan=\"2\" valign=\"top\">Chennai Super Kings</th>\n",
              "      <th>Royal Challengers Bangalore</th>\n",
              "      <th>Chennai Super Kings</th>\n",
              "      <th>Chennai Super Kings</th>\n",
              "      <th>2008</th>\n",
              "      <th>13</th>\n",
              "      <th>0</th>\n",
              "      <td>MS Dhoni</td>\n",
              "      <td>bat</td>\n",
              "    </tr>\n",
              "    <tr>\n",
              "      <th>Pune Warriors</th>\n",
              "      <th>Chennai Super Kings</th>\n",
              "      <th>Chennai Super Kings</th>\n",
              "      <th>2013</th>\n",
              "      <th>37</th>\n",
              "      <th>0</th>\n",
              "      <td>MS Dhoni</td>\n",
              "      <td>bat</td>\n",
              "    </tr>\n",
              "    <tr>\n",
              "      <th>Royal Challengers Bangalore</th>\n",
              "      <th>Chennai Super Kings</th>\n",
              "      <th>Chennai Super Kings</th>\n",
              "      <th>Chennai Super Kings</th>\n",
              "      <th>2014</th>\n",
              "      <th>0</th>\n",
              "      <th>8</th>\n",
              "      <td>MS Dhoni</td>\n",
              "      <td>field</td>\n",
              "    </tr>\n",
              "    <tr>\n",
              "      <th>Chennai Super Kings</th>\n",
              "      <th>Mumbai Indians</th>\n",
              "      <th>Chennai Super Kings</th>\n",
              "      <th>Mumbai Indians</th>\n",
              "      <th>2012</th>\n",
              "      <th>38</th>\n",
              "      <th>0</th>\n",
              "      <td>MS Dhoni</td>\n",
              "      <td>field</td>\n",
              "    </tr>\n",
              "    <tr>\n",
              "      <th>Rajasthan Royals</th>\n",
              "      <th>Chennai Super Kings</th>\n",
              "      <th>Chennai Super Kings</th>\n",
              "      <th>Chennai Super Kings</th>\n",
              "      <th>2019</th>\n",
              "      <th>0</th>\n",
              "      <th>4</th>\n",
              "      <td>MS Dhoni</td>\n",
              "      <td>field</td>\n",
              "    </tr>\n",
              "    <tr>\n",
              "      <th>Kings XI Punjab</th>\n",
              "      <th>Chennai Super Kings</th>\n",
              "      <th>Chennai Super Kings</th>\n",
              "      <th>Chennai Super Kings</th>\n",
              "      <th>2010</th>\n",
              "      <th>0</th>\n",
              "      <th>6</th>\n",
              "      <td>MS Dhoni</td>\n",
              "      <td>field</td>\n",
              "    </tr>\n",
              "    <tr>\n",
              "      <th>Royal Challengers Bangalore</th>\n",
              "      <th>Chennai Super Kings</th>\n",
              "      <th>Chennai Super Kings</th>\n",
              "      <th>Chennai Super Kings</th>\n",
              "      <th>2018</th>\n",
              "      <th>0</th>\n",
              "      <th>5</th>\n",
              "      <td>MS Dhoni</td>\n",
              "      <td>field</td>\n",
              "    </tr>\n",
              "    <tr>\n",
              "      <th>Sunrisers Hyderabad</th>\n",
              "      <th>Rising Pune Supergiant</th>\n",
              "      <th>Rising Pune Supergiant</th>\n",
              "      <th>Rising Pune Supergiant</th>\n",
              "      <th>2017</th>\n",
              "      <th>0</th>\n",
              "      <th>6</th>\n",
              "      <td>MS Dhoni</td>\n",
              "      <td>field</td>\n",
              "    </tr>\n",
              "    <tr>\n",
              "      <th rowspan=\"3\" valign=\"top\">Chennai Super Kings</th>\n",
              "      <th>Rajasthan Royals</th>\n",
              "      <th>Chennai Super Kings</th>\n",
              "      <th>Rajasthan Royals</th>\n",
              "      <th>2019</th>\n",
              "      <th>8</th>\n",
              "      <th>0</th>\n",
              "      <td>MS Dhoni</td>\n",
              "      <td>field</td>\n",
              "    </tr>\n",
              "    <tr>\n",
              "      <th>Delhi Capitals</th>\n",
              "      <th>Chennai Super Kings</th>\n",
              "      <th>Delhi Capitals</th>\n",
              "      <th>2019</th>\n",
              "      <th>80</th>\n",
              "      <th>0</th>\n",
              "      <td>MS Dhoni</td>\n",
              "      <td>field</td>\n",
              "    </tr>\n",
              "    <tr>\n",
              "      <th>Delhi Daredevils</th>\n",
              "      <th>Chennai Super Kings</th>\n",
              "      <th>Chennai Super Kings</th>\n",
              "      <th>2011</th>\n",
              "      <th>18</th>\n",
              "      <th>0</th>\n",
              "      <td>MS Dhoni</td>\n",
              "      <td>bat</td>\n",
              "    </tr>\n",
              "    <tr>\n",
              "      <th>Delhi Daredevils</th>\n",
              "      <th>Chennai Super Kings</th>\n",
              "      <th>Chennai Super Kings</th>\n",
              "      <th>Chennai Super Kings</th>\n",
              "      <th>2008</th>\n",
              "      <th>0</th>\n",
              "      <th>4</th>\n",
              "      <td>MS Dhoni</td>\n",
              "      <td>field</td>\n",
              "    </tr>\n",
              "    <tr>\n",
              "      <th>Chennai Super Kings</th>\n",
              "      <th>Delhi Daredevils</th>\n",
              "      <th>Chennai Super Kings</th>\n",
              "      <th>Chennai Super Kings</th>\n",
              "      <th>2013</th>\n",
              "      <th>33</th>\n",
              "      <th>0</th>\n",
              "      <td>MS Dhoni</td>\n",
              "      <td>bat</td>\n",
              "    </tr>\n",
              "  </tbody>\n",
              "</table>\n",
              "</div>"
            ],
            "text/plain": [
              "                                                                                                                                         player_of_match toss_decision\n",
              "team1                       team2                       winner                  toss_winner            season win_by_runs win_by_wickets                              \n",
              "Kings XI Punjab             Rising Pune Supergiants     Rising Pune Supergiants Kings XI Punjab        2016   0           4                     MS Dhoni           bat\n",
              "Chennai Super Kings         Deccan Chargers             Chennai Super Kings     Chennai Super Kings    2009   78          0                     MS Dhoni           bat\n",
              "                            Kolkata Knight Riders       Chennai Super Kings     Chennai Super Kings    2010   55          0                     MS Dhoni           bat\n",
              "Sunrisers Hyderabad         Chennai Super Kings         Chennai Super Kings     Sunrisers Hyderabad    2013   0           5                     MS Dhoni           bat\n",
              "Chennai Super Kings         Royal Challengers Bangalore Chennai Super Kings     Chennai Super Kings    2008   13          0                     MS Dhoni           bat\n",
              "                            Pune Warriors               Chennai Super Kings     Chennai Super Kings    2013   37          0                     MS Dhoni           bat\n",
              "Royal Challengers Bangalore Chennai Super Kings         Chennai Super Kings     Chennai Super Kings    2014   0           8                     MS Dhoni         field\n",
              "Chennai Super Kings         Mumbai Indians              Chennai Super Kings     Mumbai Indians         2012   38          0                     MS Dhoni         field\n",
              "Rajasthan Royals            Chennai Super Kings         Chennai Super Kings     Chennai Super Kings    2019   0           4                     MS Dhoni         field\n",
              "Kings XI Punjab             Chennai Super Kings         Chennai Super Kings     Chennai Super Kings    2010   0           6                     MS Dhoni         field\n",
              "Royal Challengers Bangalore Chennai Super Kings         Chennai Super Kings     Chennai Super Kings    2018   0           5                     MS Dhoni         field\n",
              "Sunrisers Hyderabad         Rising Pune Supergiant      Rising Pune Supergiant  Rising Pune Supergiant 2017   0           6                     MS Dhoni         field\n",
              "Chennai Super Kings         Rajasthan Royals            Chennai Super Kings     Rajasthan Royals       2019   8           0                     MS Dhoni         field\n",
              "                            Delhi Capitals              Chennai Super Kings     Delhi Capitals         2019   80          0                     MS Dhoni         field\n",
              "                            Delhi Daredevils            Chennai Super Kings     Chennai Super Kings    2011   18          0                     MS Dhoni           bat\n",
              "Delhi Daredevils            Chennai Super Kings         Chennai Super Kings     Chennai Super Kings    2008   0           4                     MS Dhoni         field\n",
              "Chennai Super Kings         Delhi Daredevils            Chennai Super Kings     Chennai Super Kings    2013   33          0                     MS Dhoni           bat"
            ]
          },
          "metadata": {
            "tags": []
          },
          "execution_count": 61
        }
      ]
    },
    {
      "cell_type": "code",
      "metadata": {
        "id": "qkGRHelTJSjD"
      },
      "source": [
        ""
      ],
      "execution_count": null,
      "outputs": []
    }
  ]
}