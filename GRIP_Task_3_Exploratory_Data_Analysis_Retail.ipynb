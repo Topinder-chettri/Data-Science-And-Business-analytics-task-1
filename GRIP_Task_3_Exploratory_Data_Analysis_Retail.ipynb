{
  "nbformat": 4,
  "nbformat_minor": 0,
  "metadata": {
    "colab": {
      "name": "GRIP_Task-3_Exploratory Data Analysis - Retail.ipynb",
      "provenance": [],
      "collapsed_sections": [],
      "authorship_tag": "ABX9TyMQdrId1mGdb0IMaZOLYZJx",
      "include_colab_link": true
    },
    "kernelspec": {
      "name": "python3",
      "display_name": "Python 3"
    },
    "language_info": {
      "name": "python"
    }
  },
  "cells": [
    {
      "cell_type": "markdown",
      "metadata": {
        "id": "view-in-github",
        "colab_type": "text"
      },
      "source": [
        "<a href=\"https://colab.research.google.com/github/Topinder-chettri/Data-Science-And-Business-analytics-task-1/blob/main/GRIP_Task_3_Exploratory_Data_Analysis_Retail.ipynb\" target=\"_parent\"><img src=\"https://colab.research.google.com/assets/colab-badge.svg\" alt=\"Open In Colab\"/></a>"
      ]
    },
    {
      "cell_type": "markdown",
      "metadata": {
        "id": "KUuZjR3Lhg4b"
      },
      "source": [
        "# **SUBMITTED BY TOPINDER CHETTRI**"
      ]
    },
    {
      "cell_type": "markdown",
      "metadata": {
        "id": "iFkg4SxvhpdO"
      },
      "source": [
        " **Task-3**\n",
        "\n",
        " Perform ‘Exploratory Data Analysis’ on dataset  ‘SampleSuperstore’\n",
        " \n",
        "  ● As a business manager, try to ﬁnd out the weak areas where you can work to make more proﬁt.  \n",
        "  ● What all business problems you can derive by exploring the  data? \n",
        " \n",
        "  ● You can choose any of the tool of your choice  (Python/R/Tableau/PowerBI/Excel/SAP/SAS) \n",
        " \n",
        "  ● Dataset: https://bit.ly/3i4rbWl\n",
        "  \n",
        "   ● Beginner Level - Create dashboards. Screen-record along with your audio explaining the charts and interpretations.\n",
        " \n",
        " ● Task submission: 1. Create the dashboards and/or storyboard and record it 2. Upload the recording either on YouTube or LinkedIn 3. Create a LinkedIn post as suggested in FAQs\n"
      ]
    },
    {
      "cell_type": "markdown",
      "metadata": {
        "id": "SusJixUxiuGn"
      },
      "source": [
        "**IMPORTING LIBRARIES**"
      ]
    },
    {
      "cell_type": "code",
      "metadata": {
        "id": "OD9OYAkCg3FB"
      },
      "source": [
        "import io\n",
        "import pandas as pd\n",
        "import numpy as np\n",
        "import matplotlib.pyplot as plt"
      ],
      "execution_count": null,
      "outputs": []
    },
    {
      "cell_type": "markdown",
      "metadata": {
        "id": "9sruU9H0w3DW"
      },
      "source": [
        "**UPLOAD FILE FROM DEVICE**\n",
        "\n"
      ]
    },
    {
      "cell_type": "code",
      "metadata": {
        "colab": {
          "resources": {
            "http://localhost:8080/nbextensions/google.colab/files.js": {
              "data": "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",
              "ok": true,
              "headers": [
                [
                  "content-type",
                  "application/javascript"
                ]
              ],
              "status": 200,
              "status_text": ""
            }
          },
          "base_uri": "https://localhost:8080/",
          "height": 72
        },
        "id": "X2mYhswWjFjC",
        "outputId": "3e1f8cb2-350a-464c-f282-035392762887"
      },
      "source": [
        "#file import from device drive\n",
        "from google.colab import files \n",
        "  \n",
        "  \n",
        "uploaded = files.upload()"
      ],
      "execution_count": null,
      "outputs": [
        {
          "output_type": "display_data",
          "data": {
            "text/html": [
              "\n",
              "     <input type=\"file\" id=\"files-607353a6-2c48-4c06-aa47-ebb1b4c20e17\" name=\"files[]\" multiple disabled\n",
              "        style=\"border:none\" />\n",
              "     <output id=\"result-607353a6-2c48-4c06-aa47-ebb1b4c20e17\">\n",
              "      Upload widget is only available when the cell has been executed in the\n",
              "      current browser session. Please rerun this cell to enable.\n",
              "      </output>\n",
              "      <script src=\"/nbextensions/google.colab/files.js\"></script> "
            ],
            "text/plain": [
              "<IPython.core.display.HTML object>"
            ]
          },
          "metadata": {
            "tags": []
          }
        },
        {
          "output_type": "stream",
          "text": [
            "Saving SampleSuperstore.csv to SampleSuperstore.csv\n"
          ],
          "name": "stdout"
        }
      ]
    },
    {
      "cell_type": "markdown",
      "metadata": {
        "id": "qIPOXFt4mEe3"
      },
      "source": [
        "**READ CSV FILE**"
      ]
    },
    {
      "cell_type": "code",
      "metadata": {
        "colab": {
          "base_uri": "https://localhost:8080/"
        },
        "id": "xCR1rvSnjYub",
        "outputId": "e9c3a088-b15e-4e9c-d737-42337d65c9a6"
      },
      "source": [
        "df = pd.read_csv(io.BytesIO(uploaded['SampleSuperstore.csv'])) \n",
        "print(df)"
      ],
      "execution_count": null,
      "outputs": [
        {
          "output_type": "stream",
          "text": [
            "           Ship Mode    Segment        Country  ... Quantity Discount    Profit\n",
            "0       Second Class   Consumer  United States  ...        2     0.00   41.9136\n",
            "1       Second Class   Consumer  United States  ...        3     0.00  219.5820\n",
            "2       Second Class  Corporate  United States  ...        2     0.00    6.8714\n",
            "3     Standard Class   Consumer  United States  ...        5     0.45 -383.0310\n",
            "4     Standard Class   Consumer  United States  ...        2     0.20    2.5164\n",
            "...              ...        ...            ...  ...      ...      ...       ...\n",
            "9989    Second Class   Consumer  United States  ...        3     0.20    4.1028\n",
            "9990  Standard Class   Consumer  United States  ...        2     0.00   15.6332\n",
            "9991  Standard Class   Consumer  United States  ...        2     0.20   19.3932\n",
            "9992  Standard Class   Consumer  United States  ...        4     0.00   13.3200\n",
            "9993    Second Class   Consumer  United States  ...        2     0.00   72.9480\n",
            "\n",
            "[9994 rows x 13 columns]\n"
          ],
          "name": "stdout"
        }
      ]
    },
    {
      "cell_type": "markdown",
      "metadata": {
        "id": "Or2caWMAsQb2"
      },
      "source": [
        "# **UNDERSTAND THE DATA**"
      ]
    },
    {
      "cell_type": "code",
      "metadata": {
        "colab": {
          "base_uri": "https://localhost:8080/",
          "height": 204
        },
        "id": "_LIOZpWGjkCY",
        "outputId": "d85ee083-01af-41e6-d15a-febb3e523b7b"
      },
      "source": [
        "df.head()"
      ],
      "execution_count": null,
      "outputs": [
        {
          "output_type": "execute_result",
          "data": {
            "text/html": [
              "<div>\n",
              "<style scoped>\n",
              "    .dataframe tbody tr th:only-of-type {\n",
              "        vertical-align: middle;\n",
              "    }\n",
              "\n",
              "    .dataframe tbody tr th {\n",
              "        vertical-align: top;\n",
              "    }\n",
              "\n",
              "    .dataframe thead th {\n",
              "        text-align: right;\n",
              "    }\n",
              "</style>\n",
              "<table border=\"1\" class=\"dataframe\">\n",
              "  <thead>\n",
              "    <tr style=\"text-align: right;\">\n",
              "      <th></th>\n",
              "      <th>Ship Mode</th>\n",
              "      <th>Segment</th>\n",
              "      <th>Country</th>\n",
              "      <th>City</th>\n",
              "      <th>State</th>\n",
              "      <th>Postal Code</th>\n",
              "      <th>Region</th>\n",
              "      <th>Category</th>\n",
              "      <th>Sub-Category</th>\n",
              "      <th>Sales</th>\n",
              "      <th>Quantity</th>\n",
              "      <th>Discount</th>\n",
              "      <th>Profit</th>\n",
              "    </tr>\n",
              "  </thead>\n",
              "  <tbody>\n",
              "    <tr>\n",
              "      <th>0</th>\n",
              "      <td>Second Class</td>\n",
              "      <td>Consumer</td>\n",
              "      <td>United States</td>\n",
              "      <td>Henderson</td>\n",
              "      <td>Kentucky</td>\n",
              "      <td>42420</td>\n",
              "      <td>South</td>\n",
              "      <td>Furniture</td>\n",
              "      <td>Bookcases</td>\n",
              "      <td>261.9600</td>\n",
              "      <td>2</td>\n",
              "      <td>0.00</td>\n",
              "      <td>41.9136</td>\n",
              "    </tr>\n",
              "    <tr>\n",
              "      <th>1</th>\n",
              "      <td>Second Class</td>\n",
              "      <td>Consumer</td>\n",
              "      <td>United States</td>\n",
              "      <td>Henderson</td>\n",
              "      <td>Kentucky</td>\n",
              "      <td>42420</td>\n",
              "      <td>South</td>\n",
              "      <td>Furniture</td>\n",
              "      <td>Chairs</td>\n",
              "      <td>731.9400</td>\n",
              "      <td>3</td>\n",
              "      <td>0.00</td>\n",
              "      <td>219.5820</td>\n",
              "    </tr>\n",
              "    <tr>\n",
              "      <th>2</th>\n",
              "      <td>Second Class</td>\n",
              "      <td>Corporate</td>\n",
              "      <td>United States</td>\n",
              "      <td>Los Angeles</td>\n",
              "      <td>California</td>\n",
              "      <td>90036</td>\n",
              "      <td>West</td>\n",
              "      <td>Office Supplies</td>\n",
              "      <td>Labels</td>\n",
              "      <td>14.6200</td>\n",
              "      <td>2</td>\n",
              "      <td>0.00</td>\n",
              "      <td>6.8714</td>\n",
              "    </tr>\n",
              "    <tr>\n",
              "      <th>3</th>\n",
              "      <td>Standard Class</td>\n",
              "      <td>Consumer</td>\n",
              "      <td>United States</td>\n",
              "      <td>Fort Lauderdale</td>\n",
              "      <td>Florida</td>\n",
              "      <td>33311</td>\n",
              "      <td>South</td>\n",
              "      <td>Furniture</td>\n",
              "      <td>Tables</td>\n",
              "      <td>957.5775</td>\n",
              "      <td>5</td>\n",
              "      <td>0.45</td>\n",
              "      <td>-383.0310</td>\n",
              "    </tr>\n",
              "    <tr>\n",
              "      <th>4</th>\n",
              "      <td>Standard Class</td>\n",
              "      <td>Consumer</td>\n",
              "      <td>United States</td>\n",
              "      <td>Fort Lauderdale</td>\n",
              "      <td>Florida</td>\n",
              "      <td>33311</td>\n",
              "      <td>South</td>\n",
              "      <td>Office Supplies</td>\n",
              "      <td>Storage</td>\n",
              "      <td>22.3680</td>\n",
              "      <td>2</td>\n",
              "      <td>0.20</td>\n",
              "      <td>2.5164</td>\n",
              "    </tr>\n",
              "  </tbody>\n",
              "</table>\n",
              "</div>"
            ],
            "text/plain": [
              "        Ship Mode    Segment        Country  ... Quantity Discount    Profit\n",
              "0    Second Class   Consumer  United States  ...        2     0.00   41.9136\n",
              "1    Second Class   Consumer  United States  ...        3     0.00  219.5820\n",
              "2    Second Class  Corporate  United States  ...        2     0.00    6.8714\n",
              "3  Standard Class   Consumer  United States  ...        5     0.45 -383.0310\n",
              "4  Standard Class   Consumer  United States  ...        2     0.20    2.5164\n",
              "\n",
              "[5 rows x 13 columns]"
            ]
          },
          "metadata": {
            "tags": []
          },
          "execution_count": 6
        }
      ]
    },
    {
      "cell_type": "code",
      "metadata": {
        "colab": {
          "base_uri": "https://localhost:8080/"
        },
        "id": "Vqim5F7-jsrU",
        "outputId": "c402f9db-7f1a-4f5c-c1d6-a99186e7a878"
      },
      "source": [
        "#data detail\n",
        "df.info()"
      ],
      "execution_count": null,
      "outputs": [
        {
          "output_type": "stream",
          "text": [
            "<class 'pandas.core.frame.DataFrame'>\n",
            "RangeIndex: 9994 entries, 0 to 9993\n",
            "Data columns (total 13 columns):\n",
            " #   Column        Non-Null Count  Dtype  \n",
            "---  ------        --------------  -----  \n",
            " 0   Ship Mode     9994 non-null   object \n",
            " 1   Segment       9994 non-null   object \n",
            " 2   Country       9994 non-null   object \n",
            " 3   City          9994 non-null   object \n",
            " 4   State         9994 non-null   object \n",
            " 5   Postal Code   9994 non-null   int64  \n",
            " 6   Region        9994 non-null   object \n",
            " 7   Category      9994 non-null   object \n",
            " 8   Sub-Category  9994 non-null   object \n",
            " 9   Sales         9994 non-null   float64\n",
            " 10  Quantity      9994 non-null   int64  \n",
            " 11  Discount      9994 non-null   float64\n",
            " 12  Profit        9994 non-null   float64\n",
            "dtypes: float64(3), int64(2), object(8)\n",
            "memory usage: 1015.1+ KB\n"
          ],
          "name": "stdout"
        }
      ]
    },
    {
      "cell_type": "code",
      "metadata": {
        "colab": {
          "base_uri": "https://localhost:8080/"
        },
        "id": "6OHDCLMZrpYS",
        "outputId": "518d2b03-2676-489b-9c15-e745147fb5b9"
      },
      "source": [
        "#check data shape\n",
        "df.shape"
      ],
      "execution_count": null,
      "outputs": [
        {
          "output_type": "execute_result",
          "data": {
            "text/plain": [
              "(9994, 13)"
            ]
          },
          "metadata": {
            "tags": []
          },
          "execution_count": 8
        }
      ]
    },
    {
      "cell_type": "code",
      "metadata": {
        "colab": {
          "base_uri": "https://localhost:8080/"
        },
        "id": "rmMTb0eOr-ob",
        "outputId": "ad2310a6-929e-424a-c2b4-e434e5070607"
      },
      "source": [
        "#coloumn\n",
        "df.columns"
      ],
      "execution_count": null,
      "outputs": [
        {
          "output_type": "execute_result",
          "data": {
            "text/plain": [
              "Index(['Ship Mode', 'Segment', 'Country', 'City', 'State', 'Postal Code',\n",
              "       'Region', 'Category', 'Sub-Category', 'Sales', 'Quantity', 'Discount',\n",
              "       'Profit'],\n",
              "      dtype='object')"
            ]
          },
          "metadata": {
            "tags": []
          },
          "execution_count": 9
        }
      ]
    },
    {
      "cell_type": "code",
      "metadata": {
        "colab": {
          "base_uri": "https://localhost:8080/"
        },
        "id": "z4nVlaJstFQx",
        "outputId": "fed145cb-c78a-4680-bd87-ae43f7fe2b75"
      },
      "source": [
        "#check all column unique values\n",
        "df.nunique()"
      ],
      "execution_count": null,
      "outputs": [
        {
          "output_type": "execute_result",
          "data": {
            "text/plain": [
              "Ship Mode          4\n",
              "Segment            3\n",
              "Country            1\n",
              "City             531\n",
              "State             49\n",
              "Postal Code      631\n",
              "Region             4\n",
              "Category           3\n",
              "Sub-Category      17\n",
              "Sales           5825\n",
              "Quantity          14\n",
              "Discount          12\n",
              "Profit          7287\n",
              "dtype: int64"
            ]
          },
          "metadata": {
            "tags": []
          },
          "execution_count": 10
        }
      ]
    },
    {
      "cell_type": "code",
      "metadata": {
        "colab": {
          "base_uri": "https://localhost:8080/"
        },
        "id": "Yqd2GhKNt3tO",
        "outputId": "54d71a6a-04cf-42e8-fde6-9114e19dfbda"
      },
      "source": [
        "#check separete coloumn unique values\n",
        "df[\"Category\"].unique()"
      ],
      "execution_count": null,
      "outputs": [
        {
          "output_type": "execute_result",
          "data": {
            "text/plain": [
              "array(['Furniture', 'Office Supplies', 'Technology'], dtype=object)"
            ]
          },
          "metadata": {
            "tags": []
          },
          "execution_count": 11
        }
      ]
    },
    {
      "cell_type": "code",
      "metadata": {
        "colab": {
          "base_uri": "https://localhost:8080/"
        },
        "id": "ALVJtEmh0Fic",
        "outputId": "08f4ee51-07ac-4bbb-d145-4aafff1d3363"
      },
      "source": [
        "df[\"Category\"].value_counts()"
      ],
      "execution_count": null,
      "outputs": [
        {
          "output_type": "execute_result",
          "data": {
            "text/plain": [
              "Office Supplies    6026\n",
              "Furniture          2121\n",
              "Technology         1847\n",
              "Name: Category, dtype: int64"
            ]
          },
          "metadata": {
            "tags": []
          },
          "execution_count": 12
        }
      ]
    },
    {
      "cell_type": "code",
      "metadata": {
        "colab": {
          "base_uri": "https://localhost:8080/"
        },
        "id": "fgPLx5ly1wSs",
        "outputId": "3441ad99-9fe5-4ea4-e535-ec3d95ebe71f"
      },
      "source": [
        "df[\"Sub-Category\"].unique()\n"
      ],
      "execution_count": null,
      "outputs": [
        {
          "output_type": "execute_result",
          "data": {
            "text/plain": [
              "array(['Bookcases', 'Chairs', 'Labels', 'Tables', 'Storage',\n",
              "       'Furnishings', 'Art', 'Phones', 'Binders', 'Appliances', 'Paper',\n",
              "       'Accessories', 'Envelopes', 'Fasteners', 'Supplies', 'Machines',\n",
              "       'Copiers'], dtype=object)"
            ]
          },
          "metadata": {
            "tags": []
          },
          "execution_count": 46
        }
      ]
    },
    {
      "cell_type": "code",
      "metadata": {
        "colab": {
          "base_uri": "https://localhost:8080/"
        },
        "id": "PXE6wRVv0dHn",
        "outputId": "9864579c-8d61-4d9e-a70a-a41f7e0303c5"
      },
      "source": [
        "df[\"Sub-Category\"].value_counts()"
      ],
      "execution_count": null,
      "outputs": [
        {
          "output_type": "execute_result",
          "data": {
            "text/plain": [
              "Binders        1523\n",
              "Paper          1370\n",
              "Furnishings     957\n",
              "Phones          889\n",
              "Storage         846\n",
              "Art             796\n",
              "Accessories     775\n",
              "Chairs          617\n",
              "Appliances      466\n",
              "Labels          364\n",
              "Tables          319\n",
              "Envelopes       254\n",
              "Bookcases       228\n",
              "Fasteners       217\n",
              "Supplies        190\n",
              "Machines        115\n",
              "Copiers          68\n",
              "Name: Sub-Category, dtype: int64"
            ]
          },
          "metadata": {
            "tags": []
          },
          "execution_count": 15
        }
      ]
    },
    {
      "cell_type": "code",
      "metadata": {
        "colab": {
          "base_uri": "https://localhost:8080/",
          "height": 483
        },
        "id": "_ihidqKu_yOe",
        "outputId": "0c32448d-f591-4294-98de-97798e694d0a"
      },
      "source": [
        "plt.figure(figsize=(16,8))\n",
        "plt.bar('Sub-Category','Category',data=df,color='b')\n",
        "plt.show()"
      ],
      "execution_count": 103,
      "outputs": [
        {
          "output_type": "display_data",
          "data": {
            "image/png": "[encoded data removed]",
            "text/plain": [
              "<Figure size 1152x576 with 1 Axes>"
            ]
          },
          "metadata": {
            "tags": [],
            "needs_background": "light"
          }
        }
      ]
    },
    {
      "cell_type": "code",
      "metadata": {
        "colab": {
          "base_uri": "https://localhost:8080/"
        },
        "id": "hUltfH8_17qF",
        "outputId": "d9032480-8790-41bf-fddd-97192d2c73e7"
      },
      "source": [
        "x=df[['Category','Sub-Category']].value_counts()\n",
        "print(x)"
      ],
      "execution_count": null,
      "outputs": [
        {
          "output_type": "stream",
          "text": [
            "Category         Sub-Category\n",
            "Office Supplies  Binders         1523\n",
            "                 Paper           1370\n",
            "Furniture        Furnishings      957\n",
            "Technology       Phones           889\n",
            "Office Supplies  Storage          846\n",
            "                 Art              796\n",
            "Technology       Accessories      775\n",
            "Furniture        Chairs           617\n",
            "Office Supplies  Appliances       466\n",
            "                 Labels           364\n",
            "Furniture        Tables           319\n",
            "Office Supplies  Envelopes        254\n",
            "Furniture        Bookcases        228\n",
            "Office Supplies  Fasteners        217\n",
            "                 Supplies         190\n",
            "Technology       Machines         115\n",
            "                 Copiers           68\n",
            "dtype: int64\n"
          ],
          "name": "stdout"
        }
      ]
    },
    {
      "cell_type": "code",
      "metadata": {
        "colab": {
          "base_uri": "https://localhost:8080/",
          "height": 755
        },
        "id": "d19RHyyh-L9_",
        "outputId": "3c155342-2df3-4b98-a2ab-b1efc091fb89"
      },
      "source": [
        "plt.figure(figsize=(10,10))\n",
        "x.plot.bar(x=\"Category\", y=\"Sub-Category\", title=\"compare\",color=\"b\");\n",
        "plt.show()"
      ],
      "execution_count": 104,
      "outputs": [
        {
          "output_type": "display_data",
          "data": {
            "image/png": "[encoded data removed]",
            "text/plain": [
              "<Figure size 720x720 with 1 Axes>"
            ]
          },
          "metadata": {
            "tags": [],
            "needs_background": "light"
          }
        }
      ]
    },
    {
      "cell_type": "code",
      "metadata": {
        "colab": {
          "base_uri": "https://localhost:8080/",
          "height": 575
        },
        "id": "6khLenRGC2b2",
        "outputId": "fbd11329-2159-420a-eb37-66e8d74cdae5"
      },
      "source": [
        "plt.figure(figsize=(12,10))\n",
        "df['Sub-Category'].value_counts().plot.pie(autopct=\"%1.1f%%\")\n",
        "plt.show()"
      ],
      "execution_count": null,
      "outputs": [
        {
          "output_type": "display_data",
          "data": {
            "image/png": "[encoded data removed]",
            "text/plain": [
              "<Figure size 864x720 with 1 Axes>"
            ]
          },
          "metadata": {
            "tags": []
          }
        }
      ]
    },
    {
      "cell_type": "markdown",
      "metadata": {
        "id": "Qa_DSeCtkEqS"
      },
      "source": [
        "**BASIC STATISTICAL DETAILS**"
      ]
    },
    {
      "cell_type": "code",
      "metadata": {
        "colab": {
          "base_uri": "https://localhost:8080/",
          "height": 297
        },
        "id": "mS6hfHvFkGiu",
        "outputId": "7ce7de41-fbf7-49e2-8cac-42d30a88dd71"
      },
      "source": [
        "df.describe()"
      ],
      "execution_count": null,
      "outputs": [
        {
          "output_type": "execute_result",
          "data": {
            "text/html": [
              "<div>\n",
              "<style scoped>\n",
              "    .dataframe tbody tr th:only-of-type {\n",
              "        vertical-align: middle;\n",
              "    }\n",
              "\n",
              "    .dataframe tbody tr th {\n",
              "        vertical-align: top;\n",
              "    }\n",
              "\n",
              "    .dataframe thead th {\n",
              "        text-align: right;\n",
              "    }\n",
              "</style>\n",
              "<table border=\"1\" class=\"dataframe\">\n",
              "  <thead>\n",
              "    <tr style=\"text-align: right;\">\n",
              "      <th></th>\n",
              "      <th>Postal Code</th>\n",
              "      <th>Sales</th>\n",
              "      <th>Quantity</th>\n",
              "      <th>Discount</th>\n",
              "      <th>Profit</th>\n",
              "    </tr>\n",
              "  </thead>\n",
              "  <tbody>\n",
              "    <tr>\n",
              "      <th>count</th>\n",
              "      <td>9994.000000</td>\n",
              "      <td>9994.000000</td>\n",
              "      <td>9994.000000</td>\n",
              "      <td>9994.000000</td>\n",
              "      <td>9994.000000</td>\n",
              "    </tr>\n",
              "    <tr>\n",
              "      <th>mean</th>\n",
              "      <td>55190.379428</td>\n",
              "      <td>229.858001</td>\n",
              "      <td>3.789574</td>\n",
              "      <td>0.156203</td>\n",
              "      <td>28.656896</td>\n",
              "    </tr>\n",
              "    <tr>\n",
              "      <th>std</th>\n",
              "      <td>32063.693350</td>\n",
              "      <td>623.245101</td>\n",
              "      <td>2.225110</td>\n",
              "      <td>0.206452</td>\n",
              "      <td>234.260108</td>\n",
              "    </tr>\n",
              "    <tr>\n",
              "      <th>min</th>\n",
              "      <td>1040.000000</td>\n",
              "      <td>0.444000</td>\n",
              "      <td>1.000000</td>\n",
              "      <td>0.000000</td>\n",
              "      <td>-6599.978000</td>\n",
              "    </tr>\n",
              "    <tr>\n",
              "      <th>25%</th>\n",
              "      <td>23223.000000</td>\n",
              "      <td>17.280000</td>\n",
              "      <td>2.000000</td>\n",
              "      <td>0.000000</td>\n",
              "      <td>1.728750</td>\n",
              "    </tr>\n",
              "    <tr>\n",
              "      <th>50%</th>\n",
              "      <td>56430.500000</td>\n",
              "      <td>54.490000</td>\n",
              "      <td>3.000000</td>\n",
              "      <td>0.200000</td>\n",
              "      <td>8.666500</td>\n",
              "    </tr>\n",
              "    <tr>\n",
              "      <th>75%</th>\n",
              "      <td>90008.000000</td>\n",
              "      <td>209.940000</td>\n",
              "      <td>5.000000</td>\n",
              "      <td>0.200000</td>\n",
              "      <td>29.364000</td>\n",
              "    </tr>\n",
              "    <tr>\n",
              "      <th>max</th>\n",
              "      <td>99301.000000</td>\n",
              "      <td>22638.480000</td>\n",
              "      <td>14.000000</td>\n",
              "      <td>0.800000</td>\n",
              "      <td>8399.976000</td>\n",
              "    </tr>\n",
              "  </tbody>\n",
              "</table>\n",
              "</div>"
            ],
            "text/plain": [
              "        Postal Code         Sales     Quantity     Discount       Profit\n",
              "count   9994.000000   9994.000000  9994.000000  9994.000000  9994.000000\n",
              "mean   55190.379428    229.858001     3.789574     0.156203    28.656896\n",
              "std    32063.693350    623.245101     2.225110     0.206452   234.260108\n",
              "min     1040.000000      0.444000     1.000000     0.000000 -6599.978000\n",
              "25%    23223.000000     17.280000     2.000000     0.000000     1.728750\n",
              "50%    56430.500000     54.490000     3.000000     0.200000     8.666500\n",
              "75%    90008.000000    209.940000     5.000000     0.200000    29.364000\n",
              "max    99301.000000  22638.480000    14.000000     0.800000  8399.976000"
            ]
          },
          "metadata": {
            "tags": []
          },
          "execution_count": 20
        }
      ]
    },
    {
      "cell_type": "markdown",
      "metadata": {
        "id": "SEkSdHXLkXxO"
      },
      "source": [
        "# **EXPLORATORY DATA ANALYSIS**\n"
      ]
    },
    {
      "cell_type": "markdown",
      "metadata": {
        "id": "j3fT71IKj5dX"
      },
      "source": [
        "**CHECK THE VALUE IS NULL**"
      ]
    },
    {
      "cell_type": "code",
      "metadata": {
        "colab": {
          "base_uri": "https://localhost:8080/"
        },
        "id": "439vtemuj72y",
        "outputId": "8bfed644-be80-4245-bd7a-3549597a99cb"
      },
      "source": [
        "df.isnull().sum()"
      ],
      "execution_count": null,
      "outputs": [
        {
          "output_type": "execute_result",
          "data": {
            "text/plain": [
              "Ship Mode       0\n",
              "Segment         0\n",
              "Country         0\n",
              "City            0\n",
              "State           0\n",
              "Postal Code     0\n",
              "Region          0\n",
              "Category        0\n",
              "Sub-Category    0\n",
              "Sales           0\n",
              "Quantity        0\n",
              "Discount        0\n",
              "Profit          0\n",
              "dtype: int64"
            ]
          },
          "metadata": {
            "tags": []
          },
          "execution_count": 21
        }
      ]
    },
    {
      "cell_type": "code",
      "metadata": {
        "colab": {
          "base_uri": "https://localhost:8080/",
          "height": 398
        },
        "id": "XYk2eMz_kcpf",
        "outputId": "f5ffb2ad-77ba-4c44-8b29-c10f54df1047"
      },
      "source": [
        "#Total Profit and Sales per Sub-Category Visualization\n",
        "\n",
        "df.groupby('Sub-Category')['Profit','Sales'].agg(['sum']).plot.bar()\n",
        "plt.title('Total Profit and Sales per Sub-Category')\n",
        "plt.show()"
      ],
      "execution_count": null,
      "outputs": [
        {
          "output_type": "stream",
          "text": [
            "/usr/local/lib/python3.7/dist-packages/ipykernel_launcher.py:3: FutureWarning: Indexing with multiple keys (implicitly converted to a tuple of keys) will be deprecated, use a list instead.\n",
            "  This is separate from the ipykernel package so we can avoid doing imports until\n"
          ],
          "name": "stderr"
        },
        {
          "output_type": "display_data",
          "data": {
            "image/png": "[encoded data removed]",
            "text/plain": [
              "<Figure size 432x288 with 1 Axes>"
            ]
          },
          "metadata": {
            "tags": [],
            "needs_background": "light"
          }
        }
      ]
    },
    {
      "cell_type": "code",
      "metadata": {
        "colab": {
          "base_uri": "https://localhost:8080/",
          "height": 877
        },
        "id": "F36fy46bHfmJ",
        "outputId": "b43553ba-90ff-4084-9fa2-205c2744ce62"
      },
      "source": [
        "import seaborn as sns\n",
        "plt.figure(figsize=(20,15))\n",
        "sns.countplot(x=\"Sub-Category\", hue=\"Region\", data=df)\n",
        "plt.show()"
      ],
      "execution_count": null,
      "outputs": [
        {
          "output_type": "display_data",
          "data": {
            "image/png": "[encoded data removed]",
            "text/plain": [
              "<Figure size 1440x1080 with 1 Axes>"
            ]
          },
          "metadata": {
            "tags": [],
            "needs_background": "light"
          }
        }
      ]
    },
    {
      "cell_type": "code",
      "metadata": {
        "colab": {
          "base_uri": "https://localhost:8080/",
          "height": 376
        },
        "id": "0tDx3U83MkOk",
        "outputId": "d55a6479-a531-4cd2-db18-8cd221c06a70"
      },
      "source": [
        "#Total Profit and Sales in region visulization\n",
        "df.groupby('Region')['Profit','Sales'].agg(['sum']).plot.bar()\n",
        "plt.title('Total Profit and Sales in region')\n",
        "plt.show()"
      ],
      "execution_count": null,
      "outputs": [
        {
          "output_type": "stream",
          "text": [
            "/usr/local/lib/python3.7/dist-packages/ipykernel_launcher.py:2: FutureWarning: Indexing with multiple keys (implicitly converted to a tuple of keys) will be deprecated, use a list instead.\n",
            "  \n"
          ],
          "name": "stderr"
        },
        {
          "output_type": "display_data",
          "data": {
            "image/png": "[encoded data removed]",
            "text/plain": [
              "<Figure size 432x288 with 1 Axes>"
            ]
          },
          "metadata": {
            "tags": [],
            "needs_background": "light"
          }
        }
      ]
    },
    {
      "cell_type": "code",
      "metadata": {
        "colab": {
          "base_uri": "https://localhost:8080/",
          "height": 306
        },
        "id": "Af2KdQLdKhWv",
        "outputId": "3b4b28b3-dd45-4498-da2c-1bef5bb0bd7b"
      },
      "source": [
        "#findout the cost\n",
        "df['Cost']=df['Sales']-df['Profit']\n",
        "df.head()"
      ],
      "execution_count": null,
      "outputs": [
        {
          "output_type": "execute_result",
          "data": {
            "text/html": [
              "<div>\n",
              "<style scoped>\n",
              "    .dataframe tbody tr th:only-of-type {\n",
              "        vertical-align: middle;\n",
              "    }\n",
              "\n",
              "    .dataframe tbody tr th {\n",
              "        vertical-align: top;\n",
              "    }\n",
              "\n",
              "    .dataframe thead th {\n",
              "        text-align: right;\n",
              "    }\n",
              "</style>\n",
              "<table border=\"1\" class=\"dataframe\">\n",
              "  <thead>\n",
              "    <tr style=\"text-align: right;\">\n",
              "      <th></th>\n",
              "      <th>Ship Mode</th>\n",
              "      <th>Segment</th>\n",
              "      <th>Country</th>\n",
              "      <th>City</th>\n",
              "      <th>State</th>\n",
              "      <th>Postal Code</th>\n",
              "      <th>Region</th>\n",
              "      <th>Category</th>\n",
              "      <th>Sub-Category</th>\n",
              "      <th>Sales</th>\n",
              "      <th>Quantity</th>\n",
              "      <th>Discount</th>\n",
              "      <th>Profit</th>\n",
              "      <th>Cost</th>\n",
              "    </tr>\n",
              "  </thead>\n",
              "  <tbody>\n",
              "    <tr>\n",
              "      <th>0</th>\n",
              "      <td>Second Class</td>\n",
              "      <td>Consumer</td>\n",
              "      <td>United States</td>\n",
              "      <td>Henderson</td>\n",
              "      <td>Kentucky</td>\n",
              "      <td>42420</td>\n",
              "      <td>South</td>\n",
              "      <td>Furniture</td>\n",
              "      <td>Bookcases</td>\n",
              "      <td>261.9600</td>\n",
              "      <td>2</td>\n",
              "      <td>0.00</td>\n",
              "      <td>41.9136</td>\n",
              "      <td>220.0464</td>\n",
              "    </tr>\n",
              "    <tr>\n",
              "      <th>1</th>\n",
              "      <td>Second Class</td>\n",
              "      <td>Consumer</td>\n",
              "      <td>United States</td>\n",
              "      <td>Henderson</td>\n",
              "      <td>Kentucky</td>\n",
              "      <td>42420</td>\n",
              "      <td>South</td>\n",
              "      <td>Furniture</td>\n",
              "      <td>Chairs</td>\n",
              "      <td>731.9400</td>\n",
              "      <td>3</td>\n",
              "      <td>0.00</td>\n",
              "      <td>219.5820</td>\n",
              "      <td>512.3580</td>\n",
              "    </tr>\n",
              "    <tr>\n",
              "      <th>2</th>\n",
              "      <td>Second Class</td>\n",
              "      <td>Corporate</td>\n",
              "      <td>United States</td>\n",
              "      <td>Los Angeles</td>\n",
              "      <td>California</td>\n",
              "      <td>90036</td>\n",
              "      <td>West</td>\n",
              "      <td>Office Supplies</td>\n",
              "      <td>Labels</td>\n",
              "      <td>14.6200</td>\n",
              "      <td>2</td>\n",
              "      <td>0.00</td>\n",
              "      <td>6.8714</td>\n",
              "      <td>7.7486</td>\n",
              "    </tr>\n",
              "    <tr>\n",
              "      <th>3</th>\n",
              "      <td>Standard Class</td>\n",
              "      <td>Consumer</td>\n",
              "      <td>United States</td>\n",
              "      <td>Fort Lauderdale</td>\n",
              "      <td>Florida</td>\n",
              "      <td>33311</td>\n",
              "      <td>South</td>\n",
              "      <td>Furniture</td>\n",
              "      <td>Tables</td>\n",
              "      <td>957.5775</td>\n",
              "      <td>5</td>\n",
              "      <td>0.45</td>\n",
              "      <td>-383.0310</td>\n",
              "      <td>1340.6085</td>\n",
              "    </tr>\n",
              "    <tr>\n",
              "      <th>4</th>\n",
              "      <td>Standard Class</td>\n",
              "      <td>Consumer</td>\n",
              "      <td>United States</td>\n",
              "      <td>Fort Lauderdale</td>\n",
              "      <td>Florida</td>\n",
              "      <td>33311</td>\n",
              "      <td>South</td>\n",
              "      <td>Office Supplies</td>\n",
              "      <td>Storage</td>\n",
              "      <td>22.3680</td>\n",
              "      <td>2</td>\n",
              "      <td>0.20</td>\n",
              "      <td>2.5164</td>\n",
              "      <td>19.8516</td>\n",
              "    </tr>\n",
              "  </tbody>\n",
              "</table>\n",
              "</div>"
            ],
            "text/plain": [
              "        Ship Mode    Segment        Country  ... Discount    Profit       Cost\n",
              "0    Second Class   Consumer  United States  ...     0.00   41.9136   220.0464\n",
              "1    Second Class   Consumer  United States  ...     0.00  219.5820   512.3580\n",
              "2    Second Class  Corporate  United States  ...     0.00    6.8714     7.7486\n",
              "3  Standard Class   Consumer  United States  ...     0.45 -383.0310  1340.6085\n",
              "4  Standard Class   Consumer  United States  ...     0.20    2.5164    19.8516\n",
              "\n",
              "[5 rows x 14 columns]"
            ]
          },
          "metadata": {
            "tags": []
          },
          "execution_count": 25
        }
      ]
    },
    {
      "cell_type": "code",
      "metadata": {
        "colab": {
          "base_uri": "https://localhost:8080/",
          "height": 606
        },
        "id": "6bcJVPcbLRKi",
        "outputId": "9936b896-5395-434e-f697-ddf1c9d63697"
      },
      "source": [
        "#Products with high Profit according to category\n",
        "df.sort_values(['Profit','Category'],ascending=False).groupby('Profit').head(10)"
      ],
      "execution_count": null,
      "outputs": [
        {
          "output_type": "execute_result",
          "data": {
            "text/html": [
              "<div>\n",
              "<style scoped>\n",
              "    .dataframe tbody tr th:only-of-type {\n",
              "        vertical-align: middle;\n",
              "    }\n",
              "\n",
              "    .dataframe tbody tr th {\n",
              "        vertical-align: top;\n",
              "    }\n",
              "\n",
              "    .dataframe thead th {\n",
              "        text-align: right;\n",
              "    }\n",
              "</style>\n",
              "<table border=\"1\" class=\"dataframe\">\n",
              "  <thead>\n",
              "    <tr style=\"text-align: right;\">\n",
              "      <th></th>\n",
              "      <th>Ship Mode</th>\n",
              "      <th>Segment</th>\n",
              "      <th>Country</th>\n",
              "      <th>City</th>\n",
              "      <th>State</th>\n",
              "      <th>Postal Code</th>\n",
              "      <th>Region</th>\n",
              "      <th>Category</th>\n",
              "      <th>Sub-Category</th>\n",
              "      <th>Sales</th>\n",
              "      <th>Quantity</th>\n",
              "      <th>Discount</th>\n",
              "      <th>Profit</th>\n",
              "      <th>Cost</th>\n",
              "    </tr>\n",
              "  </thead>\n",
              "  <tbody>\n",
              "    <tr>\n",
              "      <th>6826</th>\n",
              "      <td>Standard Class</td>\n",
              "      <td>Corporate</td>\n",
              "      <td>United States</td>\n",
              "      <td>Lafayette</td>\n",
              "      <td>Indiana</td>\n",
              "      <td>47905</td>\n",
              "      <td>Central</td>\n",
              "      <td>Technology</td>\n",
              "      <td>Copiers</td>\n",
              "      <td>17499.950</td>\n",
              "      <td>5</td>\n",
              "      <td>0.0</td>\n",
              "      <td>8399.9760</td>\n",
              "      <td>9099.9740</td>\n",
              "    </tr>\n",
              "    <tr>\n",
              "      <th>8153</th>\n",
              "      <td>First Class</td>\n",
              "      <td>Consumer</td>\n",
              "      <td>United States</td>\n",
              "      <td>Seattle</td>\n",
              "      <td>Washington</td>\n",
              "      <td>98115</td>\n",
              "      <td>West</td>\n",
              "      <td>Technology</td>\n",
              "      <td>Copiers</td>\n",
              "      <td>13999.960</td>\n",
              "      <td>4</td>\n",
              "      <td>0.0</td>\n",
              "      <td>6719.9808</td>\n",
              "      <td>7279.9792</td>\n",
              "    </tr>\n",
              "    <tr>\n",
              "      <th>4190</th>\n",
              "      <td>Standard Class</td>\n",
              "      <td>Consumer</td>\n",
              "      <td>United States</td>\n",
              "      <td>Newark</td>\n",
              "      <td>Delaware</td>\n",
              "      <td>19711</td>\n",
              "      <td>East</td>\n",
              "      <td>Technology</td>\n",
              "      <td>Copiers</td>\n",
              "      <td>10499.970</td>\n",
              "      <td>3</td>\n",
              "      <td>0.0</td>\n",
              "      <td>5039.9856</td>\n",
              "      <td>5459.9844</td>\n",
              "    </tr>\n",
              "    <tr>\n",
              "      <th>9039</th>\n",
              "      <td>Standard Class</td>\n",
              "      <td>Consumer</td>\n",
              "      <td>United States</td>\n",
              "      <td>Detroit</td>\n",
              "      <td>Michigan</td>\n",
              "      <td>48205</td>\n",
              "      <td>Central</td>\n",
              "      <td>Office Supplies</td>\n",
              "      <td>Binders</td>\n",
              "      <td>9892.740</td>\n",
              "      <td>13</td>\n",
              "      <td>0.0</td>\n",
              "      <td>4946.3700</td>\n",
              "      <td>4946.3700</td>\n",
              "    </tr>\n",
              "    <tr>\n",
              "      <th>4098</th>\n",
              "      <td>Standard Class</td>\n",
              "      <td>Consumer</td>\n",
              "      <td>United States</td>\n",
              "      <td>Minneapolis</td>\n",
              "      <td>Minnesota</td>\n",
              "      <td>55407</td>\n",
              "      <td>Central</td>\n",
              "      <td>Office Supplies</td>\n",
              "      <td>Binders</td>\n",
              "      <td>9449.950</td>\n",
              "      <td>5</td>\n",
              "      <td>0.0</td>\n",
              "      <td>4630.4755</td>\n",
              "      <td>4819.4745</td>\n",
              "    </tr>\n",
              "    <tr>\n",
              "      <th>...</th>\n",
              "      <td>...</td>\n",
              "      <td>...</td>\n",
              "      <td>...</td>\n",
              "      <td>...</td>\n",
              "      <td>...</td>\n",
              "      <td>...</td>\n",
              "      <td>...</td>\n",
              "      <td>...</td>\n",
              "      <td>...</td>\n",
              "      <td>...</td>\n",
              "      <td>...</td>\n",
              "      <td>...</td>\n",
              "      <td>...</td>\n",
              "      <td>...</td>\n",
              "    </tr>\n",
              "    <tr>\n",
              "      <th>4991</th>\n",
              "      <td>Standard Class</td>\n",
              "      <td>Corporate</td>\n",
              "      <td>United States</td>\n",
              "      <td>Chicago</td>\n",
              "      <td>Illinois</td>\n",
              "      <td>60653</td>\n",
              "      <td>Central</td>\n",
              "      <td>Office Supplies</td>\n",
              "      <td>Binders</td>\n",
              "      <td>1889.990</td>\n",
              "      <td>5</td>\n",
              "      <td>0.8</td>\n",
              "      <td>-2929.4845</td>\n",
              "      <td>4819.4745</td>\n",
              "    </tr>\n",
              "    <tr>\n",
              "      <th>3011</th>\n",
              "      <td>Standard Class</td>\n",
              "      <td>Home Office</td>\n",
              "      <td>United States</td>\n",
              "      <td>Louisville</td>\n",
              "      <td>Colorado</td>\n",
              "      <td>80027</td>\n",
              "      <td>West</td>\n",
              "      <td>Technology</td>\n",
              "      <td>Machines</td>\n",
              "      <td>2549.985</td>\n",
              "      <td>5</td>\n",
              "      <td>0.7</td>\n",
              "      <td>-3399.9800</td>\n",
              "      <td>5949.9650</td>\n",
              "    </tr>\n",
              "    <tr>\n",
              "      <th>9774</th>\n",
              "      <td>Standard Class</td>\n",
              "      <td>Consumer</td>\n",
              "      <td>United States</td>\n",
              "      <td>San Antonio</td>\n",
              "      <td>Texas</td>\n",
              "      <td>78207</td>\n",
              "      <td>Central</td>\n",
              "      <td>Office Supplies</td>\n",
              "      <td>Binders</td>\n",
              "      <td>2177.584</td>\n",
              "      <td>8</td>\n",
              "      <td>0.8</td>\n",
              "      <td>-3701.8928</td>\n",
              "      <td>5879.4768</td>\n",
              "    </tr>\n",
              "    <tr>\n",
              "      <th>683</th>\n",
              "      <td>Same Day</td>\n",
              "      <td>Corporate</td>\n",
              "      <td>United States</td>\n",
              "      <td>Burlington</td>\n",
              "      <td>North Carolina</td>\n",
              "      <td>27217</td>\n",
              "      <td>South</td>\n",
              "      <td>Technology</td>\n",
              "      <td>Machines</td>\n",
              "      <td>7999.980</td>\n",
              "      <td>4</td>\n",
              "      <td>0.5</td>\n",
              "      <td>-3839.9904</td>\n",
              "      <td>11839.9704</td>\n",
              "    </tr>\n",
              "    <tr>\n",
              "      <th>7772</th>\n",
              "      <td>Standard Class</td>\n",
              "      <td>Consumer</td>\n",
              "      <td>United States</td>\n",
              "      <td>Lancaster</td>\n",
              "      <td>Ohio</td>\n",
              "      <td>43130</td>\n",
              "      <td>East</td>\n",
              "      <td>Technology</td>\n",
              "      <td>Machines</td>\n",
              "      <td>4499.985</td>\n",
              "      <td>5</td>\n",
              "      <td>0.7</td>\n",
              "      <td>-6599.9780</td>\n",
              "      <td>11099.9630</td>\n",
              "    </tr>\n",
              "  </tbody>\n",
              "</table>\n",
              "<p>9789 rows × 14 columns</p>\n",
              "</div>"
            ],
            "text/plain": [
              "           Ship Mode      Segment  ...     Profit        Cost\n",
              "6826  Standard Class    Corporate  ...  8399.9760   9099.9740\n",
              "8153     First Class     Consumer  ...  6719.9808   7279.9792\n",
              "4190  Standard Class     Consumer  ...  5039.9856   5459.9844\n",
              "9039  Standard Class     Consumer  ...  4946.3700   4946.3700\n",
              "4098  Standard Class     Consumer  ...  4630.4755   4819.4745\n",
              "...              ...          ...  ...        ...         ...\n",
              "4991  Standard Class    Corporate  ... -2929.4845   4819.4745\n",
              "3011  Standard Class  Home Office  ... -3399.9800   5949.9650\n",
              "9774  Standard Class     Consumer  ... -3701.8928   5879.4768\n",
              "683         Same Day    Corporate  ... -3839.9904  11839.9704\n",
              "7772  Standard Class     Consumer  ... -6599.9780  11099.9630\n",
              "\n",
              "[9789 rows x 14 columns]"
            ]
          },
          "metadata": {
            "tags": []
          },
          "execution_count": 26
        }
      ]
    },
    {
      "cell_type": "code",
      "metadata": {
        "colab": {
          "base_uri": "https://localhost:8080/",
          "height": 790
        },
        "id": "t6M9SHiTSE5f",
        "outputId": "03118f2e-905d-433f-ee37-06de7af708b5"
      },
      "source": [
        "#Products with high Profit and sales according to keys\n",
        "print(df.columns)\n",
        "key1=input(\"\\nEnter a key1\\n\")\n",
        "key2=input(\"Enter a key2\\n\")\n",
        "vis=df.sort_values([key1,key2],ascending=False).groupby('Profit').head(5)\n",
        "vis"
      ],
      "execution_count": null,
      "outputs": [
        {
          "output_type": "stream",
          "text": [
            "Index(['Ship Mode', 'Segment', 'Country', 'City', 'State', 'Postal Code',\n",
            "       'Region', 'Category', 'Sub-Category', 'Sales', 'Quantity', 'Discount',\n",
            "       'Profit', 'Cost'],\n",
            "      dtype='object')\n",
            "\n",
            "Enter a key1\n",
            "State\n",
            "Enter a key2\n",
            "Sales\n"
          ],
          "name": "stdout"
        },
        {
          "output_type": "execute_result",
          "data": {
            "text/html": [
              "<div>\n",
              "<style scoped>\n",
              "    .dataframe tbody tr th:only-of-type {\n",
              "        vertical-align: middle;\n",
              "    }\n",
              "\n",
              "    .dataframe tbody tr th {\n",
              "        vertical-align: top;\n",
              "    }\n",
              "\n",
              "    .dataframe thead th {\n",
              "        text-align: right;\n",
              "    }\n",
              "</style>\n",
              "<table border=\"1\" class=\"dataframe\">\n",
              "  <thead>\n",
              "    <tr style=\"text-align: right;\">\n",
              "      <th></th>\n",
              "      <th>Ship Mode</th>\n",
              "      <th>Segment</th>\n",
              "      <th>Country</th>\n",
              "      <th>City</th>\n",
              "      <th>State</th>\n",
              "      <th>Postal Code</th>\n",
              "      <th>Region</th>\n",
              "      <th>Category</th>\n",
              "      <th>Sub-Category</th>\n",
              "      <th>Sales</th>\n",
              "      <th>Quantity</th>\n",
              "      <th>Discount</th>\n",
              "      <th>Cost</th>\n",
              "    </tr>\n",
              "    <tr>\n",
              "      <th>Profit</th>\n",
              "      <th></th>\n",
              "      <th></th>\n",
              "      <th></th>\n",
              "      <th></th>\n",
              "      <th></th>\n",
              "      <th></th>\n",
              "      <th></th>\n",
              "      <th></th>\n",
              "      <th></th>\n",
              "      <th></th>\n",
              "      <th></th>\n",
              "      <th></th>\n",
              "      <th></th>\n",
              "    </tr>\n",
              "  </thead>\n",
              "  <tbody>\n",
              "    <tr>\n",
              "      <th>-6599.9780</th>\n",
              "      <td>Standard Class</td>\n",
              "      <td>Consumer</td>\n",
              "      <td>United States</td>\n",
              "      <td>Lancaster</td>\n",
              "      <td>Ohio</td>\n",
              "      <td>43130</td>\n",
              "      <td>East</td>\n",
              "      <td>Technology</td>\n",
              "      <td>Machines</td>\n",
              "      <td>4499.985</td>\n",
              "      <td>5</td>\n",
              "      <td>0.7</td>\n",
              "      <td>11099.9630</td>\n",
              "    </tr>\n",
              "    <tr>\n",
              "      <th>-3839.9904</th>\n",
              "      <td>Same Day</td>\n",
              "      <td>Corporate</td>\n",
              "      <td>United States</td>\n",
              "      <td>Burlington</td>\n",
              "      <td>North Carolina</td>\n",
              "      <td>27217</td>\n",
              "      <td>South</td>\n",
              "      <td>Technology</td>\n",
              "      <td>Machines</td>\n",
              "      <td>7999.980</td>\n",
              "      <td>4</td>\n",
              "      <td>0.5</td>\n",
              "      <td>11839.9704</td>\n",
              "    </tr>\n",
              "    <tr>\n",
              "      <th>-3701.8928</th>\n",
              "      <td>Standard Class</td>\n",
              "      <td>Consumer</td>\n",
              "      <td>United States</td>\n",
              "      <td>San Antonio</td>\n",
              "      <td>Texas</td>\n",
              "      <td>78207</td>\n",
              "      <td>Central</td>\n",
              "      <td>Office Supplies</td>\n",
              "      <td>Binders</td>\n",
              "      <td>2177.584</td>\n",
              "      <td>8</td>\n",
              "      <td>0.8</td>\n",
              "      <td>5879.4768</td>\n",
              "    </tr>\n",
              "    <tr>\n",
              "      <th>-3399.9800</th>\n",
              "      <td>Standard Class</td>\n",
              "      <td>Home Office</td>\n",
              "      <td>United States</td>\n",
              "      <td>Louisville</td>\n",
              "      <td>Colorado</td>\n",
              "      <td>80027</td>\n",
              "      <td>West</td>\n",
              "      <td>Technology</td>\n",
              "      <td>Machines</td>\n",
              "      <td>2549.985</td>\n",
              "      <td>5</td>\n",
              "      <td>0.7</td>\n",
              "      <td>5949.9650</td>\n",
              "    </tr>\n",
              "    <tr>\n",
              "      <th>-2929.4845</th>\n",
              "      <td>Standard Class</td>\n",
              "      <td>Corporate</td>\n",
              "      <td>United States</td>\n",
              "      <td>Chicago</td>\n",
              "      <td>Illinois</td>\n",
              "      <td>60653</td>\n",
              "      <td>Central</td>\n",
              "      <td>Office Supplies</td>\n",
              "      <td>Binders</td>\n",
              "      <td>1889.990</td>\n",
              "      <td>5</td>\n",
              "      <td>0.8</td>\n",
              "      <td>4819.4745</td>\n",
              "    </tr>\n",
              "    <tr>\n",
              "      <th>...</th>\n",
              "      <td>...</td>\n",
              "      <td>...</td>\n",
              "      <td>...</td>\n",
              "      <td>...</td>\n",
              "      <td>...</td>\n",
              "      <td>...</td>\n",
              "      <td>...</td>\n",
              "      <td>...</td>\n",
              "      <td>...</td>\n",
              "      <td>...</td>\n",
              "      <td>...</td>\n",
              "      <td>...</td>\n",
              "      <td>...</td>\n",
              "    </tr>\n",
              "    <tr>\n",
              "      <th>4630.4755</th>\n",
              "      <td>Standard Class</td>\n",
              "      <td>Consumer</td>\n",
              "      <td>United States</td>\n",
              "      <td>Minneapolis</td>\n",
              "      <td>Minnesota</td>\n",
              "      <td>55407</td>\n",
              "      <td>Central</td>\n",
              "      <td>Office Supplies</td>\n",
              "      <td>Binders</td>\n",
              "      <td>9449.950</td>\n",
              "      <td>5</td>\n",
              "      <td>0.0</td>\n",
              "      <td>4819.4745</td>\n",
              "    </tr>\n",
              "    <tr>\n",
              "      <th>4946.3700</th>\n",
              "      <td>Standard Class</td>\n",
              "      <td>Consumer</td>\n",
              "      <td>United States</td>\n",
              "      <td>Detroit</td>\n",
              "      <td>Michigan</td>\n",
              "      <td>48205</td>\n",
              "      <td>Central</td>\n",
              "      <td>Office Supplies</td>\n",
              "      <td>Binders</td>\n",
              "      <td>9892.740</td>\n",
              "      <td>13</td>\n",
              "      <td>0.0</td>\n",
              "      <td>4946.3700</td>\n",
              "    </tr>\n",
              "    <tr>\n",
              "      <th>5039.9856</th>\n",
              "      <td>Standard Class</td>\n",
              "      <td>Consumer</td>\n",
              "      <td>United States</td>\n",
              "      <td>Newark</td>\n",
              "      <td>Delaware</td>\n",
              "      <td>19711</td>\n",
              "      <td>East</td>\n",
              "      <td>Technology</td>\n",
              "      <td>Copiers</td>\n",
              "      <td>10499.970</td>\n",
              "      <td>3</td>\n",
              "      <td>0.0</td>\n",
              "      <td>5459.9844</td>\n",
              "    </tr>\n",
              "    <tr>\n",
              "      <th>6719.9808</th>\n",
              "      <td>First Class</td>\n",
              "      <td>Consumer</td>\n",
              "      <td>United States</td>\n",
              "      <td>Seattle</td>\n",
              "      <td>Washington</td>\n",
              "      <td>98115</td>\n",
              "      <td>West</td>\n",
              "      <td>Technology</td>\n",
              "      <td>Copiers</td>\n",
              "      <td>13999.960</td>\n",
              "      <td>4</td>\n",
              "      <td>0.0</td>\n",
              "      <td>7279.9792</td>\n",
              "    </tr>\n",
              "    <tr>\n",
              "      <th>8399.9760</th>\n",
              "      <td>Standard Class</td>\n",
              "      <td>Corporate</td>\n",
              "      <td>United States</td>\n",
              "      <td>Lafayette</td>\n",
              "      <td>Indiana</td>\n",
              "      <td>47905</td>\n",
              "      <td>Central</td>\n",
              "      <td>Technology</td>\n",
              "      <td>Copiers</td>\n",
              "      <td>17499.950</td>\n",
              "      <td>5</td>\n",
              "      <td>0.0</td>\n",
              "      <td>9099.9740</td>\n",
              "    </tr>\n",
              "  </tbody>\n",
              "</table>\n",
              "<p>7287 rows × 13 columns</p>\n",
              "</div>"
            ],
            "text/plain": [
              "                 Ship Mode      Segment  ... Discount        Cost\n",
              "Profit                                   ...                     \n",
              "-6599.9780  Standard Class     Consumer  ...      0.7  11099.9630\n",
              "-3839.9904        Same Day    Corporate  ...      0.5  11839.9704\n",
              "-3701.8928  Standard Class     Consumer  ...      0.8   5879.4768\n",
              "-3399.9800  Standard Class  Home Office  ...      0.7   5949.9650\n",
              "-2929.4845  Standard Class    Corporate  ...      0.8   4819.4745\n",
              "...                    ...          ...  ...      ...         ...\n",
              " 4630.4755  Standard Class     Consumer  ...      0.0   4819.4745\n",
              " 4946.3700  Standard Class     Consumer  ...      0.0   4946.3700\n",
              " 5039.9856  Standard Class     Consumer  ...      0.0   5459.9844\n",
              " 6719.9808     First Class     Consumer  ...      0.0   7279.9792\n",
              " 8399.9760  Standard Class    Corporate  ...      0.0   9099.9740\n",
              "\n",
              "[7287 rows x 13 columns]"
            ]
          },
          "metadata": {
            "tags": []
          },
          "execution_count": 31
        }
      ]
    },
    {
      "cell_type": "code",
      "metadata": {
        "colab": {
          "base_uri": "https://localhost:8080/",
          "height": 306
        },
        "id": "1Lc06pCJZW67",
        "outputId": "5dc33e2c-aa62-4bc3-d344-9d9fa199951c"
      },
      "source": [
        "#total amount\n",
        "df['TotalAmount']= df['Quantity'] * df['Cost']\n",
        "df.head()"
      ],
      "execution_count": null,
      "outputs": [
        {
          "output_type": "execute_result",
          "data": {
            "text/html": [
              "<div>\n",
              "<style scoped>\n",
              "    .dataframe tbody tr th:only-of-type {\n",
              "        vertical-align: middle;\n",
              "    }\n",
              "\n",
              "    .dataframe tbody tr th {\n",
              "        vertical-align: top;\n",
              "    }\n",
              "\n",
              "    .dataframe thead th {\n",
              "        text-align: right;\n",
              "    }\n",
              "</style>\n",
              "<table border=\"1\" class=\"dataframe\">\n",
              "  <thead>\n",
              "    <tr style=\"text-align: right;\">\n",
              "      <th></th>\n",
              "      <th>Ship Mode</th>\n",
              "      <th>Segment</th>\n",
              "      <th>Country</th>\n",
              "      <th>City</th>\n",
              "      <th>State</th>\n",
              "      <th>Postal Code</th>\n",
              "      <th>Region</th>\n",
              "      <th>Category</th>\n",
              "      <th>Sub-Category</th>\n",
              "      <th>Sales</th>\n",
              "      <th>Quantity</th>\n",
              "      <th>Discount</th>\n",
              "      <th>Profit</th>\n",
              "      <th>Cost</th>\n",
              "      <th>TotalAmount</th>\n",
              "    </tr>\n",
              "  </thead>\n",
              "  <tbody>\n",
              "    <tr>\n",
              "      <th>0</th>\n",
              "      <td>Second Class</td>\n",
              "      <td>Consumer</td>\n",
              "      <td>United States</td>\n",
              "      <td>Henderson</td>\n",
              "      <td>Kentucky</td>\n",
              "      <td>42420</td>\n",
              "      <td>South</td>\n",
              "      <td>Furniture</td>\n",
              "      <td>Bookcases</td>\n",
              "      <td>261.9600</td>\n",
              "      <td>2</td>\n",
              "      <td>0.00</td>\n",
              "      <td>41.9136</td>\n",
              "      <td>220.0464</td>\n",
              "      <td>440.0928</td>\n",
              "    </tr>\n",
              "    <tr>\n",
              "      <th>1</th>\n",
              "      <td>Second Class</td>\n",
              "      <td>Consumer</td>\n",
              "      <td>United States</td>\n",
              "      <td>Henderson</td>\n",
              "      <td>Kentucky</td>\n",
              "      <td>42420</td>\n",
              "      <td>South</td>\n",
              "      <td>Furniture</td>\n",
              "      <td>Chairs</td>\n",
              "      <td>731.9400</td>\n",
              "      <td>3</td>\n",
              "      <td>0.00</td>\n",
              "      <td>219.5820</td>\n",
              "      <td>512.3580</td>\n",
              "      <td>1537.0740</td>\n",
              "    </tr>\n",
              "    <tr>\n",
              "      <th>2</th>\n",
              "      <td>Second Class</td>\n",
              "      <td>Corporate</td>\n",
              "      <td>United States</td>\n",
              "      <td>Los Angeles</td>\n",
              "      <td>California</td>\n",
              "      <td>90036</td>\n",
              "      <td>West</td>\n",
              "      <td>Office Supplies</td>\n",
              "      <td>Labels</td>\n",
              "      <td>14.6200</td>\n",
              "      <td>2</td>\n",
              "      <td>0.00</td>\n",
              "      <td>6.8714</td>\n",
              "      <td>7.7486</td>\n",
              "      <td>15.4972</td>\n",
              "    </tr>\n",
              "    <tr>\n",
              "      <th>3</th>\n",
              "      <td>Standard Class</td>\n",
              "      <td>Consumer</td>\n",
              "      <td>United States</td>\n",
              "      <td>Fort Lauderdale</td>\n",
              "      <td>Florida</td>\n",
              "      <td>33311</td>\n",
              "      <td>South</td>\n",
              "      <td>Furniture</td>\n",
              "      <td>Tables</td>\n",
              "      <td>957.5775</td>\n",
              "      <td>5</td>\n",
              "      <td>0.45</td>\n",
              "      <td>-383.0310</td>\n",
              "      <td>1340.6085</td>\n",
              "      <td>6703.0425</td>\n",
              "    </tr>\n",
              "    <tr>\n",
              "      <th>4</th>\n",
              "      <td>Standard Class</td>\n",
              "      <td>Consumer</td>\n",
              "      <td>United States</td>\n",
              "      <td>Fort Lauderdale</td>\n",
              "      <td>Florida</td>\n",
              "      <td>33311</td>\n",
              "      <td>South</td>\n",
              "      <td>Office Supplies</td>\n",
              "      <td>Storage</td>\n",
              "      <td>22.3680</td>\n",
              "      <td>2</td>\n",
              "      <td>0.20</td>\n",
              "      <td>2.5164</td>\n",
              "      <td>19.8516</td>\n",
              "      <td>39.7032</td>\n",
              "    </tr>\n",
              "  </tbody>\n",
              "</table>\n",
              "</div>"
            ],
            "text/plain": [
              "        Ship Mode    Segment        Country  ...    Profit       Cost  TotalAmount\n",
              "0    Second Class   Consumer  United States  ...   41.9136   220.0464     440.0928\n",
              "1    Second Class   Consumer  United States  ...  219.5820   512.3580    1537.0740\n",
              "2    Second Class  Corporate  United States  ...    6.8714     7.7486      15.4972\n",
              "3  Standard Class   Consumer  United States  ... -383.0310  1340.6085    6703.0425\n",
              "4  Standard Class   Consumer  United States  ...    2.5164    19.8516      39.7032\n",
              "\n",
              "[5 rows x 15 columns]"
            ]
          },
          "metadata": {
            "tags": []
          },
          "execution_count": 35
        }
      ]
    },
    {
      "cell_type": "code",
      "metadata": {
        "colab": {
          "base_uri": "https://localhost:8080/"
        },
        "id": "nL-ZH1QAJK_s",
        "outputId": "3c9bd19b-7e3d-436f-ba77-669c82ea74df"
      },
      "source": [
        "country_price =df.groupby('State')['Quantity'].sum().sort_values(ascending = False)\n",
        "country_price"
      ],
      "execution_count": null,
      "outputs": [
        {
          "output_type": "execute_result",
          "data": {
            "text/plain": [
              "State\n",
              "California              7667\n",
              "New York                4224\n",
              "Texas                   3724\n",
              "Pennsylvania            2153\n",
              "Washington              1883\n",
              "Illinois                1845\n",
              "Ohio                    1759\n",
              "Florida                 1379\n",
              "North Carolina           983\n",
              "Michigan                 946\n",
              "Virginia                 893\n",
              "Arizona                  862\n",
              "Georgia                  705\n",
              "Colorado                 693\n",
              "Tennessee                681\n",
              "Indiana                  578\n",
              "Kentucky                 523\n",
              "Oregon                   499\n",
              "Massachusetts            491\n",
              "Wisconsin                463\n",
              "New Jersey               454\n",
              "Maryland                 420\n",
              "Delaware                 367\n",
              "Minnesota                331\n",
              "Connecticut              281\n",
              "Alabama                  256\n",
              "Missouri                 252\n",
              "Oklahoma                 247\n",
              "Arkansas                 240\n",
              "Mississippi              221\n",
              "Utah                     219\n",
              "Rhode Island             199\n",
              "South Carolina           172\n",
              "Nevada                   168\n",
              "Louisiana                156\n",
              "New Mexico               151\n",
              "Nebraska                 136\n",
              "New Hampshire            127\n",
              "Iowa                     112\n",
              "Kansas                    74\n",
              "Idaho                     64\n",
              "Montana                   56\n",
              "Vermont                   50\n",
              "South Dakota              42\n",
              "District of Columbia      40\n",
              "Maine                     35\n",
              "North Dakota              30\n",
              "West Virginia             18\n",
              "Wyoming                    4\n",
              "Name: Quantity, dtype: int64"
            ]
          },
          "metadata": {
            "tags": []
          },
          "execution_count": 37
        }
      ]
    },
    {
      "cell_type": "code",
      "metadata": {
        "colab": {
          "base_uri": "https://localhost:8080/",
          "height": 355
        },
        "id": "mzkKGmN8KZfu",
        "outputId": "3ad7ca52-5d8b-4f17-e338-a79ac4091e64"
      },
      "source": [
        "# Top 5 Companies with high number of purchase\n",
        "country_price[:5].plot(kind = 'bar',color=\"y\")"
      ],
      "execution_count": 101,
      "outputs": [
        {
          "output_type": "execute_result",
          "data": {
            "text/plain": [
              "<matplotlib.axes._subplots.AxesSubplot at 0x7f33f8649f90>"
            ]
          },
          "metadata": {
            "tags": []
          },
          "execution_count": 101
        },
        {
          "output_type": "display_data",
          "data": {
            "image/png": "[encoded data removed]",
            "text/plain": [
              "<Figure size 432x288 with 1 Axes>"
            ]
          },
          "metadata": {
            "tags": [],
            "needs_background": "light"
          }
        }
      ]
    },
    {
      "cell_type": "code",
      "metadata": {
        "colab": {
          "base_uri": "https://localhost:8080/",
          "height": 385
        },
        "id": "vZ7SQy2oLYur",
        "outputId": "adbbf23d-a45f-46d5-f27c-5e55a512ae5b"
      },
      "source": [
        "# 5 Compaies with least number of purchase\n",
        "country_price[44:].plot(kind = 'bar',color=\"y\")"
      ],
      "execution_count": 102,
      "outputs": [
        {
          "output_type": "execute_result",
          "data": {
            "text/plain": [
              "<matplotlib.axes._subplots.AxesSubplot at 0x7f33f8666310>"
            ]
          },
          "metadata": {
            "tags": []
          },
          "execution_count": 102
        },
        {
          "output_type": "display_data",
          "data": {
            "image/png": "[encoded data removed]",
            "text/plain": [
              "<Figure size 432x288 with 1 Axes>"
            ]
          },
          "metadata": {
            "tags": [],
            "needs_background": "light"
          }
        }
      ]
    },
    {
      "cell_type": "code",
      "metadata": {
        "colab": {
          "base_uri": "https://localhost:8080/",
          "height": 504
        },
        "id": "XxqaAoT6NXdQ",
        "outputId": "50a20efc-5e25-4aeb-bece-3396cc7a9b02"
      },
      "source": [
        "# Sales Average of each product per Quantity\n",
        "\n",
        "avg_sales =df.groupby(['State','Sub-Category'])['Quantity','TotalAmount'].mean().sort_values(by = 'Quantity',ascending = False)\n",
        "avg_sales"
      ],
      "execution_count": 85,
      "outputs": [
        {
          "output_type": "stream",
          "text": [
            "/usr/local/lib/python3.7/dist-packages/ipykernel_launcher.py:3: FutureWarning: Indexing with multiple keys (implicitly converted to a tuple of keys) will be deprecated, use a list instead.\n",
            "  This is separate from the ipykernel package so we can avoid doing imports until\n"
          ],
          "name": "stderr"
        },
        {
          "output_type": "execute_result",
          "data": {
            "text/html": [
              "<div>\n",
              "<style scoped>\n",
              "    .dataframe tbody tr th:only-of-type {\n",
              "        vertical-align: middle;\n",
              "    }\n",
              "\n",
              "    .dataframe tbody tr th {\n",
              "        vertical-align: top;\n",
              "    }\n",
              "\n",
              "    .dataframe thead th {\n",
              "        text-align: right;\n",
              "    }\n",
              "</style>\n",
              "<table border=\"1\" class=\"dataframe\">\n",
              "  <thead>\n",
              "    <tr style=\"text-align: right;\">\n",
              "      <th></th>\n",
              "      <th></th>\n",
              "      <th>Quantity</th>\n",
              "      <th>TotalAmount</th>\n",
              "    </tr>\n",
              "    <tr>\n",
              "      <th>State</th>\n",
              "      <th>Sub-Category</th>\n",
              "      <th></th>\n",
              "      <th></th>\n",
              "    </tr>\n",
              "  </thead>\n",
              "  <tbody>\n",
              "    <tr>\n",
              "      <th>Vermont</th>\n",
              "      <th>Storage</th>\n",
              "      <td>13.0</td>\n",
              "      <td>15048.46980</td>\n",
              "    </tr>\n",
              "    <tr>\n",
              "      <th>Maine</th>\n",
              "      <th>Paper</th>\n",
              "      <td>13.0</td>\n",
              "      <td>1755.84240</td>\n",
              "    </tr>\n",
              "    <tr>\n",
              "      <th>Iowa</th>\n",
              "      <th>Chairs</th>\n",
              "      <td>10.0</td>\n",
              "      <td>10138.32000</td>\n",
              "    </tr>\n",
              "    <tr>\n",
              "      <th>Nevada</th>\n",
              "      <th>Machines</th>\n",
              "      <td>10.0</td>\n",
              "      <td>22166.70000</td>\n",
              "    </tr>\n",
              "    <tr>\n",
              "      <th>Utah</th>\n",
              "      <th>Accessories</th>\n",
              "      <td>9.5</td>\n",
              "      <td>727.36695</td>\n",
              "    </tr>\n",
              "    <tr>\n",
              "      <th>...</th>\n",
              "      <th>...</th>\n",
              "      <td>...</td>\n",
              "      <td>...</td>\n",
              "    </tr>\n",
              "    <tr>\n",
              "      <th>Wisconsin</th>\n",
              "      <th>Fasteners</th>\n",
              "      <td>1.0</td>\n",
              "      <td>1.15840</td>\n",
              "    </tr>\n",
              "    <tr>\n",
              "      <th>Vermont</th>\n",
              "      <th>Envelopes</th>\n",
              "      <td>1.0</td>\n",
              "      <td>1.08120</td>\n",
              "    </tr>\n",
              "    <tr>\n",
              "      <th>Connecticut</th>\n",
              "      <th>Tables</th>\n",
              "      <td>1.0</td>\n",
              "      <td>135.98580</td>\n",
              "    </tr>\n",
              "    <tr>\n",
              "      <th>Arkansas</th>\n",
              "      <th>Labels</th>\n",
              "      <td>1.0</td>\n",
              "      <td>3.87430</td>\n",
              "    </tr>\n",
              "    <tr>\n",
              "      <th>Iowa</th>\n",
              "      <th>Storage</th>\n",
              "      <td>1.0</td>\n",
              "      <td>9.97520</td>\n",
              "    </tr>\n",
              "  </tbody>\n",
              "</table>\n",
              "<p>656 rows × 2 columns</p>\n",
              "</div>"
            ],
            "text/plain": [
              "                          Quantity  TotalAmount\n",
              "State       Sub-Category                       \n",
              "Vermont     Storage           13.0  15048.46980\n",
              "Maine       Paper             13.0   1755.84240\n",
              "Iowa        Chairs            10.0  10138.32000\n",
              "Nevada      Machines          10.0  22166.70000\n",
              "Utah        Accessories        9.5    727.36695\n",
              "...                            ...          ...\n",
              "Wisconsin   Fasteners          1.0      1.15840\n",
              "Vermont     Envelopes          1.0      1.08120\n",
              "Connecticut Tables             1.0    135.98580\n",
              "Arkansas    Labels             1.0      3.87430\n",
              "Iowa        Storage            1.0      9.97520\n",
              "\n",
              "[656 rows x 2 columns]"
            ]
          },
          "metadata": {
            "tags": []
          },
          "execution_count": 85
        }
      ]
    },
    {
      "cell_type": "code",
      "metadata": {
        "colab": {
          "base_uri": "https://localhost:8080/",
          "height": 504
        },
        "id": "Mc0iig0dTob3",
        "outputId": "37cb56c3-32fc-4968-8ee8-b57111dadab7"
      },
      "source": [
        "# Sales max of each product per Quantity\n",
        "\n",
        "max_sales =df.groupby(['State','Sub-Category','Sub-Category'])['Quantity','TotalAmount'].max().sort_values(by = 'Quantity',ascending = False)\n",
        "max_sales"
      ],
      "execution_count": 78,
      "outputs": [
        {
          "output_type": "stream",
          "text": [
            "/usr/local/lib/python3.7/dist-packages/ipykernel_launcher.py:3: FutureWarning: Indexing with multiple keys (implicitly converted to a tuple of keys) will be deprecated, use a list instead.\n",
            "  This is separate from the ipykernel package so we can avoid doing imports until\n"
          ],
          "name": "stderr"
        },
        {
          "output_type": "execute_result",
          "data": {
            "text/html": [
              "<div>\n",
              "<style scoped>\n",
              "    .dataframe tbody tr th:only-of-type {\n",
              "        vertical-align: middle;\n",
              "    }\n",
              "\n",
              "    .dataframe tbody tr th {\n",
              "        vertical-align: top;\n",
              "    }\n",
              "\n",
              "    .dataframe thead th {\n",
              "        text-align: right;\n",
              "    }\n",
              "</style>\n",
              "<table border=\"1\" class=\"dataframe\">\n",
              "  <thead>\n",
              "    <tr style=\"text-align: right;\">\n",
              "      <th></th>\n",
              "      <th></th>\n",
              "      <th></th>\n",
              "      <th>Quantity</th>\n",
              "      <th>TotalAmount</th>\n",
              "    </tr>\n",
              "    <tr>\n",
              "      <th>State</th>\n",
              "      <th>Sub-Category</th>\n",
              "      <th>Sub-Category</th>\n",
              "      <th></th>\n",
              "      <th></th>\n",
              "    </tr>\n",
              "  </thead>\n",
              "  <tbody>\n",
              "    <tr>\n",
              "      <th>California</th>\n",
              "      <th>Storage</th>\n",
              "      <th>Storage</th>\n",
              "      <td>14</td>\n",
              "      <td>10654.5306</td>\n",
              "    </tr>\n",
              "    <tr>\n",
              "      <th>Kentucky</th>\n",
              "      <th>Accessories</th>\n",
              "      <th>Accessories</th>\n",
              "      <td>14</td>\n",
              "      <td>15591.8763</td>\n",
              "    </tr>\n",
              "    <tr>\n",
              "      <th>Ohio</th>\n",
              "      <th>Furnishings</th>\n",
              "      <th>Furnishings</th>\n",
              "      <td>14</td>\n",
              "      <td>3356.0352</td>\n",
              "    </tr>\n",
              "    <tr>\n",
              "      <th>Washington</th>\n",
              "      <th>Binders</th>\n",
              "      <th>Binders</th>\n",
              "      <td>14</td>\n",
              "      <td>16656.4107</td>\n",
              "    </tr>\n",
              "    <tr>\n",
              "      <th>California</th>\n",
              "      <th>Accessories</th>\n",
              "      <th>Accessories</th>\n",
              "      <td>14</td>\n",
              "      <td>35247.8061</td>\n",
              "    </tr>\n",
              "    <tr>\n",
              "      <th>...</th>\n",
              "      <th>...</th>\n",
              "      <th>...</th>\n",
              "      <td>...</td>\n",
              "      <td>...</td>\n",
              "    </tr>\n",
              "    <tr>\n",
              "      <th>Nevada</th>\n",
              "      <th>Fasteners</th>\n",
              "      <th>Fasteners</th>\n",
              "      <td>1</td>\n",
              "      <td>4.7100</td>\n",
              "    </tr>\n",
              "    <tr>\n",
              "      <th>Alabama</th>\n",
              "      <th>Appliances</th>\n",
              "      <th>Appliances</th>\n",
              "      <td>1</td>\n",
              "      <td>151.9568</td>\n",
              "    </tr>\n",
              "    <tr>\n",
              "      <th>Iowa</th>\n",
              "      <th>Storage</th>\n",
              "      <th>Storage</th>\n",
              "      <td>1</td>\n",
              "      <td>9.9752</td>\n",
              "    </tr>\n",
              "    <tr>\n",
              "      <th>Colorado</th>\n",
              "      <th>Copiers</th>\n",
              "      <th>Copiers</th>\n",
              "      <td>1</td>\n",
              "      <td>274.9950</td>\n",
              "    </tr>\n",
              "    <tr>\n",
              "      <th>Minnesota</th>\n",
              "      <th>Copiers</th>\n",
              "      <th>Copiers</th>\n",
              "      <td>1</td>\n",
              "      <td>274.9950</td>\n",
              "    </tr>\n",
              "  </tbody>\n",
              "</table>\n",
              "<p>656 rows × 2 columns</p>\n",
              "</div>"
            ],
            "text/plain": [
              "                                      Quantity  TotalAmount\n",
              "State      Sub-Category Sub-Category                       \n",
              "California Storage      Storage             14   10654.5306\n",
              "Kentucky   Accessories  Accessories         14   15591.8763\n",
              "Ohio       Furnishings  Furnishings         14    3356.0352\n",
              "Washington Binders      Binders             14   16656.4107\n",
              "California Accessories  Accessories         14   35247.8061\n",
              "...                                        ...          ...\n",
              "Nevada     Fasteners    Fasteners            1       4.7100\n",
              "Alabama    Appliances   Appliances           1     151.9568\n",
              "Iowa       Storage      Storage              1       9.9752\n",
              "Colorado   Copiers      Copiers              1     274.9950\n",
              "Minnesota  Copiers      Copiers              1     274.9950\n",
              "\n",
              "[656 rows x 2 columns]"
            ]
          },
          "metadata": {
            "tags": []
          },
          "execution_count": 78
        }
      ]
    },
    {
      "cell_type": "code",
      "metadata": {
        "colab": {
          "base_uri": "https://localhost:8080/",
          "height": 504
        },
        "id": "Ol5Se4rFWp5K",
        "outputId": "9d0961b1-56fa-45fd-9fe1-25fb4949c499"
      },
      "source": [
        "# Sales min of each product per Quantity\n",
        "\n",
        "min_sales =df.groupby(['State','Sub-Category'])['Quantity','TotalAmount'].min().sort_values(by = 'Quantity',ascending = True)\n",
        "min_sales\n"
      ],
      "execution_count": 84,
      "outputs": [
        {
          "output_type": "stream",
          "text": [
            "/usr/local/lib/python3.7/dist-packages/ipykernel_launcher.py:3: FutureWarning: Indexing with multiple keys (implicitly converted to a tuple of keys) will be deprecated, use a list instead.\n",
            "  This is separate from the ipykernel package so we can avoid doing imports until\n"
          ],
          "name": "stderr"
        },
        {
          "output_type": "execute_result",
          "data": {
            "text/html": [
              "<div>\n",
              "<style scoped>\n",
              "    .dataframe tbody tr th:only-of-type {\n",
              "        vertical-align: middle;\n",
              "    }\n",
              "\n",
              "    .dataframe tbody tr th {\n",
              "        vertical-align: top;\n",
              "    }\n",
              "\n",
              "    .dataframe thead th {\n",
              "        text-align: right;\n",
              "    }\n",
              "</style>\n",
              "<table border=\"1\" class=\"dataframe\">\n",
              "  <thead>\n",
              "    <tr style=\"text-align: right;\">\n",
              "      <th></th>\n",
              "      <th></th>\n",
              "      <th>Quantity</th>\n",
              "      <th>TotalAmount</th>\n",
              "    </tr>\n",
              "    <tr>\n",
              "      <th>State</th>\n",
              "      <th>Sub-Category</th>\n",
              "      <th></th>\n",
              "      <th></th>\n",
              "    </tr>\n",
              "  </thead>\n",
              "  <tbody>\n",
              "    <tr>\n",
              "      <th>Missouri</th>\n",
              "      <th>Appliances</th>\n",
              "      <td>1</td>\n",
              "      <td>33.8520</td>\n",
              "    </tr>\n",
              "    <tr>\n",
              "      <th>Oklahoma</th>\n",
              "      <th>Tables</th>\n",
              "      <td>1</td>\n",
              "      <td>199.2036</td>\n",
              "    </tr>\n",
              "    <tr>\n",
              "      <th>Oregon</th>\n",
              "      <th>Appliances</th>\n",
              "      <td>1</td>\n",
              "      <td>10.3378</td>\n",
              "    </tr>\n",
              "    <tr>\n",
              "      <th>Louisiana</th>\n",
              "      <th>Tables</th>\n",
              "      <td>1</td>\n",
              "      <td>63.6252</td>\n",
              "    </tr>\n",
              "    <tr>\n",
              "      <th>Oregon</th>\n",
              "      <th>Art</th>\n",
              "      <td>1</td>\n",
              "      <td>1.6680</td>\n",
              "    </tr>\n",
              "    <tr>\n",
              "      <th>...</th>\n",
              "      <th>...</th>\n",
              "      <td>...</td>\n",
              "      <td>...</td>\n",
              "    </tr>\n",
              "    <tr>\n",
              "      <th>Arkansas</th>\n",
              "      <th>Bookcases</th>\n",
              "      <td>9</td>\n",
              "      <td>4197.0474</td>\n",
              "    </tr>\n",
              "    <tr>\n",
              "      <th>Iowa</th>\n",
              "      <th>Chairs</th>\n",
              "      <td>10</td>\n",
              "      <td>10138.3200</td>\n",
              "    </tr>\n",
              "    <tr>\n",
              "      <th>Nevada</th>\n",
              "      <th>Machines</th>\n",
              "      <td>10</td>\n",
              "      <td>22166.7000</td>\n",
              "    </tr>\n",
              "    <tr>\n",
              "      <th>Vermont</th>\n",
              "      <th>Storage</th>\n",
              "      <td>13</td>\n",
              "      <td>15048.4698</td>\n",
              "    </tr>\n",
              "    <tr>\n",
              "      <th>Maine</th>\n",
              "      <th>Paper</th>\n",
              "      <td>13</td>\n",
              "      <td>1755.8424</td>\n",
              "    </tr>\n",
              "  </tbody>\n",
              "</table>\n",
              "<p>656 rows × 2 columns</p>\n",
              "</div>"
            ],
            "text/plain": [
              "                        Quantity  TotalAmount\n",
              "State     Sub-Category                       \n",
              "Missouri  Appliances           1      33.8520\n",
              "Oklahoma  Tables               1     199.2036\n",
              "Oregon    Appliances           1      10.3378\n",
              "Louisiana Tables               1      63.6252\n",
              "Oregon    Art                  1       1.6680\n",
              "...                          ...          ...\n",
              "Arkansas  Bookcases            9    4197.0474\n",
              "Iowa      Chairs              10   10138.3200\n",
              "Nevada    Machines            10   22166.7000\n",
              "Vermont   Storage             13   15048.4698\n",
              "Maine     Paper               13    1755.8424\n",
              "\n",
              "[656 rows x 2 columns]"
            ]
          },
          "metadata": {
            "tags": []
          },
          "execution_count": 84
        }
      ]
    },
    {
      "cell_type": "code",
      "metadata": {
        "colab": {
          "base_uri": "https://localhost:8080/",
          "height": 504
        },
        "id": "fcvPO0n2gruR",
        "outputId": "09bfed49-c469-4ff5-ccec-b83aac6832f5"
      },
      "source": [
        "# Sales Average of each product per Quantity\n",
        "\n",
        "avg_sales1 =df.groupby(['State','Category','Sub-Category'])['Quantity','TotalAmount'].mean().sort_values(by = 'Quantity',ascending = False)\n",
        "avg_sales1"
      ],
      "execution_count": 80,
      "outputs": [
        {
          "output_type": "stream",
          "text": [
            "/usr/local/lib/python3.7/dist-packages/ipykernel_launcher.py:3: FutureWarning: Indexing with multiple keys (implicitly converted to a tuple of keys) will be deprecated, use a list instead.\n",
            "  This is separate from the ipykernel package so we can avoid doing imports until\n"
          ],
          "name": "stderr"
        },
        {
          "output_type": "execute_result",
          "data": {
            "text/html": [
              "<div>\n",
              "<style scoped>\n",
              "    .dataframe tbody tr th:only-of-type {\n",
              "        vertical-align: middle;\n",
              "    }\n",
              "\n",
              "    .dataframe tbody tr th {\n",
              "        vertical-align: top;\n",
              "    }\n",
              "\n",
              "    .dataframe thead th {\n",
              "        text-align: right;\n",
              "    }\n",
              "</style>\n",
              "<table border=\"1\" class=\"dataframe\">\n",
              "  <thead>\n",
              "    <tr style=\"text-align: right;\">\n",
              "      <th></th>\n",
              "      <th></th>\n",
              "      <th></th>\n",
              "      <th>Quantity</th>\n",
              "      <th>TotalAmount</th>\n",
              "    </tr>\n",
              "    <tr>\n",
              "      <th>State</th>\n",
              "      <th>Category</th>\n",
              "      <th>Sub-Category</th>\n",
              "      <th></th>\n",
              "      <th></th>\n",
              "    </tr>\n",
              "  </thead>\n",
              "  <tbody>\n",
              "    <tr>\n",
              "      <th>Maine</th>\n",
              "      <th>Office Supplies</th>\n",
              "      <th>Paper</th>\n",
              "      <td>13.0</td>\n",
              "      <td>1755.84240</td>\n",
              "    </tr>\n",
              "    <tr>\n",
              "      <th>Vermont</th>\n",
              "      <th>Office Supplies</th>\n",
              "      <th>Storage</th>\n",
              "      <td>13.0</td>\n",
              "      <td>15048.46980</td>\n",
              "    </tr>\n",
              "    <tr>\n",
              "      <th>Nevada</th>\n",
              "      <th>Technology</th>\n",
              "      <th>Machines</th>\n",
              "      <td>10.0</td>\n",
              "      <td>22166.70000</td>\n",
              "    </tr>\n",
              "    <tr>\n",
              "      <th>Iowa</th>\n",
              "      <th>Furniture</th>\n",
              "      <th>Chairs</th>\n",
              "      <td>10.0</td>\n",
              "      <td>10138.32000</td>\n",
              "    </tr>\n",
              "    <tr>\n",
              "      <th>Utah</th>\n",
              "      <th>Technology</th>\n",
              "      <th>Accessories</th>\n",
              "      <td>9.5</td>\n",
              "      <td>727.36695</td>\n",
              "    </tr>\n",
              "    <tr>\n",
              "      <th>...</th>\n",
              "      <th>...</th>\n",
              "      <th>...</th>\n",
              "      <td>...</td>\n",
              "      <td>...</td>\n",
              "    </tr>\n",
              "    <tr>\n",
              "      <th>Alabama</th>\n",
              "      <th>Office Supplies</th>\n",
              "      <th>Appliances</th>\n",
              "      <td>1.0</td>\n",
              "      <td>151.95680</td>\n",
              "    </tr>\n",
              "    <tr>\n",
              "      <th>Minnesota</th>\n",
              "      <th>Technology</th>\n",
              "      <th>Copiers</th>\n",
              "      <td>1.0</td>\n",
              "      <td>274.99500</td>\n",
              "    </tr>\n",
              "    <tr>\n",
              "      <th>Connecticut</th>\n",
              "      <th>Furniture</th>\n",
              "      <th>Tables</th>\n",
              "      <td>1.0</td>\n",
              "      <td>135.98580</td>\n",
              "    </tr>\n",
              "    <tr>\n",
              "      <th>Missouri</th>\n",
              "      <th>Furniture</th>\n",
              "      <th>Chairs</th>\n",
              "      <td>1.0</td>\n",
              "      <td>45.66750</td>\n",
              "    </tr>\n",
              "    <tr>\n",
              "      <th>Nevada</th>\n",
              "      <th>Office Supplies</th>\n",
              "      <th>Fasteners</th>\n",
              "      <td>1.0</td>\n",
              "      <td>4.71000</td>\n",
              "    </tr>\n",
              "  </tbody>\n",
              "</table>\n",
              "<p>656 rows × 2 columns</p>\n",
              "</div>"
            ],
            "text/plain": [
              "                                          Quantity  TotalAmount\n",
              "State       Category        Sub-Category                       \n",
              "Maine       Office Supplies Paper             13.0   1755.84240\n",
              "Vermont     Office Supplies Storage           13.0  15048.46980\n",
              "Nevada      Technology      Machines          10.0  22166.70000\n",
              "Iowa        Furniture       Chairs            10.0  10138.32000\n",
              "Utah        Technology      Accessories        9.5    727.36695\n",
              "...                                            ...          ...\n",
              "Alabama     Office Supplies Appliances         1.0    151.95680\n",
              "Minnesota   Technology      Copiers            1.0    274.99500\n",
              "Connecticut Furniture       Tables             1.0    135.98580\n",
              "Missouri    Furniture       Chairs             1.0     45.66750\n",
              "Nevada      Office Supplies Fasteners          1.0      4.71000\n",
              "\n",
              "[656 rows x 2 columns]"
            ]
          },
          "metadata": {
            "tags": []
          },
          "execution_count": 80
        }
      ]
    },
    {
      "cell_type": "code",
      "metadata": {
        "colab": {
          "base_uri": "https://localhost:8080/",
          "height": 504
        },
        "id": "2DbF0jV8g7QJ",
        "outputId": "027fbb2a-2ff0-42f5-b086-c76383c9df57"
      },
      "source": [
        "# Sales max of each product per Quantity\n",
        "\n",
        "max_sales1 =df.groupby(['State','Category','Sub-Category'])['Quantity','TotalAmount'].max().sort_values(by = 'Quantity',ascending = False)\n",
        "max_sales1"
      ],
      "execution_count": 81,
      "outputs": [
        {
          "output_type": "stream",
          "text": [
            "/usr/local/lib/python3.7/dist-packages/ipykernel_launcher.py:3: FutureWarning: Indexing with multiple keys (implicitly converted to a tuple of keys) will be deprecated, use a list instead.\n",
            "  This is separate from the ipykernel package so we can avoid doing imports until\n"
          ],
          "name": "stderr"
        },
        {
          "output_type": "execute_result",
          "data": {
            "text/html": [
              "<div>\n",
              "<style scoped>\n",
              "    .dataframe tbody tr th:only-of-type {\n",
              "        vertical-align: middle;\n",
              "    }\n",
              "\n",
              "    .dataframe tbody tr th {\n",
              "        vertical-align: top;\n",
              "    }\n",
              "\n",
              "    .dataframe thead th {\n",
              "        text-align: right;\n",
              "    }\n",
              "</style>\n",
              "<table border=\"1\" class=\"dataframe\">\n",
              "  <thead>\n",
              "    <tr style=\"text-align: right;\">\n",
              "      <th></th>\n",
              "      <th></th>\n",
              "      <th></th>\n",
              "      <th>Quantity</th>\n",
              "      <th>TotalAmount</th>\n",
              "    </tr>\n",
              "    <tr>\n",
              "      <th>State</th>\n",
              "      <th>Category</th>\n",
              "      <th>Sub-Category</th>\n",
              "      <th></th>\n",
              "      <th></th>\n",
              "    </tr>\n",
              "  </thead>\n",
              "  <tbody>\n",
              "    <tr>\n",
              "      <th>Alabama</th>\n",
              "      <th>Furniture</th>\n",
              "      <th>Chairs</th>\n",
              "      <td>14</td>\n",
              "      <td>23185.0164</td>\n",
              "    </tr>\n",
              "    <tr>\n",
              "      <th>North Carolina</th>\n",
              "      <th>Office Supplies</th>\n",
              "      <th>Paper</th>\n",
              "      <td>14</td>\n",
              "      <td>2792.0592</td>\n",
              "    </tr>\n",
              "    <tr>\n",
              "      <th rowspan=\"3\" valign=\"top\">California</th>\n",
              "      <th rowspan=\"3\" valign=\"top\">Office Supplies</th>\n",
              "      <th>Appliances</th>\n",
              "      <td>14</td>\n",
              "      <td>16771.8114</td>\n",
              "    </tr>\n",
              "    <tr>\n",
              "      <th>Binders</th>\n",
              "      <td>14</td>\n",
              "      <td>15887.3750</td>\n",
              "    </tr>\n",
              "    <tr>\n",
              "      <th>Labels</th>\n",
              "      <td>14</td>\n",
              "      <td>3231.2952</td>\n",
              "    </tr>\n",
              "    <tr>\n",
              "      <th>...</th>\n",
              "      <th>...</th>\n",
              "      <th>...</th>\n",
              "      <td>...</td>\n",
              "      <td>...</td>\n",
              "    </tr>\n",
              "    <tr>\n",
              "      <th>Connecticut</th>\n",
              "      <th>Furniture</th>\n",
              "      <th>Tables</th>\n",
              "      <td>1</td>\n",
              "      <td>197.3796</td>\n",
              "    </tr>\n",
              "    <tr>\n",
              "      <th>Arkansas</th>\n",
              "      <th>Office Supplies</th>\n",
              "      <th>Labels</th>\n",
              "      <td>1</td>\n",
              "      <td>3.8743</td>\n",
              "    </tr>\n",
              "    <tr>\n",
              "      <th>Rhode Island</th>\n",
              "      <th>Office Supplies</th>\n",
              "      <th>Appliances</th>\n",
              "      <td>1</td>\n",
              "      <td>1.5540</td>\n",
              "    </tr>\n",
              "    <tr>\n",
              "      <th>Colorado</th>\n",
              "      <th>Technology</th>\n",
              "      <th>Copiers</th>\n",
              "      <td>1</td>\n",
              "      <td>274.9950</td>\n",
              "    </tr>\n",
              "    <tr>\n",
              "      <th>Missouri</th>\n",
              "      <th>Furniture</th>\n",
              "      <th>Chairs</th>\n",
              "      <td>1</td>\n",
              "      <td>45.6675</td>\n",
              "    </tr>\n",
              "  </tbody>\n",
              "</table>\n",
              "<p>656 rows × 2 columns</p>\n",
              "</div>"
            ],
            "text/plain": [
              "                                             Quantity  TotalAmount\n",
              "State          Category        Sub-Category                       \n",
              "Alabama        Furniture       Chairs              14   23185.0164\n",
              "North Carolina Office Supplies Paper               14    2792.0592\n",
              "California     Office Supplies Appliances          14   16771.8114\n",
              "                               Binders             14   15887.3750\n",
              "                               Labels              14    3231.2952\n",
              "...                                               ...          ...\n",
              "Connecticut    Furniture       Tables               1     197.3796\n",
              "Arkansas       Office Supplies Labels               1       3.8743\n",
              "Rhode Island   Office Supplies Appliances           1       1.5540\n",
              "Colorado       Technology      Copiers              1     274.9950\n",
              "Missouri       Furniture       Chairs               1      45.6675\n",
              "\n",
              "[656 rows x 2 columns]"
            ]
          },
          "metadata": {
            "tags": []
          },
          "execution_count": 81
        }
      ]
    },
    {
      "cell_type": "code",
      "metadata": {
        "colab": {
          "base_uri": "https://localhost:8080/",
          "height": 504
        },
        "id": "jbfqqpPDhJKb",
        "outputId": "5617c5aa-8de4-42ab-ef02-27d1a6c75794"
      },
      "source": [
        "# Sales min of each product per Quantity\n",
        "\n",
        "min_sales1 =df.groupby(['State','Category','Sub-Category'])['Quantity','TotalAmount'].min().sort_values(by = 'Quantity',ascending = True)\n",
        "min_sales1"
      ],
      "execution_count": 75,
      "outputs": [
        {
          "output_type": "stream",
          "text": [
            "/usr/local/lib/python3.7/dist-packages/ipykernel_launcher.py:3: FutureWarning: Indexing with multiple keys (implicitly converted to a tuple of keys) will be deprecated, use a list instead.\n",
            "  This is separate from the ipykernel package so we can avoid doing imports until\n"
          ],
          "name": "stderr"
        },
        {
          "output_type": "execute_result",
          "data": {
            "text/html": [
              "<div>\n",
              "<style scoped>\n",
              "    .dataframe tbody tr th:only-of-type {\n",
              "        vertical-align: middle;\n",
              "    }\n",
              "\n",
              "    .dataframe tbody tr th {\n",
              "        vertical-align: top;\n",
              "    }\n",
              "\n",
              "    .dataframe thead th {\n",
              "        text-align: right;\n",
              "    }\n",
              "</style>\n",
              "<table border=\"1\" class=\"dataframe\">\n",
              "  <thead>\n",
              "    <tr style=\"text-align: right;\">\n",
              "      <th></th>\n",
              "      <th></th>\n",
              "      <th></th>\n",
              "      <th>Quantity</th>\n",
              "      <th>TotalAmount</th>\n",
              "    </tr>\n",
              "    <tr>\n",
              "      <th>State</th>\n",
              "      <th>Category</th>\n",
              "      <th>Sub-Category</th>\n",
              "      <th></th>\n",
              "      <th></th>\n",
              "    </tr>\n",
              "  </thead>\n",
              "  <tbody>\n",
              "    <tr>\n",
              "      <th>Alabama</th>\n",
              "      <th>Furniture</th>\n",
              "      <th>Chairs</th>\n",
              "      <td>1</td>\n",
              "      <td>212.9400</td>\n",
              "    </tr>\n",
              "    <tr>\n",
              "      <th rowspan=\"4\" valign=\"top\">New York</th>\n",
              "      <th rowspan=\"4\" valign=\"top\">Furniture</th>\n",
              "      <th>Tables</th>\n",
              "      <td>1</td>\n",
              "      <td>124.7337</td>\n",
              "    </tr>\n",
              "    <tr>\n",
              "      <th>Furnishings</th>\n",
              "      <td>1</td>\n",
              "      <td>5.2398</td>\n",
              "    </tr>\n",
              "    <tr>\n",
              "      <th>Chairs</th>\n",
              "      <td>1</td>\n",
              "      <td>53.2350</td>\n",
              "    </tr>\n",
              "    <tr>\n",
              "      <th>Bookcases</th>\n",
              "      <td>1</td>\n",
              "      <td>45.2244</td>\n",
              "    </tr>\n",
              "    <tr>\n",
              "      <th>...</th>\n",
              "      <th>...</th>\n",
              "      <th>...</th>\n",
              "      <td>...</td>\n",
              "      <td>...</td>\n",
              "    </tr>\n",
              "    <tr>\n",
              "      <th>Arkansas</th>\n",
              "      <th>Furniture</th>\n",
              "      <th>Bookcases</th>\n",
              "      <td>9</td>\n",
              "      <td>4197.0474</td>\n",
              "    </tr>\n",
              "    <tr>\n",
              "      <th>Iowa</th>\n",
              "      <th>Furniture</th>\n",
              "      <th>Chairs</th>\n",
              "      <td>10</td>\n",
              "      <td>10138.3200</td>\n",
              "    </tr>\n",
              "    <tr>\n",
              "      <th>Nevada</th>\n",
              "      <th>Technology</th>\n",
              "      <th>Machines</th>\n",
              "      <td>10</td>\n",
              "      <td>22166.7000</td>\n",
              "    </tr>\n",
              "    <tr>\n",
              "      <th>Vermont</th>\n",
              "      <th>Office Supplies</th>\n",
              "      <th>Storage</th>\n",
              "      <td>13</td>\n",
              "      <td>15048.4698</td>\n",
              "    </tr>\n",
              "    <tr>\n",
              "      <th>Maine</th>\n",
              "      <th>Office Supplies</th>\n",
              "      <th>Paper</th>\n",
              "      <td>13</td>\n",
              "      <td>1755.8424</td>\n",
              "    </tr>\n",
              "  </tbody>\n",
              "</table>\n",
              "<p>656 rows × 2 columns</p>\n",
              "</div>"
            ],
            "text/plain": [
              "                                       Quantity  TotalAmount\n",
              "State    Category        Sub-Category                       \n",
              "Alabama  Furniture       Chairs               1     212.9400\n",
              "New York Furniture       Tables               1     124.7337\n",
              "                         Furnishings          1       5.2398\n",
              "                         Chairs               1      53.2350\n",
              "                         Bookcases            1      45.2244\n",
              "...                                         ...          ...\n",
              "Arkansas Furniture       Bookcases            9    4197.0474\n",
              "Iowa     Furniture       Chairs              10   10138.3200\n",
              "Nevada   Technology      Machines            10   22166.7000\n",
              "Vermont  Office Supplies Storage             13   15048.4698\n",
              "Maine    Office Supplies Paper               13    1755.8424\n",
              "\n",
              "[656 rows x 2 columns]"
            ]
          },
          "metadata": {
            "tags": []
          },
          "execution_count": 75
        }
      ]
    },
    {
      "cell_type": "code",
      "metadata": {
        "colab": {
          "base_uri": "https://localhost:8080/"
        },
        "id": "9wJUwc80kwiT",
        "outputId": "0e45f5b0-fe2e-4545-dfbe-8f00c71f21eb"
      },
      "source": [
        "cat=df.groupby('Sub-Category')['Quantity'].sum().sort_values(ascending = False)\n",
        "cat"
      ],
      "execution_count": 89,
      "outputs": [
        {
          "output_type": "execute_result",
          "data": {
            "text/plain": [
              "Sub-Category\n",
              "Binders        5974\n",
              "Paper          5178\n",
              "Furnishings    3563\n",
              "Phones         3289\n",
              "Storage        3158\n",
              "Art            3000\n",
              "Accessories    2976\n",
              "Chairs         2356\n",
              "Appliances     1729\n",
              "Labels         1400\n",
              "Tables         1241\n",
              "Fasteners       914\n",
              "Envelopes       906\n",
              "Bookcases       868\n",
              "Supplies        647\n",
              "Machines        440\n",
              "Copiers         234\n",
              "Name: Quantity, dtype: int64"
            ]
          },
          "metadata": {
            "tags": []
          },
          "execution_count": 89
        }
      ]
    },
    {
      "cell_type": "code",
      "metadata": {
        "colab": {
          "base_uri": "https://localhost:8080/",
          "height": 399
        },
        "id": "iC2w3PvEn1QD",
        "outputId": "7cbe1df8-1c3c-422c-de1d-206a431c38c9"
      },
      "source": [
        "cat.plot(kind = 'bar',color='orange',figsize=(10,5))\n"
      ],
      "execution_count": 98,
      "outputs": [
        {
          "output_type": "execute_result",
          "data": {
            "text/plain": [
              "<matplotlib.axes._subplots.AxesSubplot at 0x7f33f8876490>"
            ]
          },
          "metadata": {
            "tags": []
          },
          "execution_count": 98
        },
        {
          "output_type": "display_data",
          "data": {
            "image/png": "[encoded data removed]",
            "text/plain": [
              "<Figure size 720x360 with 1 Axes>"
            ]
          },
          "metadata": {
            "tags": [],
            "needs_background": "light"
          }
        }
      ]
    },
    {
      "cell_type": "code",
      "metadata": {
        "colab": {
          "base_uri": "https://localhost:8080/"
        },
        "id": "tP3BsuUtpxXb",
        "outputId": "e930abaa-1aa6-4c89-8c04-11c3029cc33d"
      },
      "source": [
        "cat1=df.groupby('Category')['Quantity'].sum().sort_values(ascending = False)\n",
        "cat1"
      ],
      "execution_count": 99,
      "outputs": [
        {
          "output_type": "execute_result",
          "data": {
            "text/plain": [
              "Category\n",
              "Office Supplies    22906\n",
              "Furniture           8028\n",
              "Technology          6939\n",
              "Name: Quantity, dtype: int64"
            ]
          },
          "metadata": {
            "tags": []
          },
          "execution_count": 99
        }
      ]
    },
    {
      "cell_type": "code",
      "metadata": {
        "colab": {
          "base_uri": "https://localhost:8080/",
          "height": 416
        },
        "id": "M7l8sQOAp_kh",
        "outputId": "4e432ac2-ba8c-40a7-bf43-621ffee4971a"
      },
      "source": [
        "cat1.plot(kind = 'bar',color='orange',figsize=(10,5))\n"
      ],
      "execution_count": 100,
      "outputs": [
        {
          "output_type": "execute_result",
          "data": {
            "text/plain": [
              "<matplotlib.axes._subplots.AxesSubplot at 0x7f33fa7df6d0>"
            ]
          },
          "metadata": {
            "tags": []
          },
          "execution_count": 100
        },
        {
          "output_type": "display_data",
          "data": {
            "image/png": "[encoded data removed]",
            "text/plain": [
              "<Figure size 720x360 with 1 Axes>"
            ]
          },
          "metadata": {
            "tags": [],
            "needs_background": "light"
          }
        }
      ]
    }
  ]
}